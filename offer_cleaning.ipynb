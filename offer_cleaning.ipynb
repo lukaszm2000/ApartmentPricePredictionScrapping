{
 "cells": [
  {
   "cell_type": "code",
   "execution_count": 181,
   "metadata": {},
   "outputs": [],
   "source": [
    "import pandas as pd\n",
    "import constants as const\n",
    "import seaborn as sns\n",
    "import matplotlib.pyplot as plt"
   ]
  },
  {
   "cell_type": "code",
   "execution_count": 182,
   "metadata": {},
   "outputs": [],
   "source": [
    "df = pd.read_csv(r\"C:\\Users\\Lukasz\\Desktop\\Projekty - CV\\Project - Otodom\\offers_details_2.csv\")"
   ]
  },
  {
   "cell_type": "code",
   "execution_count": 183,
   "metadata": {},
   "outputs": [
    {
     "data": {
      "text/html": [
       "<div>\n",
       "<style scoped>\n",
       "    .dataframe tbody tr th:only-of-type {\n",
       "        vertical-align: middle;\n",
       "    }\n",
       "\n",
       "    .dataframe tbody tr th {\n",
       "        vertical-align: top;\n",
       "    }\n",
       "\n",
       "    .dataframe thead th {\n",
       "        text-align: right;\n",
       "    }\n",
       "</style>\n",
       "<table border=\"1\" class=\"dataframe\">\n",
       "  <thead>\n",
       "    <tr style=\"text-align: right;\">\n",
       "      <th></th>\n",
       "      <th>Adres</th>\n",
       "      <th>Cena</th>\n",
       "      <th>Powierzchnia</th>\n",
       "      <th>Forma własności</th>\n",
       "      <th>Liczba pokoi</th>\n",
       "      <th>Stan wykończenia</th>\n",
       "      <th>Piętro</th>\n",
       "      <th>Balkon / ogród / taras</th>\n",
       "      <th>Czynsz</th>\n",
       "      <th>Miejsce parkingowe</th>\n",
       "      <th>...</th>\n",
       "      <th>Rok budowy</th>\n",
       "      <th>Rodzaj zabudowy</th>\n",
       "      <th>Okna</th>\n",
       "      <th>Winda</th>\n",
       "      <th>Media</th>\n",
       "      <th>Zabezpieczenia</th>\n",
       "      <th>Wyposażenie</th>\n",
       "      <th>Informacje dodatkowe</th>\n",
       "      <th>Materiał budynku</th>\n",
       "      <th>Link</th>\n",
       "    </tr>\n",
       "  </thead>\n",
       "  <tbody>\n",
       "    <tr>\n",
       "      <th>0</th>\n",
       "      <td>ul. Skarbka z Gór, Grodzisk, Białołęka, Warsza...</td>\n",
       "      <td>670 000 zł</td>\n",
       "      <td>48 m²</td>\n",
       "      <td>pełna własność</td>\n",
       "      <td>2</td>\n",
       "      <td>do zamieszkania</td>\n",
       "      <td>2/3</td>\n",
       "      <td>balkon</td>\n",
       "      <td>580 zł</td>\n",
       "      <td>garaż/miejsce parkingowe</td>\n",
       "      <td>...</td>\n",
       "      <td>2011.0</td>\n",
       "      <td>apartamentowiec</td>\n",
       "      <td>plastikowe</td>\n",
       "      <td>nie</td>\n",
       "      <td>telewizja kablowa, internet, telefon</td>\n",
       "      <td>teren zamknięty, domofon / wideofon, monitorin...</td>\n",
       "      <td>zmywarka, lodówka, meble, piekarnik, kuchenka,...</td>\n",
       "      <td>klimatyzacja, oddzielna kuchnia</td>\n",
       "      <td>beton</td>\n",
       "      <td>https://www.otodom.pl/pl/oferta/48m2-blisko-ce...</td>\n",
       "    </tr>\n",
       "    <tr>\n",
       "      <th>1</th>\n",
       "      <td>ul. Krasnobrodzka 17, Bródno-Podgrodzie, Targó...</td>\n",
       "      <td>765 000 zł</td>\n",
       "      <td>47 m²</td>\n",
       "      <td>pełna własność</td>\n",
       "      <td>2</td>\n",
       "      <td>do zamieszkania</td>\n",
       "      <td>7/10</td>\n",
       "      <td>balkon</td>\n",
       "      <td>NaN</td>\n",
       "      <td>NaN</td>\n",
       "      <td>...</td>\n",
       "      <td>NaN</td>\n",
       "      <td>blok</td>\n",
       "      <td>plastikowe</td>\n",
       "      <td>tak</td>\n",
       "      <td>NaN</td>\n",
       "      <td>NaN</td>\n",
       "      <td>zmywarka, lodówka, piekarnik, kuchenka, pralka</td>\n",
       "      <td>piwnica, oddzielna kuchnia</td>\n",
       "      <td>NaN</td>\n",
       "      <td>https://www.otodom.pl/pl/oferta/po-generalnym-...</td>\n",
       "    </tr>\n",
       "    <tr>\n",
       "      <th>2</th>\n",
       "      <td>ul. Okopowa, Nowolipki, Wola, Warszawa, mazowi...</td>\n",
       "      <td>920 000 zł</td>\n",
       "      <td>46 m²</td>\n",
       "      <td>pełna własność</td>\n",
       "      <td>3</td>\n",
       "      <td>do zamieszkania</td>\n",
       "      <td>1/10</td>\n",
       "      <td>balkon</td>\n",
       "      <td>NaN</td>\n",
       "      <td>NaN</td>\n",
       "      <td>...</td>\n",
       "      <td>1969.0</td>\n",
       "      <td>blok</td>\n",
       "      <td>plastikowe</td>\n",
       "      <td>tak</td>\n",
       "      <td>NaN</td>\n",
       "      <td>domofon / wideofon</td>\n",
       "      <td>meble, pralka, lodówka, piekarnik, zmywarka, k...</td>\n",
       "      <td>piwnica</td>\n",
       "      <td>NaN</td>\n",
       "      <td>https://www.otodom.pl/pl/oferta/5-minut-do-war...</td>\n",
       "    </tr>\n",
       "    <tr>\n",
       "      <th>3</th>\n",
       "      <td>ul. Grójecka, Stara Ochota, Ochota, Warszawa, ...</td>\n",
       "      <td>399 900 zł</td>\n",
       "      <td>18,24 m²</td>\n",
       "      <td>pełna własność</td>\n",
       "      <td>1</td>\n",
       "      <td>do zamieszkania</td>\n",
       "      <td>1/6</td>\n",
       "      <td>NaN</td>\n",
       "      <td>488 zł</td>\n",
       "      <td>NaN</td>\n",
       "      <td>...</td>\n",
       "      <td>1958.0</td>\n",
       "      <td>kamienica</td>\n",
       "      <td>plastikowe</td>\n",
       "      <td>tak</td>\n",
       "      <td>telewizja kablowa, internet, telefon</td>\n",
       "      <td>drzwi / okna antywłamaniowe, domofon / wideofo...</td>\n",
       "      <td>lodówka, meble, kuchenka</td>\n",
       "      <td>piwnica</td>\n",
       "      <td>cegła</td>\n",
       "      <td>https://www.otodom.pl/pl/oferta/ksiega-wieczys...</td>\n",
       "    </tr>\n",
       "    <tr>\n",
       "      <th>4</th>\n",
       "      <td>ul. ks. Juliana Chrościckiego, Nowe Włochy, Wł...</td>\n",
       "      <td>1 149 000 zł</td>\n",
       "      <td>72,49 m²</td>\n",
       "      <td>pełna własność</td>\n",
       "      <td>3</td>\n",
       "      <td>NaN</td>\n",
       "      <td>4/5</td>\n",
       "      <td>balkon</td>\n",
       "      <td>800 zł</td>\n",
       "      <td>garaż/miejsce parkingowe</td>\n",
       "      <td>...</td>\n",
       "      <td>2016.0</td>\n",
       "      <td>blok</td>\n",
       "      <td>NaN</td>\n",
       "      <td>nie</td>\n",
       "      <td>NaN</td>\n",
       "      <td>drzwi / okna antywłamaniowe, domofon / wideofo...</td>\n",
       "      <td>NaN</td>\n",
       "      <td>pom. użytkowe</td>\n",
       "      <td>NaN</td>\n",
       "      <td>https://www.otodom.pl/pl/oferta/nowe-3-pokoje-...</td>\n",
       "    </tr>\n",
       "  </tbody>\n",
       "</table>\n",
       "<p>5 rows × 25 columns</p>\n",
       "</div>"
      ],
      "text/plain": [
       "                                               Adres          Cena  \\\n",
       "0  ul. Skarbka z Gór, Grodzisk, Białołęka, Warsza...    670 000 zł   \n",
       "1  ul. Krasnobrodzka 17, Bródno-Podgrodzie, Targó...    765 000 zł   \n",
       "2  ul. Okopowa, Nowolipki, Wola, Warszawa, mazowi...    920 000 zł   \n",
       "3  ul. Grójecka, Stara Ochota, Ochota, Warszawa, ...    399 900 zł   \n",
       "4  ul. ks. Juliana Chrościckiego, Nowe Włochy, Wł...  1 149 000 zł   \n",
       "\n",
       "  Powierzchnia Forma własności  Liczba pokoi Stan wykończenia Piętro  \\\n",
       "0        48 m²  pełna własność             2  do zamieszkania    2/3   \n",
       "1        47 m²  pełna własność             2  do zamieszkania   7/10   \n",
       "2        46 m²  pełna własność             3  do zamieszkania   1/10   \n",
       "3     18,24 m²  pełna własność             1  do zamieszkania    1/6   \n",
       "4     72,49 m²  pełna własność             3              NaN    4/5   \n",
       "\n",
       "  Balkon / ogród / taras  Czynsz        Miejsce parkingowe  ... Rok budowy  \\\n",
       "0                 balkon  580 zł  garaż/miejsce parkingowe  ...     2011.0   \n",
       "1                 balkon     NaN                       NaN  ...        NaN   \n",
       "2                 balkon     NaN                       NaN  ...     1969.0   \n",
       "3                    NaN  488 zł                       NaN  ...     1958.0   \n",
       "4                 balkon  800 zł  garaż/miejsce parkingowe  ...     2016.0   \n",
       "\n",
       "   Rodzaj zabudowy        Okna Winda                                 Media  \\\n",
       "0  apartamentowiec  plastikowe   nie  telewizja kablowa, internet, telefon   \n",
       "1             blok  plastikowe   tak                                   NaN   \n",
       "2             blok  plastikowe   tak                                   NaN   \n",
       "3        kamienica  plastikowe   tak  telewizja kablowa, internet, telefon   \n",
       "4             blok         NaN   nie                                   NaN   \n",
       "\n",
       "                                      Zabezpieczenia  \\\n",
       "0  teren zamknięty, domofon / wideofon, monitorin...   \n",
       "1                                                NaN   \n",
       "2                                 domofon / wideofon   \n",
       "3  drzwi / okna antywłamaniowe, domofon / wideofo...   \n",
       "4  drzwi / okna antywłamaniowe, domofon / wideofo...   \n",
       "\n",
       "                                         Wyposażenie  \\\n",
       "0  zmywarka, lodówka, meble, piekarnik, kuchenka,...   \n",
       "1     zmywarka, lodówka, piekarnik, kuchenka, pralka   \n",
       "2  meble, pralka, lodówka, piekarnik, zmywarka, k...   \n",
       "3                           lodówka, meble, kuchenka   \n",
       "4                                                NaN   \n",
       "\n",
       "              Informacje dodatkowe Materiał budynku  \\\n",
       "0  klimatyzacja, oddzielna kuchnia            beton   \n",
       "1       piwnica, oddzielna kuchnia              NaN   \n",
       "2                          piwnica              NaN   \n",
       "3                          piwnica            cegła   \n",
       "4                    pom. użytkowe              NaN   \n",
       "\n",
       "                                                Link  \n",
       "0  https://www.otodom.pl/pl/oferta/48m2-blisko-ce...  \n",
       "1  https://www.otodom.pl/pl/oferta/po-generalnym-...  \n",
       "2  https://www.otodom.pl/pl/oferta/5-minut-do-war...  \n",
       "3  https://www.otodom.pl/pl/oferta/ksiega-wieczys...  \n",
       "4  https://www.otodom.pl/pl/oferta/nowe-3-pokoje-...  \n",
       "\n",
       "[5 rows x 25 columns]"
      ]
     },
     "execution_count": 183,
     "metadata": {},
     "output_type": "execute_result"
    }
   ],
   "source": [
    "df.head()"
   ]
  },
  {
   "cell_type": "code",
   "execution_count": 184,
   "metadata": {},
   "outputs": [
    {
     "name": "stdout",
     "output_type": "stream",
     "text": [
      "<class 'pandas.core.frame.DataFrame'>\n",
      "RangeIndex: 4907 entries, 0 to 4906\n",
      "Data columns (total 25 columns):\n",
      " #   Column                   Non-Null Count  Dtype  \n",
      "---  ------                   --------------  -----  \n",
      " 0   Adres                    4907 non-null   object \n",
      " 1   Cena                     4907 non-null   object \n",
      " 2   Powierzchnia             4907 non-null   object \n",
      " 3   Forma własności          4076 non-null   object \n",
      " 4   Liczba pokoi             4907 non-null   int64  \n",
      " 5   Stan wykończenia         4301 non-null   object \n",
      " 6   Piętro                   4849 non-null   object \n",
      " 7   Balkon / ogród / taras   3455 non-null   object \n",
      " 8   Czynsz                   3037 non-null   object \n",
      " 9   Miejsce parkingowe       2815 non-null   object \n",
      " 10  Ogrzewanie               3665 non-null   object \n",
      " 11  Certyfikat energetyczny  723 non-null    object \n",
      " 12  Rynek                    4404 non-null   object \n",
      " 13  Typ ogłoszeniodawcy      4404 non-null   object \n",
      " 14  Dostępne od              1289 non-null   object \n",
      " 15  Rok budowy               4043 non-null   float64\n",
      " 16  Rodzaj zabudowy          3918 non-null   object \n",
      " 17  Okna                     2989 non-null   object \n",
      " 18  Winda                    4404 non-null   object \n",
      " 19  Media                    2305 non-null   object \n",
      " 20  Zabezpieczenia           3453 non-null   object \n",
      " 21  Wyposażenie              2521 non-null   object \n",
      " 22  Informacje dodatkowe     2811 non-null   object \n",
      " 23  Materiał budynku         2560 non-null   object \n",
      " 24  Link                     4907 non-null   object \n",
      "dtypes: float64(1), int64(1), object(23)\n",
      "memory usage: 958.5+ KB\n"
     ]
    }
   ],
   "source": [
    "df.info()"
   ]
  },
  {
   "cell_type": "code",
   "execution_count": 185,
   "metadata": {},
   "outputs": [
    {
     "data": {
      "text/html": [
       "<div>\n",
       "<style scoped>\n",
       "    .dataframe tbody tr th:only-of-type {\n",
       "        vertical-align: middle;\n",
       "    }\n",
       "\n",
       "    .dataframe tbody tr th {\n",
       "        vertical-align: top;\n",
       "    }\n",
       "\n",
       "    .dataframe thead th {\n",
       "        text-align: right;\n",
       "    }\n",
       "</style>\n",
       "<table border=\"1\" class=\"dataframe\">\n",
       "  <thead>\n",
       "    <tr style=\"text-align: right;\">\n",
       "      <th></th>\n",
       "      <th>Liczba pokoi</th>\n",
       "      <th>Rok budowy</th>\n",
       "    </tr>\n",
       "  </thead>\n",
       "  <tbody>\n",
       "    <tr>\n",
       "      <th>count</th>\n",
       "      <td>4907.000000</td>\n",
       "      <td>4043.000000</td>\n",
       "    </tr>\n",
       "    <tr>\n",
       "      <th>mean</th>\n",
       "      <td>2.539433</td>\n",
       "      <td>1991.371754</td>\n",
       "    </tr>\n",
       "    <tr>\n",
       "      <th>std</th>\n",
       "      <td>0.943482</td>\n",
       "      <td>53.590380</td>\n",
       "    </tr>\n",
       "    <tr>\n",
       "      <th>min</th>\n",
       "      <td>1.000000</td>\n",
       "      <td>2.000000</td>\n",
       "    </tr>\n",
       "    <tr>\n",
       "      <th>25%</th>\n",
       "      <td>2.000000</td>\n",
       "      <td>1970.000000</td>\n",
       "    </tr>\n",
       "    <tr>\n",
       "      <th>50%</th>\n",
       "      <td>2.000000</td>\n",
       "      <td>2002.000000</td>\n",
       "    </tr>\n",
       "    <tr>\n",
       "      <th>75%</th>\n",
       "      <td>3.000000</td>\n",
       "      <td>2018.000000</td>\n",
       "    </tr>\n",
       "    <tr>\n",
       "      <th>max</th>\n",
       "      <td>10.000000</td>\n",
       "      <td>2026.000000</td>\n",
       "    </tr>\n",
       "  </tbody>\n",
       "</table>\n",
       "</div>"
      ],
      "text/plain": [
       "       Liczba pokoi   Rok budowy\n",
       "count   4907.000000  4043.000000\n",
       "mean       2.539433  1991.371754\n",
       "std        0.943482    53.590380\n",
       "min        1.000000     2.000000\n",
       "25%        2.000000  1970.000000\n",
       "50%        2.000000  2002.000000\n",
       "75%        3.000000  2018.000000\n",
       "max       10.000000  2026.000000"
      ]
     },
     "execution_count": 185,
     "metadata": {},
     "output_type": "execute_result"
    }
   ],
   "source": [
    "df.describe()"
   ]
  },
  {
   "cell_type": "code",
   "execution_count": 186,
   "metadata": {},
   "outputs": [
    {
     "data": {
      "text/plain": [
       "4907"
      ]
     },
     "execution_count": 186,
     "metadata": {},
     "output_type": "execute_result"
    }
   ],
   "source": [
    "len(df)"
   ]
  },
  {
   "cell_type": "code",
   "execution_count": 187,
   "metadata": {},
   "outputs": [
    {
     "data": {
      "text/plain": [
       "Adres                         0\n",
       "Cena                          0\n",
       "Powierzchnia                  0\n",
       "Forma własności             831\n",
       "Liczba pokoi                  0\n",
       "Stan wykończenia            606\n",
       "Piętro                       58\n",
       "Balkon / ogród / taras     1452\n",
       "Czynsz                     1870\n",
       "Miejsce parkingowe         2092\n",
       "Ogrzewanie                 1242\n",
       "Certyfikat energetyczny    4184\n",
       "Rynek                       503\n",
       "Typ ogłoszeniodawcy         503\n",
       "Dostępne od                3618\n",
       "Rok budowy                  864\n",
       "Rodzaj zabudowy             989\n",
       "Okna                       1918\n",
       "Winda                       503\n",
       "Media                      2602\n",
       "Zabezpieczenia             1454\n",
       "Wyposażenie                2386\n",
       "Informacje dodatkowe       2096\n",
       "Materiał budynku           2347\n",
       "Link                          0\n",
       "dtype: int64"
      ]
     },
     "execution_count": 187,
     "metadata": {},
     "output_type": "execute_result"
    }
   ],
   "source": [
    "df.isnull().sum()"
   ]
  },
  {
   "cell_type": "code",
   "execution_count": 188,
   "metadata": {},
   "outputs": [
    {
     "data": {
      "text/plain": [
       "4891"
      ]
     },
     "execution_count": 188,
     "metadata": {},
     "output_type": "execute_result"
    }
   ],
   "source": [
    "df.isnull().any(axis=1).sum()"
   ]
  },
  {
   "cell_type": "code",
   "execution_count": 189,
   "metadata": {},
   "outputs": [
    {
     "data": {
      "text/plain": [
       "Index(['Adres', 'Cena', 'Powierzchnia', 'Forma własności', 'Liczba pokoi',\n",
       "       'Stan wykończenia', 'Piętro', 'Balkon / ogród / taras', 'Czynsz',\n",
       "       'Miejsce parkingowe', 'Ogrzewanie', 'Certyfikat energetyczny', 'Rynek',\n",
       "       'Typ ogłoszeniodawcy', 'Dostępne od', 'Rok budowy', 'Rodzaj zabudowy',\n",
       "       'Okna', 'Winda', 'Media', 'Zabezpieczenia', 'Wyposażenie',\n",
       "       'Informacje dodatkowe', 'Materiał budynku', 'Link'],\n",
       "      dtype='object')"
      ]
     },
     "execution_count": 189,
     "metadata": {},
     "output_type": "execute_result"
    }
   ],
   "source": [
    "df.columns"
   ]
  },
  {
   "cell_type": "code",
   "execution_count": 190,
   "metadata": {},
   "outputs": [
    {
     "data": {
      "text/plain": [
       "0       ul. Skarbka z Gór, Grodzisk, Białołęka, Warsza...\n",
       "1       ul. Krasnobrodzka 17, Bródno-Podgrodzie, Targó...\n",
       "2       ul. Okopowa, Nowolipki, Wola, Warszawa, mazowi...\n",
       "3       ul. Grójecka, Stara Ochota, Ochota, Warszawa, ...\n",
       "4       ul. ks. Juliana Chrościckiego, Nowe Włochy, Wł...\n",
       "                              ...                        \n",
       "4902    ul. Smoleńska, Targówek Mieszkaniowy, Targówek...\n",
       "4903    ul. J. R. R. Tolkiena, Służewiec, Mokotów, War...\n",
       "4904    al. Aleja Niepodległości, Stary Mokotów, Mokot...\n",
       "4905    ul. Synów Pułku, Jelonki Południowe, Bemowo, W...\n",
       "4906    ul. Astronautów, Okęcie, Włochy, Warszawa, maz...\n",
       "Name: Adres, Length: 4907, dtype: object"
      ]
     },
     "execution_count": 190,
     "metadata": {},
     "output_type": "execute_result"
    }
   ],
   "source": [
    "df['Adres']"
   ]
  },
  {
   "cell_type": "code",
   "execution_count": 191,
   "metadata": {},
   "outputs": [
    {
     "data": {
      "text/html": [
       "<div>\n",
       "<style scoped>\n",
       "    .dataframe tbody tr th:only-of-type {\n",
       "        vertical-align: middle;\n",
       "    }\n",
       "\n",
       "    .dataframe tbody tr th {\n",
       "        vertical-align: top;\n",
       "    }\n",
       "\n",
       "    .dataframe thead th {\n",
       "        text-align: right;\n",
       "    }\n",
       "</style>\n",
       "<table border=\"1\" class=\"dataframe\">\n",
       "  <thead>\n",
       "    <tr style=\"text-align: right;\">\n",
       "      <th></th>\n",
       "      <th>Adres</th>\n",
       "      <th>Cena</th>\n",
       "      <th>Powierzchnia</th>\n",
       "      <th>Forma własności</th>\n",
       "      <th>Liczba pokoi</th>\n",
       "      <th>Stan wykończenia</th>\n",
       "      <th>Piętro</th>\n",
       "      <th>Balkon / ogród / taras</th>\n",
       "      <th>Czynsz</th>\n",
       "      <th>Miejsce parkingowe</th>\n",
       "      <th>...</th>\n",
       "      <th>Rok budowy</th>\n",
       "      <th>Rodzaj zabudowy</th>\n",
       "      <th>Okna</th>\n",
       "      <th>Winda</th>\n",
       "      <th>Media</th>\n",
       "      <th>Zabezpieczenia</th>\n",
       "      <th>Wyposażenie</th>\n",
       "      <th>Informacje dodatkowe</th>\n",
       "      <th>Materiał budynku</th>\n",
       "      <th>Link</th>\n",
       "    </tr>\n",
       "  </thead>\n",
       "  <tbody>\n",
       "    <tr>\n",
       "      <th>8</th>\n",
       "      <td>Targówek, ul. Wierna, Osiedle Wilno, Targówek ...</td>\n",
       "      <td>825 000 zł</td>\n",
       "      <td>46,6 m²</td>\n",
       "      <td>pełna własność</td>\n",
       "      <td>2</td>\n",
       "      <td>do zamieszkania</td>\n",
       "      <td>1/3</td>\n",
       "      <td>balkon</td>\n",
       "      <td>794 zł</td>\n",
       "      <td>garaż/miejsce parkingowe</td>\n",
       "      <td>...</td>\n",
       "      <td>2022.0</td>\n",
       "      <td>blok</td>\n",
       "      <td>plastikowe</td>\n",
       "      <td>tak</td>\n",
       "      <td>telewizja kablowa, internet</td>\n",
       "      <td>drzwi / okna antywłamaniowe, teren zamknięty, ...</td>\n",
       "      <td>zmywarka, piekarnik, kuchenka</td>\n",
       "      <td>klimatyzacja</td>\n",
       "      <td>pustak</td>\n",
       "      <td>https://www.otodom.pl/pl/oferta/bezposrednio-o...</td>\n",
       "    </tr>\n",
       "    <tr>\n",
       "      <th>9</th>\n",
       "      <td>Optyków, Gocław, Praga-Południe, Warszawa, maz...</td>\n",
       "      <td>1 050 000 zł</td>\n",
       "      <td>44,69 m²</td>\n",
       "      <td>pełna własność</td>\n",
       "      <td>2</td>\n",
       "      <td>do zamieszkania</td>\n",
       "      <td>4/6</td>\n",
       "      <td>balkon, taras</td>\n",
       "      <td>550 zł</td>\n",
       "      <td>garaż/miejsce parkingowe</td>\n",
       "      <td>...</td>\n",
       "      <td>2022.0</td>\n",
       "      <td>blok</td>\n",
       "      <td>plastikowe</td>\n",
       "      <td>tak</td>\n",
       "      <td>telewizja kablowa, internet, telefon</td>\n",
       "      <td>drzwi / okna antywłamaniowe, domofon / wideofo...</td>\n",
       "      <td>zmywarka, lodówka, meble, piekarnik, kuchenka,...</td>\n",
       "      <td>klimatyzacja</td>\n",
       "      <td>cegła</td>\n",
       "      <td>https://www.otodom.pl/pl/oferta/nowe-elegancko...</td>\n",
       "    </tr>\n",
       "    <tr>\n",
       "      <th>10</th>\n",
       "      <td>al. Aleja Niepodległości, Stary Mokotów, Mokot...</td>\n",
       "      <td>839 000 zł</td>\n",
       "      <td>43 m²</td>\n",
       "      <td>NaN</td>\n",
       "      <td>2</td>\n",
       "      <td>NaN</td>\n",
       "      <td>parter/6</td>\n",
       "      <td>NaN</td>\n",
       "      <td>NaN</td>\n",
       "      <td>NaN</td>\n",
       "      <td>...</td>\n",
       "      <td>1950.0</td>\n",
       "      <td>NaN</td>\n",
       "      <td>NaN</td>\n",
       "      <td>nie</td>\n",
       "      <td>NaN</td>\n",
       "      <td>NaN</td>\n",
       "      <td>NaN</td>\n",
       "      <td>NaN</td>\n",
       "      <td>NaN</td>\n",
       "      <td>https://www.otodom.pl/pl/oferta/2pokoje-43m2-m...</td>\n",
       "    </tr>\n",
       "    <tr>\n",
       "      <th>13</th>\n",
       "      <td>al. Aleja Krakowska, Raków, Włochy, Warszawa, ...</td>\n",
       "      <td>1 389 000 zł</td>\n",
       "      <td>81 m²</td>\n",
       "      <td>pełna własność</td>\n",
       "      <td>4</td>\n",
       "      <td>do wykończenia</td>\n",
       "      <td>8/8</td>\n",
       "      <td>balkon</td>\n",
       "      <td>NaN</td>\n",
       "      <td>garaż/miejsce parkingowe</td>\n",
       "      <td>...</td>\n",
       "      <td>2024.0</td>\n",
       "      <td>blok</td>\n",
       "      <td>plastikowe</td>\n",
       "      <td>nie</td>\n",
       "      <td>telewizja kablowa, internet, telefon</td>\n",
       "      <td>drzwi / okna antywłamaniowe, teren zamknięty, ...</td>\n",
       "      <td>NaN</td>\n",
       "      <td>klimatyzacja</td>\n",
       "      <td>silikat</td>\n",
       "      <td>https://www.otodom.pl/pl/oferta/4-pok-mieszkan...</td>\n",
       "    </tr>\n",
       "    <tr>\n",
       "      <th>20</th>\n",
       "      <td>al. Aleja 3 Maja, Solec, Śródmieście, Warszawa...</td>\n",
       "      <td>2 200 000 zł</td>\n",
       "      <td>103 m²</td>\n",
       "      <td>NaN</td>\n",
       "      <td>3</td>\n",
       "      <td>do remontu</td>\n",
       "      <td>parter/5</td>\n",
       "      <td>NaN</td>\n",
       "      <td>1 000 zł</td>\n",
       "      <td>garaż/miejsce parkingowe</td>\n",
       "      <td>...</td>\n",
       "      <td>1931.0</td>\n",
       "      <td>kamienica</td>\n",
       "      <td>NaN</td>\n",
       "      <td>tak</td>\n",
       "      <td>NaN</td>\n",
       "      <td>monitoring / ochrona</td>\n",
       "      <td>NaN</td>\n",
       "      <td>piwnica</td>\n",
       "      <td>cegła</td>\n",
       "      <td>https://www.otodom.pl/pl/oferta/kamienica-proj...</td>\n",
       "    </tr>\n",
       "    <tr>\n",
       "      <th>...</th>\n",
       "      <td>...</td>\n",
       "      <td>...</td>\n",
       "      <td>...</td>\n",
       "      <td>...</td>\n",
       "      <td>...</td>\n",
       "      <td>...</td>\n",
       "      <td>...</td>\n",
       "      <td>...</td>\n",
       "      <td>...</td>\n",
       "      <td>...</td>\n",
       "      <td>...</td>\n",
       "      <td>...</td>\n",
       "      <td>...</td>\n",
       "      <td>...</td>\n",
       "      <td>...</td>\n",
       "      <td>...</td>\n",
       "      <td>...</td>\n",
       "      <td>...</td>\n",
       "      <td>...</td>\n",
       "      <td>...</td>\n",
       "      <td>...</td>\n",
       "    </tr>\n",
       "    <tr>\n",
       "      <th>4892</th>\n",
       "      <td>Nowolipki, Wola, Warszawa, mazowieckie</td>\n",
       "      <td>740 000 zł</td>\n",
       "      <td>48 m²</td>\n",
       "      <td>pełna własność</td>\n",
       "      <td>2</td>\n",
       "      <td>do remontu</td>\n",
       "      <td>parter/8</td>\n",
       "      <td>NaN</td>\n",
       "      <td>600 zł</td>\n",
       "      <td>NaN</td>\n",
       "      <td>...</td>\n",
       "      <td>1960.0</td>\n",
       "      <td>blok</td>\n",
       "      <td>NaN</td>\n",
       "      <td>tak</td>\n",
       "      <td>telewizja kablowa, internet</td>\n",
       "      <td>NaN</td>\n",
       "      <td>meble</td>\n",
       "      <td>piwnica, oddzielna kuchnia</td>\n",
       "      <td>cegła</td>\n",
       "      <td>https://www.otodom.pl/pl/oferta/dwa-pokoje-na-...</td>\n",
       "    </tr>\n",
       "    <tr>\n",
       "      <th>4895</th>\n",
       "      <td>Śródmieście Północne, Śródmieście, Warszawa, m...</td>\n",
       "      <td>910 000 zł</td>\n",
       "      <td>44 m²</td>\n",
       "      <td>pełna własność</td>\n",
       "      <td>3</td>\n",
       "      <td>do zamieszkania</td>\n",
       "      <td>1/4</td>\n",
       "      <td>balkon</td>\n",
       "      <td>900 zł</td>\n",
       "      <td>NaN</td>\n",
       "      <td>...</td>\n",
       "      <td>1958.0</td>\n",
       "      <td>blok</td>\n",
       "      <td>NaN</td>\n",
       "      <td>tak</td>\n",
       "      <td>NaN</td>\n",
       "      <td>monitoring / ochrona</td>\n",
       "      <td>NaN</td>\n",
       "      <td>piwnica</td>\n",
       "      <td>cegła</td>\n",
       "      <td>https://www.otodom.pl/pl/oferta/blisko-metra-b...</td>\n",
       "    </tr>\n",
       "    <tr>\n",
       "      <th>4897</th>\n",
       "      <td>Nowolipki, Wola, Warszawa, mazowieckie</td>\n",
       "      <td>1 500 000 zł</td>\n",
       "      <td>72 m²</td>\n",
       "      <td>pełna własność</td>\n",
       "      <td>3</td>\n",
       "      <td>do zamieszkania</td>\n",
       "      <td>6/11</td>\n",
       "      <td>NaN</td>\n",
       "      <td>650 zł</td>\n",
       "      <td>garaż/miejsce parkingowe</td>\n",
       "      <td>...</td>\n",
       "      <td>2002.0</td>\n",
       "      <td>apartamentowiec</td>\n",
       "      <td>plastikowe</td>\n",
       "      <td>tak</td>\n",
       "      <td>NaN</td>\n",
       "      <td>monitoring / ochrona, domofon / wideofon</td>\n",
       "      <td>NaN</td>\n",
       "      <td>NaN</td>\n",
       "      <td>beton</td>\n",
       "      <td>https://www.otodom.pl/pl/oferta/piekne-mieszka...</td>\n",
       "    </tr>\n",
       "    <tr>\n",
       "      <th>4898</th>\n",
       "      <td>Zygmunta Hübnera, Sady Żoliborskie, Żoliborz, ...</td>\n",
       "      <td>2 000 000 zł</td>\n",
       "      <td>66 m²</td>\n",
       "      <td>pełna własność</td>\n",
       "      <td>3</td>\n",
       "      <td>do zamieszkania</td>\n",
       "      <td>4/8</td>\n",
       "      <td>balkon</td>\n",
       "      <td>600 zł</td>\n",
       "      <td>garaż/miejsce parkingowe</td>\n",
       "      <td>...</td>\n",
       "      <td>2021.0</td>\n",
       "      <td>blok</td>\n",
       "      <td>plastikowe</td>\n",
       "      <td>tak</td>\n",
       "      <td>telewizja kablowa, internet, telefon</td>\n",
       "      <td>drzwi / okna antywłamaniowe, teren zamknięty, ...</td>\n",
       "      <td>zmywarka, lodówka, meble, piekarnik, kuchenka,...</td>\n",
       "      <td>klimatyzacja</td>\n",
       "      <td>cegła</td>\n",
       "      <td>https://www.otodom.pl/pl/oferta/mieszkanie-war...</td>\n",
       "    </tr>\n",
       "    <tr>\n",
       "      <th>4904</th>\n",
       "      <td>al. Aleja Niepodległości, Stary Mokotów, Mokot...</td>\n",
       "      <td>599 000 zł</td>\n",
       "      <td>36 m²</td>\n",
       "      <td>pełna własność</td>\n",
       "      <td>1</td>\n",
       "      <td>do zamieszkania</td>\n",
       "      <td>1/6</td>\n",
       "      <td>NaN</td>\n",
       "      <td>590 zł</td>\n",
       "      <td>garaż/miejsce parkingowe</td>\n",
       "      <td>...</td>\n",
       "      <td>1955.0</td>\n",
       "      <td>kamienica</td>\n",
       "      <td>plastikowe</td>\n",
       "      <td>tak</td>\n",
       "      <td>NaN</td>\n",
       "      <td>monitoring / ochrona</td>\n",
       "      <td>meble</td>\n",
       "      <td>piwnica</td>\n",
       "      <td>cegła</td>\n",
       "      <td>https://www.otodom.pl/pl/oferta/stary-mokotow-...</td>\n",
       "    </tr>\n",
       "  </tbody>\n",
       "</table>\n",
       "<p>1293 rows × 25 columns</p>\n",
       "</div>"
      ],
      "text/plain": [
       "                                                  Adres          Cena  \\\n",
       "8     Targówek, ul. Wierna, Osiedle Wilno, Targówek ...    825 000 zł   \n",
       "9     Optyków, Gocław, Praga-Południe, Warszawa, maz...  1 050 000 zł   \n",
       "10    al. Aleja Niepodległości, Stary Mokotów, Mokot...    839 000 zł   \n",
       "13    al. Aleja Krakowska, Raków, Włochy, Warszawa, ...  1 389 000 zł   \n",
       "20    al. Aleja 3 Maja, Solec, Śródmieście, Warszawa...  2 200 000 zł   \n",
       "...                                                 ...           ...   \n",
       "4892             Nowolipki, Wola, Warszawa, mazowieckie    740 000 zł   \n",
       "4895  Śródmieście Północne, Śródmieście, Warszawa, m...    910 000 zł   \n",
       "4897             Nowolipki, Wola, Warszawa, mazowieckie  1 500 000 zł   \n",
       "4898  Zygmunta Hübnera, Sady Żoliborskie, Żoliborz, ...  2 000 000 zł   \n",
       "4904  al. Aleja Niepodległości, Stary Mokotów, Mokot...    599 000 zł   \n",
       "\n",
       "     Powierzchnia Forma własności  Liczba pokoi Stan wykończenia    Piętro  \\\n",
       "8         46,6 m²  pełna własność             2  do zamieszkania       1/3   \n",
       "9        44,69 m²  pełna własność             2  do zamieszkania       4/6   \n",
       "10          43 m²             NaN             2              NaN  parter/6   \n",
       "13          81 m²  pełna własność             4   do wykończenia       8/8   \n",
       "20         103 m²             NaN             3       do remontu  parter/5   \n",
       "...           ...             ...           ...              ...       ...   \n",
       "4892        48 m²  pełna własność             2       do remontu  parter/8   \n",
       "4895        44 m²  pełna własność             3  do zamieszkania       1/4   \n",
       "4897        72 m²  pełna własność             3  do zamieszkania      6/11   \n",
       "4898        66 m²  pełna własność             3  do zamieszkania       4/8   \n",
       "4904        36 m²  pełna własność             1  do zamieszkania       1/6   \n",
       "\n",
       "     Balkon / ogród / taras    Czynsz        Miejsce parkingowe  ...  \\\n",
       "8                    balkon    794 zł  garaż/miejsce parkingowe  ...   \n",
       "9             balkon, taras    550 zł  garaż/miejsce parkingowe  ...   \n",
       "10                      NaN       NaN                       NaN  ...   \n",
       "13                   balkon       NaN  garaż/miejsce parkingowe  ...   \n",
       "20                      NaN  1 000 zł  garaż/miejsce parkingowe  ...   \n",
       "...                     ...       ...                       ...  ...   \n",
       "4892                    NaN    600 zł                       NaN  ...   \n",
       "4895                 balkon    900 zł                       NaN  ...   \n",
       "4897                    NaN    650 zł  garaż/miejsce parkingowe  ...   \n",
       "4898                 balkon    600 zł  garaż/miejsce parkingowe  ...   \n",
       "4904                    NaN    590 zł  garaż/miejsce parkingowe  ...   \n",
       "\n",
       "     Rok budowy  Rodzaj zabudowy        Okna Winda  \\\n",
       "8        2022.0             blok  plastikowe   tak   \n",
       "9        2022.0             blok  plastikowe   tak   \n",
       "10       1950.0              NaN         NaN   nie   \n",
       "13       2024.0             blok  plastikowe   nie   \n",
       "20       1931.0        kamienica         NaN   tak   \n",
       "...         ...              ...         ...   ...   \n",
       "4892     1960.0             blok         NaN   tak   \n",
       "4895     1958.0             blok         NaN   tak   \n",
       "4897     2002.0  apartamentowiec  plastikowe   tak   \n",
       "4898     2021.0             blok  plastikowe   tak   \n",
       "4904     1955.0        kamienica  plastikowe   tak   \n",
       "\n",
       "                                     Media  \\\n",
       "8              telewizja kablowa, internet   \n",
       "9     telewizja kablowa, internet, telefon   \n",
       "10                                     NaN   \n",
       "13    telewizja kablowa, internet, telefon   \n",
       "20                                     NaN   \n",
       "...                                    ...   \n",
       "4892           telewizja kablowa, internet   \n",
       "4895                                   NaN   \n",
       "4897                                   NaN   \n",
       "4898  telewizja kablowa, internet, telefon   \n",
       "4904                                   NaN   \n",
       "\n",
       "                                         Zabezpieczenia  \\\n",
       "8     drzwi / okna antywłamaniowe, teren zamknięty, ...   \n",
       "9     drzwi / okna antywłamaniowe, domofon / wideofo...   \n",
       "10                                                  NaN   \n",
       "13    drzwi / okna antywłamaniowe, teren zamknięty, ...   \n",
       "20                                 monitoring / ochrona   \n",
       "...                                                 ...   \n",
       "4892                                                NaN   \n",
       "4895                               monitoring / ochrona   \n",
       "4897           monitoring / ochrona, domofon / wideofon   \n",
       "4898  drzwi / okna antywłamaniowe, teren zamknięty, ...   \n",
       "4904                               monitoring / ochrona   \n",
       "\n",
       "                                            Wyposażenie  \\\n",
       "8                         zmywarka, piekarnik, kuchenka   \n",
       "9     zmywarka, lodówka, meble, piekarnik, kuchenka,...   \n",
       "10                                                  NaN   \n",
       "13                                                  NaN   \n",
       "20                                                  NaN   \n",
       "...                                                 ...   \n",
       "4892                                              meble   \n",
       "4895                                                NaN   \n",
       "4897                                                NaN   \n",
       "4898  zmywarka, lodówka, meble, piekarnik, kuchenka,...   \n",
       "4904                                              meble   \n",
       "\n",
       "            Informacje dodatkowe Materiał budynku  \\\n",
       "8                   klimatyzacja           pustak   \n",
       "9                   klimatyzacja            cegła   \n",
       "10                           NaN              NaN   \n",
       "13                  klimatyzacja          silikat   \n",
       "20                       piwnica            cegła   \n",
       "...                          ...              ...   \n",
       "4892  piwnica, oddzielna kuchnia            cegła   \n",
       "4895                     piwnica            cegła   \n",
       "4897                         NaN            beton   \n",
       "4898                klimatyzacja            cegła   \n",
       "4904                     piwnica            cegła   \n",
       "\n",
       "                                                   Link  \n",
       "8     https://www.otodom.pl/pl/oferta/bezposrednio-o...  \n",
       "9     https://www.otodom.pl/pl/oferta/nowe-elegancko...  \n",
       "10    https://www.otodom.pl/pl/oferta/2pokoje-43m2-m...  \n",
       "13    https://www.otodom.pl/pl/oferta/4-pok-mieszkan...  \n",
       "20    https://www.otodom.pl/pl/oferta/kamienica-proj...  \n",
       "...                                                 ...  \n",
       "4892  https://www.otodom.pl/pl/oferta/dwa-pokoje-na-...  \n",
       "4895  https://www.otodom.pl/pl/oferta/blisko-metra-b...  \n",
       "4897  https://www.otodom.pl/pl/oferta/piekne-mieszka...  \n",
       "4898  https://www.otodom.pl/pl/oferta/mieszkanie-war...  \n",
       "4904  https://www.otodom.pl/pl/oferta/stary-mokotow-...  \n",
       "\n",
       "[1293 rows x 25 columns]"
      ]
     },
     "execution_count": 191,
     "metadata": {},
     "output_type": "execute_result"
    }
   ],
   "source": [
    "df[~df['Adres'].str.startswith('ul')]"
   ]
  },
  {
   "cell_type": "code",
   "execution_count": 192,
   "metadata": {},
   "outputs": [
    {
     "data": {
      "text/plain": [
       "array([' Białołęka', ' Targówek', ' Wola', ' Ochota', ' Włochy',\n",
       "       ' Praga-Południe', ' Ursus', ' Mokotów', ' Bielany', ' Wilanów',\n",
       "       ' Śródmieście', ' Praga-Północ', ' Bemowo', ' Ursynów', ' Wawer',\n",
       "       ' Rembertów', ' Żoliborz', ' Wesoła', ' Ząbki', ' Raszyn',\n",
       "       ' Michałowice', 'Pruszków', ' Piastów', ' Lesznowola',\n",
       "       ' Stare Babice', 'Piastów', ' Piaseczno', ' Ostrzeszów'],\n",
       "      dtype=object)"
      ]
     },
     "execution_count": 192,
     "metadata": {},
     "output_type": "execute_result"
    }
   ],
   "source": [
    "df['Adres'].str.split(',').str[-3].unique()"
   ]
  },
  {
   "cell_type": "code",
   "execution_count": 193,
   "metadata": {},
   "outputs": [],
   "source": [
    "def get_third_last_element(address):\n",
    "    elements = address.split(',')\n",
    "    elements = [element.strip() for element in elements]\n",
    "    if len(elements) > 3:\n",
    "        return elements[-3]\n",
    "    else:\n",
    "        return None"
   ]
  },
  {
   "cell_type": "code",
   "execution_count": 194,
   "metadata": {},
   "outputs": [],
   "source": [
    "df['Dzielnica'] = df['Adres'].apply(get_third_last_element)"
   ]
  },
  {
   "cell_type": "code",
   "execution_count": 195,
   "metadata": {},
   "outputs": [
    {
     "data": {
      "text/plain": [
       "array(['Białołęka', 'Targówek', 'Wola', 'Ochota', 'Włochy',\n",
       "       'Praga-Południe', 'Ursus', 'Mokotów', 'Bielany', 'Wilanów',\n",
       "       'Śródmieście', 'Praga-Północ', 'Bemowo', 'Ursynów', 'Wawer',\n",
       "       'Rembertów', 'Żoliborz', 'Wesoła', 'Ząbki', 'Raszyn',\n",
       "       'Michałowice', None, 'Piastów', 'Lesznowola', 'Stare Babice',\n",
       "       'Piaseczno', 'Ostrzeszów'], dtype=object)"
      ]
     },
     "execution_count": 195,
     "metadata": {},
     "output_type": "execute_result"
    }
   ],
   "source": [
    "df['Dzielnica'].unique()"
   ]
  },
  {
   "cell_type": "code",
   "execution_count": 196,
   "metadata": {},
   "outputs": [
    {
     "data": {
      "text/plain": [
       "4890"
      ]
     },
     "execution_count": 196,
     "metadata": {},
     "output_type": "execute_result"
    }
   ],
   "source": [
    "len(df[df['Dzielnica'].isin(const.WARSAW_DISTRICTS)])"
   ]
  },
  {
   "cell_type": "code",
   "execution_count": 197,
   "metadata": {},
   "outputs": [],
   "source": [
    "df = df[df['Dzielnica'].isin(const.WARSAW_DISTRICTS)]"
   ]
  },
  {
   "cell_type": "code",
   "execution_count": 198,
   "metadata": {},
   "outputs": [
    {
     "data": {
      "text/plain": [
       "4890"
      ]
     },
     "execution_count": 198,
     "metadata": {},
     "output_type": "execute_result"
    }
   ],
   "source": [
    "len(df)"
   ]
  },
  {
   "cell_type": "code",
   "execution_count": 199,
   "metadata": {},
   "outputs": [
    {
     "data": {
      "text/plain": [
       "array(['Zapytaj o cenę'], dtype=object)"
      ]
     },
     "execution_count": 199,
     "metadata": {},
     "output_type": "execute_result"
    }
   ],
   "source": [
    "df.loc[~df['Cena'].str.contains('zł'),'Cena'].unique()"
   ]
  },
  {
   "cell_type": "code",
   "execution_count": 200,
   "metadata": {},
   "outputs": [
    {
     "data": {
      "text/plain": [
       "358"
      ]
     },
     "execution_count": 200,
     "metadata": {},
     "output_type": "execute_result"
    }
   ],
   "source": [
    "len(df[df['Cena']=='Zapytaj o cenę'])"
   ]
  },
  {
   "cell_type": "code",
   "execution_count": 201,
   "metadata": {},
   "outputs": [],
   "source": [
    "df = df[df['Cena'] != 'Zapytaj o cenę']"
   ]
  },
  {
   "cell_type": "code",
   "execution_count": 202,
   "metadata": {},
   "outputs": [
    {
     "data": {
      "text/plain": [
       "4532"
      ]
     },
     "execution_count": 202,
     "metadata": {},
     "output_type": "execute_result"
    }
   ],
   "source": [
    "len(df)"
   ]
  },
  {
   "cell_type": "code",
   "execution_count": 203,
   "metadata": {},
   "outputs": [
    {
     "data": {
      "text/html": [
       "<div>\n",
       "<style scoped>\n",
       "    .dataframe tbody tr th:only-of-type {\n",
       "        vertical-align: middle;\n",
       "    }\n",
       "\n",
       "    .dataframe tbody tr th {\n",
       "        vertical-align: top;\n",
       "    }\n",
       "\n",
       "    .dataframe thead th {\n",
       "        text-align: right;\n",
       "    }\n",
       "</style>\n",
       "<table border=\"1\" class=\"dataframe\">\n",
       "  <thead>\n",
       "    <tr style=\"text-align: right;\">\n",
       "      <th></th>\n",
       "      <th>Adres</th>\n",
       "      <th>Cena</th>\n",
       "      <th>Powierzchnia</th>\n",
       "      <th>Forma własności</th>\n",
       "      <th>Liczba pokoi</th>\n",
       "      <th>Stan wykończenia</th>\n",
       "      <th>Piętro</th>\n",
       "      <th>Balkon / ogród / taras</th>\n",
       "      <th>Czynsz</th>\n",
       "      <th>Miejsce parkingowe</th>\n",
       "      <th>...</th>\n",
       "      <th>Rodzaj zabudowy</th>\n",
       "      <th>Okna</th>\n",
       "      <th>Winda</th>\n",
       "      <th>Media</th>\n",
       "      <th>Zabezpieczenia</th>\n",
       "      <th>Wyposażenie</th>\n",
       "      <th>Informacje dodatkowe</th>\n",
       "      <th>Materiał budynku</th>\n",
       "      <th>Link</th>\n",
       "      <th>Dzielnica</th>\n",
       "    </tr>\n",
       "  </thead>\n",
       "  <tbody>\n",
       "  </tbody>\n",
       "</table>\n",
       "<p>0 rows × 26 columns</p>\n",
       "</div>"
      ],
      "text/plain": [
       "Empty DataFrame\n",
       "Columns: [Adres, Cena, Powierzchnia, Forma własności, Liczba pokoi, Stan wykończenia, Piętro, Balkon / ogród / taras, Czynsz, Miejsce parkingowe, Ogrzewanie, Certyfikat energetyczny, Rynek, Typ ogłoszeniodawcy, Dostępne od, Rok budowy, Rodzaj zabudowy, Okna, Winda, Media, Zabezpieczenia, Wyposażenie, Informacje dodatkowe, Materiał budynku, Link, Dzielnica]\n",
       "Index: []\n",
       "\n",
       "[0 rows x 26 columns]"
      ]
     },
     "execution_count": 203,
     "metadata": {},
     "output_type": "execute_result"
    }
   ],
   "source": [
    "df[~df['Cena'].str.contains(' zł')]"
   ]
  },
  {
   "cell_type": "code",
   "execution_count": 204,
   "metadata": {},
   "outputs": [],
   "source": [
    "def convert_price(price):\n",
    "    return float(price.replace(' zł','').replace(' ','').replace(',','.'))"
   ]
  },
  {
   "cell_type": "code",
   "execution_count": 205,
   "metadata": {},
   "outputs": [],
   "source": [
    "df['Cena'] = df['Cena'].apply(convert_price)"
   ]
  },
  {
   "cell_type": "code",
   "execution_count": 206,
   "metadata": {},
   "outputs": [
    {
     "name": "stdout",
     "output_type": "stream",
     "text": [
      "2500000.0 315000.0\n"
     ]
    }
   ],
   "source": [
    "print(df['Cena'].max(), df['Cena'].min())"
   ]
  },
  {
   "cell_type": "code",
   "execution_count": 207,
   "metadata": {},
   "outputs": [
    {
     "data": {
      "text/plain": [
       "0          48 m²\n",
       "1          47 m²\n",
       "2          46 m²\n",
       "3       18,24 m²\n",
       "4       72,49 m²\n",
       "          ...   \n",
       "4902      139 m²\n",
       "4903       76 m²\n",
       "4904       36 m²\n",
       "4905       30 m²\n",
       "4906     50,8 m²\n",
       "Name: Powierzchnia, Length: 4532, dtype: object"
      ]
     },
     "execution_count": 207,
     "metadata": {},
     "output_type": "execute_result"
    }
   ],
   "source": [
    "df['Powierzchnia']"
   ]
  },
  {
   "cell_type": "code",
   "execution_count": 208,
   "metadata": {},
   "outputs": [
    {
     "data": {
      "text/html": [
       "<div>\n",
       "<style scoped>\n",
       "    .dataframe tbody tr th:only-of-type {\n",
       "        vertical-align: middle;\n",
       "    }\n",
       "\n",
       "    .dataframe tbody tr th {\n",
       "        vertical-align: top;\n",
       "    }\n",
       "\n",
       "    .dataframe thead th {\n",
       "        text-align: right;\n",
       "    }\n",
       "</style>\n",
       "<table border=\"1\" class=\"dataframe\">\n",
       "  <thead>\n",
       "    <tr style=\"text-align: right;\">\n",
       "      <th></th>\n",
       "      <th>Adres</th>\n",
       "      <th>Cena</th>\n",
       "      <th>Powierzchnia</th>\n",
       "      <th>Forma własności</th>\n",
       "      <th>Liczba pokoi</th>\n",
       "      <th>Stan wykończenia</th>\n",
       "      <th>Piętro</th>\n",
       "      <th>Balkon / ogród / taras</th>\n",
       "      <th>Czynsz</th>\n",
       "      <th>Miejsce parkingowe</th>\n",
       "      <th>...</th>\n",
       "      <th>Rodzaj zabudowy</th>\n",
       "      <th>Okna</th>\n",
       "      <th>Winda</th>\n",
       "      <th>Media</th>\n",
       "      <th>Zabezpieczenia</th>\n",
       "      <th>Wyposażenie</th>\n",
       "      <th>Informacje dodatkowe</th>\n",
       "      <th>Materiał budynku</th>\n",
       "      <th>Link</th>\n",
       "      <th>Dzielnica</th>\n",
       "    </tr>\n",
       "  </thead>\n",
       "  <tbody>\n",
       "  </tbody>\n",
       "</table>\n",
       "<p>0 rows × 26 columns</p>\n",
       "</div>"
      ],
      "text/plain": [
       "Empty DataFrame\n",
       "Columns: [Adres, Cena, Powierzchnia, Forma własności, Liczba pokoi, Stan wykończenia, Piętro, Balkon / ogród / taras, Czynsz, Miejsce parkingowe, Ogrzewanie, Certyfikat energetyczny, Rynek, Typ ogłoszeniodawcy, Dostępne od, Rok budowy, Rodzaj zabudowy, Okna, Winda, Media, Zabezpieczenia, Wyposażenie, Informacje dodatkowe, Materiał budynku, Link, Dzielnica]\n",
       "Index: []\n",
       "\n",
       "[0 rows x 26 columns]"
      ]
     },
     "execution_count": 208,
     "metadata": {},
     "output_type": "execute_result"
    }
   ],
   "source": [
    "df[~df['Powierzchnia'].str.contains('m')]"
   ]
  },
  {
   "cell_type": "code",
   "execution_count": 209,
   "metadata": {},
   "outputs": [],
   "source": [
    "df['Powierzchnia'] = df['Powierzchnia'].str.replace(' m²','').str.replace(',','.').astype(float)"
   ]
  },
  {
   "cell_type": "code",
   "execution_count": 210,
   "metadata": {},
   "outputs": [
    {
     "name": "stdout",
     "output_type": "stream",
     "text": [
      "10.0 680.0\n"
     ]
    }
   ],
   "source": [
    "print(df['Powierzchnia'].min(), df['Powierzchnia'].max())"
   ]
  },
  {
   "cell_type": "code",
   "execution_count": 211,
   "metadata": {},
   "outputs": [],
   "source": [
    "df['Cena [zł/m²]'] = (df['Cena']/df['Powierzchnia']).round(0)"
   ]
  },
  {
   "cell_type": "code",
   "execution_count": 212,
   "metadata": {},
   "outputs": [
    {
     "data": {
      "text/plain": [
       "0    13958.0\n",
       "1    16277.0\n",
       "2    20000.0\n",
       "3    21924.0\n",
       "4    15850.0\n",
       "Name: Cena [zł/m²], dtype: float64"
      ]
     },
     "execution_count": 212,
     "metadata": {},
     "output_type": "execute_result"
    }
   ],
   "source": [
    "df['Cena [zł/m²]'].head()"
   ]
  },
  {
   "cell_type": "code",
   "execution_count": 213,
   "metadata": {},
   "outputs": [
    {
     "data": {
      "text/plain": [
       "828"
      ]
     },
     "execution_count": 213,
     "metadata": {},
     "output_type": "execute_result"
    }
   ],
   "source": [
    "df['Forma własności'].isnull().sum()"
   ]
  },
  {
   "cell_type": "code",
   "execution_count": 214,
   "metadata": {},
   "outputs": [],
   "source": [
    "grouped_by_distrcit_and_property_form = df.groupby(['Dzielnica','Forma własności'])['Cena [zł/m²]'].mean().reset_index()"
   ]
  },
  {
   "cell_type": "code",
   "execution_count": 215,
   "metadata": {},
   "outputs": [
    {
     "data": {
      "text/html": [
       "<div>\n",
       "<style scoped>\n",
       "    .dataframe tbody tr th:only-of-type {\n",
       "        vertical-align: middle;\n",
       "    }\n",
       "\n",
       "    .dataframe tbody tr th {\n",
       "        vertical-align: top;\n",
       "    }\n",
       "\n",
       "    .dataframe thead th {\n",
       "        text-align: right;\n",
       "    }\n",
       "</style>\n",
       "<table border=\"1\" class=\"dataframe\">\n",
       "  <thead>\n",
       "    <tr style=\"text-align: right;\">\n",
       "      <th></th>\n",
       "      <th>Dzielnica</th>\n",
       "      <th>Forma własności</th>\n",
       "      <th>Cena [zł/m²]</th>\n",
       "    </tr>\n",
       "  </thead>\n",
       "  <tbody>\n",
       "    <tr>\n",
       "      <th>0</th>\n",
       "      <td>Bemowo</td>\n",
       "      <td>pełna własność</td>\n",
       "      <td>17675.457317</td>\n",
       "    </tr>\n",
       "    <tr>\n",
       "      <th>1</th>\n",
       "      <td>Bemowo</td>\n",
       "      <td>spółdzielcze wł. prawo do lokalu</td>\n",
       "      <td>15334.620690</td>\n",
       "    </tr>\n",
       "    <tr>\n",
       "      <th>2</th>\n",
       "      <td>Bemowo</td>\n",
       "      <td>użytkowanie wieczyste / dzierżawa</td>\n",
       "      <td>17445.000000</td>\n",
       "    </tr>\n",
       "    <tr>\n",
       "      <th>3</th>\n",
       "      <td>Białołęka</td>\n",
       "      <td>pełna własność</td>\n",
       "      <td>13937.423197</td>\n",
       "    </tr>\n",
       "    <tr>\n",
       "      <th>4</th>\n",
       "      <td>Białołęka</td>\n",
       "      <td>spółdzielcze wł. prawo do lokalu</td>\n",
       "      <td>13176.571429</td>\n",
       "    </tr>\n",
       "    <tr>\n",
       "      <th>5</th>\n",
       "      <td>Białołęka</td>\n",
       "      <td>udział</td>\n",
       "      <td>11182.000000</td>\n",
       "    </tr>\n",
       "    <tr>\n",
       "      <th>6</th>\n",
       "      <td>Białołęka</td>\n",
       "      <td>użytkowanie wieczyste / dzierżawa</td>\n",
       "      <td>14762.000000</td>\n",
       "    </tr>\n",
       "    <tr>\n",
       "      <th>7</th>\n",
       "      <td>Bielany</td>\n",
       "      <td>pełna własność</td>\n",
       "      <td>18218.401099</td>\n",
       "    </tr>\n",
       "    <tr>\n",
       "      <th>8</th>\n",
       "      <td>Bielany</td>\n",
       "      <td>spółdzielcze wł. prawo do lokalu</td>\n",
       "      <td>15516.634146</td>\n",
       "    </tr>\n",
       "    <tr>\n",
       "      <th>9</th>\n",
       "      <td>Mokotów</td>\n",
       "      <td>pełna własność</td>\n",
       "      <td>20016.573913</td>\n",
       "    </tr>\n",
       "    <tr>\n",
       "      <th>10</th>\n",
       "      <td>Mokotów</td>\n",
       "      <td>spółdzielcze wł. prawo do lokalu</td>\n",
       "      <td>17843.389831</td>\n",
       "    </tr>\n",
       "    <tr>\n",
       "      <th>11</th>\n",
       "      <td>Ochota</td>\n",
       "      <td>pełna własność</td>\n",
       "      <td>19425.856000</td>\n",
       "    </tr>\n",
       "    <tr>\n",
       "      <th>12</th>\n",
       "      <td>Ochota</td>\n",
       "      <td>spółdzielcze wł. prawo do lokalu</td>\n",
       "      <td>18548.500000</td>\n",
       "    </tr>\n",
       "    <tr>\n",
       "      <th>13</th>\n",
       "      <td>Praga-Południe</td>\n",
       "      <td>pełna własność</td>\n",
       "      <td>17708.993485</td>\n",
       "    </tr>\n",
       "    <tr>\n",
       "      <th>14</th>\n",
       "      <td>Praga-Południe</td>\n",
       "      <td>spółdzielcze wł. prawo do lokalu</td>\n",
       "      <td>15677.764706</td>\n",
       "    </tr>\n",
       "    <tr>\n",
       "      <th>15</th>\n",
       "      <td>Praga-Północ</td>\n",
       "      <td>pełna własność</td>\n",
       "      <td>18673.270492</td>\n",
       "    </tr>\n",
       "    <tr>\n",
       "      <th>16</th>\n",
       "      <td>Praga-Północ</td>\n",
       "      <td>spółdzielcze wł. prawo do lokalu</td>\n",
       "      <td>17015.428571</td>\n",
       "    </tr>\n",
       "    <tr>\n",
       "      <th>17</th>\n",
       "      <td>Rembertów</td>\n",
       "      <td>pełna własność</td>\n",
       "      <td>12842.717949</td>\n",
       "    </tr>\n",
       "    <tr>\n",
       "      <th>18</th>\n",
       "      <td>Targówek</td>\n",
       "      <td>pełna własność</td>\n",
       "      <td>15658.322835</td>\n",
       "    </tr>\n",
       "    <tr>\n",
       "      <th>19</th>\n",
       "      <td>Targówek</td>\n",
       "      <td>spółdzielcze wł. prawo do lokalu</td>\n",
       "      <td>14915.060606</td>\n",
       "    </tr>\n",
       "    <tr>\n",
       "      <th>20</th>\n",
       "      <td>Ursus</td>\n",
       "      <td>pełna własność</td>\n",
       "      <td>15348.497175</td>\n",
       "    </tr>\n",
       "    <tr>\n",
       "      <th>21</th>\n",
       "      <td>Ursus</td>\n",
       "      <td>spółdzielcze wł. prawo do lokalu</td>\n",
       "      <td>13502.714286</td>\n",
       "    </tr>\n",
       "    <tr>\n",
       "      <th>22</th>\n",
       "      <td>Ursus</td>\n",
       "      <td>udział</td>\n",
       "      <td>13141.000000</td>\n",
       "    </tr>\n",
       "    <tr>\n",
       "      <th>23</th>\n",
       "      <td>Ursynów</td>\n",
       "      <td>pełna własność</td>\n",
       "      <td>17992.021429</td>\n",
       "    </tr>\n",
       "    <tr>\n",
       "      <th>24</th>\n",
       "      <td>Ursynów</td>\n",
       "      <td>spółdzielcze wł. prawo do lokalu</td>\n",
       "      <td>16360.794872</td>\n",
       "    </tr>\n",
       "    <tr>\n",
       "      <th>25</th>\n",
       "      <td>Ursynów</td>\n",
       "      <td>użytkowanie wieczyste / dzierżawa</td>\n",
       "      <td>16582.000000</td>\n",
       "    </tr>\n",
       "    <tr>\n",
       "      <th>26</th>\n",
       "      <td>Wawer</td>\n",
       "      <td>pełna własność</td>\n",
       "      <td>14775.594595</td>\n",
       "    </tr>\n",
       "    <tr>\n",
       "      <th>27</th>\n",
       "      <td>Wawer</td>\n",
       "      <td>spółdzielcze wł. prawo do lokalu</td>\n",
       "      <td>17338.000000</td>\n",
       "    </tr>\n",
       "    <tr>\n",
       "      <th>28</th>\n",
       "      <td>Wawer</td>\n",
       "      <td>udział</td>\n",
       "      <td>10971.000000</td>\n",
       "    </tr>\n",
       "    <tr>\n",
       "      <th>29</th>\n",
       "      <td>Wawer</td>\n",
       "      <td>użytkowanie wieczyste / dzierżawa</td>\n",
       "      <td>12256.000000</td>\n",
       "    </tr>\n",
       "    <tr>\n",
       "      <th>30</th>\n",
       "      <td>Wesoła</td>\n",
       "      <td>pełna własność</td>\n",
       "      <td>12083.884615</td>\n",
       "    </tr>\n",
       "    <tr>\n",
       "      <th>31</th>\n",
       "      <td>Wesoła</td>\n",
       "      <td>udział</td>\n",
       "      <td>9167.000000</td>\n",
       "    </tr>\n",
       "    <tr>\n",
       "      <th>32</th>\n",
       "      <td>Wilanów</td>\n",
       "      <td>pełna własność</td>\n",
       "      <td>20111.510345</td>\n",
       "    </tr>\n",
       "    <tr>\n",
       "      <th>33</th>\n",
       "      <td>Wilanów</td>\n",
       "      <td>spółdzielcze wł. prawo do lokalu</td>\n",
       "      <td>13975.000000</td>\n",
       "    </tr>\n",
       "    <tr>\n",
       "      <th>34</th>\n",
       "      <td>Wola</td>\n",
       "      <td>pełna własność</td>\n",
       "      <td>22375.881481</td>\n",
       "    </tr>\n",
       "    <tr>\n",
       "      <th>35</th>\n",
       "      <td>Wola</td>\n",
       "      <td>spółdzielcze wł. prawo do lokalu</td>\n",
       "      <td>20244.781250</td>\n",
       "    </tr>\n",
       "    <tr>\n",
       "      <th>36</th>\n",
       "      <td>Wola</td>\n",
       "      <td>udział</td>\n",
       "      <td>12791.000000</td>\n",
       "    </tr>\n",
       "    <tr>\n",
       "      <th>37</th>\n",
       "      <td>Wola</td>\n",
       "      <td>użytkowanie wieczyste / dzierżawa</td>\n",
       "      <td>22333.000000</td>\n",
       "    </tr>\n",
       "    <tr>\n",
       "      <th>38</th>\n",
       "      <td>Włochy</td>\n",
       "      <td>pełna własność</td>\n",
       "      <td>16974.397590</td>\n",
       "    </tr>\n",
       "    <tr>\n",
       "      <th>39</th>\n",
       "      <td>Włochy</td>\n",
       "      <td>spółdzielcze wł. prawo do lokalu</td>\n",
       "      <td>15332.800000</td>\n",
       "    </tr>\n",
       "    <tr>\n",
       "      <th>40</th>\n",
       "      <td>Włochy</td>\n",
       "      <td>użytkowanie wieczyste / dzierżawa</td>\n",
       "      <td>13271.000000</td>\n",
       "    </tr>\n",
       "    <tr>\n",
       "      <th>41</th>\n",
       "      <td>Śródmieście</td>\n",
       "      <td>pełna własność</td>\n",
       "      <td>24345.733577</td>\n",
       "    </tr>\n",
       "    <tr>\n",
       "      <th>42</th>\n",
       "      <td>Śródmieście</td>\n",
       "      <td>spółdzielcze wł. prawo do lokalu</td>\n",
       "      <td>23052.382353</td>\n",
       "    </tr>\n",
       "    <tr>\n",
       "      <th>43</th>\n",
       "      <td>Śródmieście</td>\n",
       "      <td>użytkowanie wieczyste / dzierżawa</td>\n",
       "      <td>19018.000000</td>\n",
       "    </tr>\n",
       "    <tr>\n",
       "      <th>44</th>\n",
       "      <td>Żoliborz</td>\n",
       "      <td>pełna własność</td>\n",
       "      <td>22521.014085</td>\n",
       "    </tr>\n",
       "    <tr>\n",
       "      <th>45</th>\n",
       "      <td>Żoliborz</td>\n",
       "      <td>spółdzielcze wł. prawo do lokalu</td>\n",
       "      <td>18719.888889</td>\n",
       "    </tr>\n",
       "  </tbody>\n",
       "</table>\n",
       "</div>"
      ],
      "text/plain": [
       "         Dzielnica                    Forma własności  Cena [zł/m²]\n",
       "0           Bemowo                     pełna własność  17675.457317\n",
       "1           Bemowo   spółdzielcze wł. prawo do lokalu  15334.620690\n",
       "2           Bemowo  użytkowanie wieczyste / dzierżawa  17445.000000\n",
       "3        Białołęka                     pełna własność  13937.423197\n",
       "4        Białołęka   spółdzielcze wł. prawo do lokalu  13176.571429\n",
       "5        Białołęka                             udział  11182.000000\n",
       "6        Białołęka  użytkowanie wieczyste / dzierżawa  14762.000000\n",
       "7          Bielany                     pełna własność  18218.401099\n",
       "8          Bielany   spółdzielcze wł. prawo do lokalu  15516.634146\n",
       "9          Mokotów                     pełna własność  20016.573913\n",
       "10         Mokotów   spółdzielcze wł. prawo do lokalu  17843.389831\n",
       "11          Ochota                     pełna własność  19425.856000\n",
       "12          Ochota   spółdzielcze wł. prawo do lokalu  18548.500000\n",
       "13  Praga-Południe                     pełna własność  17708.993485\n",
       "14  Praga-Południe   spółdzielcze wł. prawo do lokalu  15677.764706\n",
       "15    Praga-Północ                     pełna własność  18673.270492\n",
       "16    Praga-Północ   spółdzielcze wł. prawo do lokalu  17015.428571\n",
       "17       Rembertów                     pełna własność  12842.717949\n",
       "18        Targówek                     pełna własność  15658.322835\n",
       "19        Targówek   spółdzielcze wł. prawo do lokalu  14915.060606\n",
       "20           Ursus                     pełna własność  15348.497175\n",
       "21           Ursus   spółdzielcze wł. prawo do lokalu  13502.714286\n",
       "22           Ursus                             udział  13141.000000\n",
       "23         Ursynów                     pełna własność  17992.021429\n",
       "24         Ursynów   spółdzielcze wł. prawo do lokalu  16360.794872\n",
       "25         Ursynów  użytkowanie wieczyste / dzierżawa  16582.000000\n",
       "26           Wawer                     pełna własność  14775.594595\n",
       "27           Wawer   spółdzielcze wł. prawo do lokalu  17338.000000\n",
       "28           Wawer                             udział  10971.000000\n",
       "29           Wawer  użytkowanie wieczyste / dzierżawa  12256.000000\n",
       "30          Wesoła                     pełna własność  12083.884615\n",
       "31          Wesoła                             udział   9167.000000\n",
       "32         Wilanów                     pełna własność  20111.510345\n",
       "33         Wilanów   spółdzielcze wł. prawo do lokalu  13975.000000\n",
       "34            Wola                     pełna własność  22375.881481\n",
       "35            Wola   spółdzielcze wł. prawo do lokalu  20244.781250\n",
       "36            Wola                             udział  12791.000000\n",
       "37            Wola  użytkowanie wieczyste / dzierżawa  22333.000000\n",
       "38          Włochy                     pełna własność  16974.397590\n",
       "39          Włochy   spółdzielcze wł. prawo do lokalu  15332.800000\n",
       "40          Włochy  użytkowanie wieczyste / dzierżawa  13271.000000\n",
       "41     Śródmieście                     pełna własność  24345.733577\n",
       "42     Śródmieście   spółdzielcze wł. prawo do lokalu  23052.382353\n",
       "43     Śródmieście  użytkowanie wieczyste / dzierżawa  19018.000000\n",
       "44        Żoliborz                     pełna własność  22521.014085\n",
       "45        Żoliborz   spółdzielcze wł. prawo do lokalu  18719.888889"
      ]
     },
     "execution_count": 215,
     "metadata": {},
     "output_type": "execute_result"
    }
   ],
   "source": [
    "grouped_by_distrcit_and_property_form"
   ]
  },
  {
   "cell_type": "code",
   "execution_count": 216,
   "metadata": {},
   "outputs": [],
   "source": [
    "def fill_missing_forma_property_form(row, grouped):\n",
    "    if pd.isna(row['Forma własności']):\n",
    "        dzielnica = row['Dzielnica']\n",
    "        cena = row['Cena [zł/m²]']\n",
    "\n",
    "        filtered_group = grouped[grouped['Dzielnica'] == dzielnica]\n",
    "        \n",
    "        filtered_group['difference'] = abs(filtered_group['Cena [zł/m²]'] - cena)\n",
    "        \n",
    "        closest_forma = filtered_group.loc[filtered_group['difference'].idxmin(), 'Forma własności']\n",
    "        return closest_forma\n",
    "    else:\n",
    "        return row['Forma własności']"
   ]
  },
  {
   "cell_type": "code",
   "execution_count": 217,
   "metadata": {},
   "outputs": [],
   "source": [
    "df['Forma własności'] = df.apply(lambda row: fill_missing_forma_property_form(row,grouped_by_distrcit_and_property_form),axis=1)"
   ]
  },
  {
   "cell_type": "code",
   "execution_count": 218,
   "metadata": {},
   "outputs": [
    {
     "data": {
      "text/plain": [
       "Adres                         0\n",
       "Cena                          0\n",
       "Powierzchnia                  0\n",
       "Forma własności               0\n",
       "Liczba pokoi                  0\n",
       "Stan wykończenia            604\n",
       "Piętro                       57\n",
       "Balkon / ogród / taras     1365\n",
       "Czynsz                     1502\n",
       "Miejsce parkingowe         2066\n",
       "Ogrzewanie                  927\n",
       "Certyfikat energetyczny    3812\n",
       "Rynek                       157\n",
       "Typ ogłoszeniodawcy         157\n",
       "Dostępne od                3249\n",
       "Rok budowy                  516\n",
       "Rodzaj zabudowy             641\n",
       "Okna                       1564\n",
       "Winda                       157\n",
       "Media                      2252\n",
       "Zabezpieczenia             1104\n",
       "Wyposażenie                2017\n",
       "Informacje dodatkowe       1739\n",
       "Materiał budynku           1989\n",
       "Link                          0\n",
       "Dzielnica                     0\n",
       "Cena [zł/m²]                  0\n",
       "dtype: int64"
      ]
     },
     "execution_count": 218,
     "metadata": {},
     "output_type": "execute_result"
    }
   ],
   "source": [
    "df.isnull().sum()"
   ]
  },
  {
   "cell_type": "code",
   "execution_count": 219,
   "metadata": {},
   "outputs": [
    {
     "name": "stdout",
     "output_type": "stream",
     "text": [
      "1 10\n"
     ]
    }
   ],
   "source": [
    "print(df['Liczba pokoi'].min(),df['Liczba pokoi'].max())"
   ]
  },
  {
   "cell_type": "code",
   "execution_count": 220,
   "metadata": {},
   "outputs": [
    {
     "data": {
      "text/plain": [
       "Adres                       object\n",
       "Cena                       float64\n",
       "Powierzchnia               float64\n",
       "Forma własności             object\n",
       "Liczba pokoi                 int64\n",
       "Stan wykończenia            object\n",
       "Piętro                      object\n",
       "Balkon / ogród / taras      object\n",
       "Czynsz                      object\n",
       "Miejsce parkingowe          object\n",
       "Ogrzewanie                  object\n",
       "Certyfikat energetyczny     object\n",
       "Rynek                       object\n",
       "Typ ogłoszeniodawcy         object\n",
       "Dostępne od                 object\n",
       "Rok budowy                 float64\n",
       "Rodzaj zabudowy             object\n",
       "Okna                        object\n",
       "Winda                       object\n",
       "Media                       object\n",
       "Zabezpieczenia              object\n",
       "Wyposażenie                 object\n",
       "Informacje dodatkowe        object\n",
       "Materiał budynku            object\n",
       "Link                        object\n",
       "Dzielnica                   object\n",
       "Cena [zł/m²]               float64\n",
       "dtype: object"
      ]
     },
     "execution_count": 220,
     "metadata": {},
     "output_type": "execute_result"
    }
   ],
   "source": [
    "df.dtypes"
   ]
  },
  {
   "cell_type": "code",
   "execution_count": 221,
   "metadata": {},
   "outputs": [
    {
     "data": {
      "text/plain": [
       "array(['do zamieszkania', nan, 'do wykończenia', 'do remontu'],\n",
       "      dtype=object)"
      ]
     },
     "execution_count": 221,
     "metadata": {},
     "output_type": "execute_result"
    }
   ],
   "source": [
    "df['Stan wykończenia'].unique()"
   ]
  },
  {
   "cell_type": "code",
   "execution_count": 222,
   "metadata": {},
   "outputs": [],
   "source": [
    "grouped_by_district_and_apartment_finishing = df.groupby(['Dzielnica','Stan wykończenia'])['Cena [zł/m²]'].mean().reset_index()"
   ]
  },
  {
   "cell_type": "code",
   "execution_count": 223,
   "metadata": {},
   "outputs": [
    {
     "data": {
      "text/html": [
       "<div>\n",
       "<style scoped>\n",
       "    .dataframe tbody tr th:only-of-type {\n",
       "        vertical-align: middle;\n",
       "    }\n",
       "\n",
       "    .dataframe tbody tr th {\n",
       "        vertical-align: top;\n",
       "    }\n",
       "\n",
       "    .dataframe thead th {\n",
       "        text-align: right;\n",
       "    }\n",
       "</style>\n",
       "<table border=\"1\" class=\"dataframe\">\n",
       "  <thead>\n",
       "    <tr style=\"text-align: right;\">\n",
       "      <th></th>\n",
       "      <th>Dzielnica</th>\n",
       "      <th>Stan wykończenia</th>\n",
       "      <th>Cena [zł/m²]</th>\n",
       "    </tr>\n",
       "  </thead>\n",
       "  <tbody>\n",
       "    <tr>\n",
       "      <th>0</th>\n",
       "      <td>Bemowo</td>\n",
       "      <td>do remontu</td>\n",
       "      <td>14981.040000</td>\n",
       "    </tr>\n",
       "    <tr>\n",
       "      <th>1</th>\n",
       "      <td>Bemowo</td>\n",
       "      <td>do wykończenia</td>\n",
       "      <td>17132.276596</td>\n",
       "    </tr>\n",
       "    <tr>\n",
       "      <th>2</th>\n",
       "      <td>Bemowo</td>\n",
       "      <td>do zamieszkania</td>\n",
       "      <td>17366.902098</td>\n",
       "    </tr>\n",
       "    <tr>\n",
       "      <th>3</th>\n",
       "      <td>Białołęka</td>\n",
       "      <td>do remontu</td>\n",
       "      <td>12173.909091</td>\n",
       "    </tr>\n",
       "    <tr>\n",
       "      <th>4</th>\n",
       "      <td>Białołęka</td>\n",
       "      <td>do wykończenia</td>\n",
       "      <td>12446.250000</td>\n",
       "    </tr>\n",
       "    <tr>\n",
       "      <th>5</th>\n",
       "      <td>Białołęka</td>\n",
       "      <td>do zamieszkania</td>\n",
       "      <td>14563.175214</td>\n",
       "    </tr>\n",
       "    <tr>\n",
       "      <th>6</th>\n",
       "      <td>Bielany</td>\n",
       "      <td>do remontu</td>\n",
       "      <td>15502.666667</td>\n",
       "    </tr>\n",
       "    <tr>\n",
       "      <th>7</th>\n",
       "      <td>Bielany</td>\n",
       "      <td>do wykończenia</td>\n",
       "      <td>17546.737705</td>\n",
       "    </tr>\n",
       "    <tr>\n",
       "      <th>8</th>\n",
       "      <td>Bielany</td>\n",
       "      <td>do zamieszkania</td>\n",
       "      <td>17675.133758</td>\n",
       "    </tr>\n",
       "    <tr>\n",
       "      <th>9</th>\n",
       "      <td>Mokotów</td>\n",
       "      <td>do remontu</td>\n",
       "      <td>16914.250000</td>\n",
       "    </tr>\n",
       "    <tr>\n",
       "      <th>10</th>\n",
       "      <td>Mokotów</td>\n",
       "      <td>do wykończenia</td>\n",
       "      <td>19079.604651</td>\n",
       "    </tr>\n",
       "    <tr>\n",
       "      <th>11</th>\n",
       "      <td>Mokotów</td>\n",
       "      <td>do zamieszkania</td>\n",
       "      <td>20299.459530</td>\n",
       "    </tr>\n",
       "    <tr>\n",
       "      <th>12</th>\n",
       "      <td>Ochota</td>\n",
       "      <td>do remontu</td>\n",
       "      <td>17942.384615</td>\n",
       "    </tr>\n",
       "    <tr>\n",
       "      <th>13</th>\n",
       "      <td>Ochota</td>\n",
       "      <td>do wykończenia</td>\n",
       "      <td>18870.384615</td>\n",
       "    </tr>\n",
       "    <tr>\n",
       "      <th>14</th>\n",
       "      <td>Ochota</td>\n",
       "      <td>do zamieszkania</td>\n",
       "      <td>19735.855769</td>\n",
       "    </tr>\n",
       "    <tr>\n",
       "      <th>15</th>\n",
       "      <td>Praga-Południe</td>\n",
       "      <td>do remontu</td>\n",
       "      <td>14724.809524</td>\n",
       "    </tr>\n",
       "    <tr>\n",
       "      <th>16</th>\n",
       "      <td>Praga-Południe</td>\n",
       "      <td>do wykończenia</td>\n",
       "      <td>17558.720588</td>\n",
       "    </tr>\n",
       "    <tr>\n",
       "      <th>17</th>\n",
       "      <td>Praga-Południe</td>\n",
       "      <td>do zamieszkania</td>\n",
       "      <td>18019.012658</td>\n",
       "    </tr>\n",
       "    <tr>\n",
       "      <th>18</th>\n",
       "      <td>Praga-Północ</td>\n",
       "      <td>do remontu</td>\n",
       "      <td>15653.210526</td>\n",
       "    </tr>\n",
       "    <tr>\n",
       "      <th>19</th>\n",
       "      <td>Praga-Północ</td>\n",
       "      <td>do wykończenia</td>\n",
       "      <td>18136.825000</td>\n",
       "    </tr>\n",
       "    <tr>\n",
       "      <th>20</th>\n",
       "      <td>Praga-Północ</td>\n",
       "      <td>do zamieszkania</td>\n",
       "      <td>19276.621622</td>\n",
       "    </tr>\n",
       "    <tr>\n",
       "      <th>21</th>\n",
       "      <td>Rembertów</td>\n",
       "      <td>do remontu</td>\n",
       "      <td>9712.000000</td>\n",
       "    </tr>\n",
       "    <tr>\n",
       "      <th>22</th>\n",
       "      <td>Rembertów</td>\n",
       "      <td>do wykończenia</td>\n",
       "      <td>12826.407407</td>\n",
       "    </tr>\n",
       "    <tr>\n",
       "      <th>23</th>\n",
       "      <td>Rembertów</td>\n",
       "      <td>do zamieszkania</td>\n",
       "      <td>13080.125000</td>\n",
       "    </tr>\n",
       "    <tr>\n",
       "      <th>24</th>\n",
       "      <td>Targówek</td>\n",
       "      <td>do remontu</td>\n",
       "      <td>14357.375000</td>\n",
       "    </tr>\n",
       "    <tr>\n",
       "      <th>25</th>\n",
       "      <td>Targówek</td>\n",
       "      <td>do wykończenia</td>\n",
       "      <td>14485.393939</td>\n",
       "    </tr>\n",
       "    <tr>\n",
       "      <th>26</th>\n",
       "      <td>Targówek</td>\n",
       "      <td>do zamieszkania</td>\n",
       "      <td>15793.384000</td>\n",
       "    </tr>\n",
       "    <tr>\n",
       "      <th>27</th>\n",
       "      <td>Ursus</td>\n",
       "      <td>do remontu</td>\n",
       "      <td>13598.500000</td>\n",
       "    </tr>\n",
       "    <tr>\n",
       "      <th>28</th>\n",
       "      <td>Ursus</td>\n",
       "      <td>do wykończenia</td>\n",
       "      <td>14197.042254</td>\n",
       "    </tr>\n",
       "    <tr>\n",
       "      <th>29</th>\n",
       "      <td>Ursus</td>\n",
       "      <td>do zamieszkania</td>\n",
       "      <td>16008.934959</td>\n",
       "    </tr>\n",
       "    <tr>\n",
       "      <th>30</th>\n",
       "      <td>Ursynów</td>\n",
       "      <td>do remontu</td>\n",
       "      <td>14670.391304</td>\n",
       "    </tr>\n",
       "    <tr>\n",
       "      <th>31</th>\n",
       "      <td>Ursynów</td>\n",
       "      <td>do wykończenia</td>\n",
       "      <td>17665.064516</td>\n",
       "    </tr>\n",
       "    <tr>\n",
       "      <th>32</th>\n",
       "      <td>Ursynów</td>\n",
       "      <td>do zamieszkania</td>\n",
       "      <td>17884.324503</td>\n",
       "    </tr>\n",
       "    <tr>\n",
       "      <th>33</th>\n",
       "      <td>Wawer</td>\n",
       "      <td>do remontu</td>\n",
       "      <td>18391.000000</td>\n",
       "    </tr>\n",
       "    <tr>\n",
       "      <th>34</th>\n",
       "      <td>Wawer</td>\n",
       "      <td>do wykończenia</td>\n",
       "      <td>11594.666667</td>\n",
       "    </tr>\n",
       "    <tr>\n",
       "      <th>35</th>\n",
       "      <td>Wawer</td>\n",
       "      <td>do zamieszkania</td>\n",
       "      <td>15897.631579</td>\n",
       "    </tr>\n",
       "    <tr>\n",
       "      <th>36</th>\n",
       "      <td>Wesoła</td>\n",
       "      <td>do remontu</td>\n",
       "      <td>7195.500000</td>\n",
       "    </tr>\n",
       "    <tr>\n",
       "      <th>37</th>\n",
       "      <td>Wesoła</td>\n",
       "      <td>do wykończenia</td>\n",
       "      <td>11259.000000</td>\n",
       "    </tr>\n",
       "    <tr>\n",
       "      <th>38</th>\n",
       "      <td>Wesoła</td>\n",
       "      <td>do zamieszkania</td>\n",
       "      <td>12924.000000</td>\n",
       "    </tr>\n",
       "    <tr>\n",
       "      <th>39</th>\n",
       "      <td>Wilanów</td>\n",
       "      <td>do remontu</td>\n",
       "      <td>17378.500000</td>\n",
       "    </tr>\n",
       "    <tr>\n",
       "      <th>40</th>\n",
       "      <td>Wilanów</td>\n",
       "      <td>do wykończenia</td>\n",
       "      <td>17711.333333</td>\n",
       "    </tr>\n",
       "    <tr>\n",
       "      <th>41</th>\n",
       "      <td>Wilanów</td>\n",
       "      <td>do zamieszkania</td>\n",
       "      <td>20302.595420</td>\n",
       "    </tr>\n",
       "    <tr>\n",
       "      <th>42</th>\n",
       "      <td>Wola</td>\n",
       "      <td>do remontu</td>\n",
       "      <td>17499.804878</td>\n",
       "    </tr>\n",
       "    <tr>\n",
       "      <th>43</th>\n",
       "      <td>Wola</td>\n",
       "      <td>do wykończenia</td>\n",
       "      <td>24919.776119</td>\n",
       "    </tr>\n",
       "    <tr>\n",
       "      <th>44</th>\n",
       "      <td>Wola</td>\n",
       "      <td>do zamieszkania</td>\n",
       "      <td>22123.211699</td>\n",
       "    </tr>\n",
       "    <tr>\n",
       "      <th>45</th>\n",
       "      <td>Włochy</td>\n",
       "      <td>do remontu</td>\n",
       "      <td>13890.000000</td>\n",
       "    </tr>\n",
       "    <tr>\n",
       "      <th>46</th>\n",
       "      <td>Włochy</td>\n",
       "      <td>do wykończenia</td>\n",
       "      <td>16220.936709</td>\n",
       "    </tr>\n",
       "    <tr>\n",
       "      <th>47</th>\n",
       "      <td>Włochy</td>\n",
       "      <td>do zamieszkania</td>\n",
       "      <td>17684.864078</td>\n",
       "    </tr>\n",
       "    <tr>\n",
       "      <th>48</th>\n",
       "      <td>Śródmieście</td>\n",
       "      <td>do remontu</td>\n",
       "      <td>21006.904762</td>\n",
       "    </tr>\n",
       "    <tr>\n",
       "      <th>49</th>\n",
       "      <td>Śródmieście</td>\n",
       "      <td>do wykończenia</td>\n",
       "      <td>21564.888889</td>\n",
       "    </tr>\n",
       "    <tr>\n",
       "      <th>50</th>\n",
       "      <td>Śródmieście</td>\n",
       "      <td>do zamieszkania</td>\n",
       "      <td>24557.887597</td>\n",
       "    </tr>\n",
       "    <tr>\n",
       "      <th>51</th>\n",
       "      <td>Żoliborz</td>\n",
       "      <td>do remontu</td>\n",
       "      <td>18845.200000</td>\n",
       "    </tr>\n",
       "    <tr>\n",
       "      <th>52</th>\n",
       "      <td>Żoliborz</td>\n",
       "      <td>do wykończenia</td>\n",
       "      <td>18788.684211</td>\n",
       "    </tr>\n",
       "    <tr>\n",
       "      <th>53</th>\n",
       "      <td>Żoliborz</td>\n",
       "      <td>do zamieszkania</td>\n",
       "      <td>21917.158537</td>\n",
       "    </tr>\n",
       "  </tbody>\n",
       "</table>\n",
       "</div>"
      ],
      "text/plain": [
       "         Dzielnica Stan wykończenia  Cena [zł/m²]\n",
       "0           Bemowo       do remontu  14981.040000\n",
       "1           Bemowo   do wykończenia  17132.276596\n",
       "2           Bemowo  do zamieszkania  17366.902098\n",
       "3        Białołęka       do remontu  12173.909091\n",
       "4        Białołęka   do wykończenia  12446.250000\n",
       "5        Białołęka  do zamieszkania  14563.175214\n",
       "6          Bielany       do remontu  15502.666667\n",
       "7          Bielany   do wykończenia  17546.737705\n",
       "8          Bielany  do zamieszkania  17675.133758\n",
       "9          Mokotów       do remontu  16914.250000\n",
       "10         Mokotów   do wykończenia  19079.604651\n",
       "11         Mokotów  do zamieszkania  20299.459530\n",
       "12          Ochota       do remontu  17942.384615\n",
       "13          Ochota   do wykończenia  18870.384615\n",
       "14          Ochota  do zamieszkania  19735.855769\n",
       "15  Praga-Południe       do remontu  14724.809524\n",
       "16  Praga-Południe   do wykończenia  17558.720588\n",
       "17  Praga-Południe  do zamieszkania  18019.012658\n",
       "18    Praga-Północ       do remontu  15653.210526\n",
       "19    Praga-Północ   do wykończenia  18136.825000\n",
       "20    Praga-Północ  do zamieszkania  19276.621622\n",
       "21       Rembertów       do remontu   9712.000000\n",
       "22       Rembertów   do wykończenia  12826.407407\n",
       "23       Rembertów  do zamieszkania  13080.125000\n",
       "24        Targówek       do remontu  14357.375000\n",
       "25        Targówek   do wykończenia  14485.393939\n",
       "26        Targówek  do zamieszkania  15793.384000\n",
       "27           Ursus       do remontu  13598.500000\n",
       "28           Ursus   do wykończenia  14197.042254\n",
       "29           Ursus  do zamieszkania  16008.934959\n",
       "30         Ursynów       do remontu  14670.391304\n",
       "31         Ursynów   do wykończenia  17665.064516\n",
       "32         Ursynów  do zamieszkania  17884.324503\n",
       "33           Wawer       do remontu  18391.000000\n",
       "34           Wawer   do wykończenia  11594.666667\n",
       "35           Wawer  do zamieszkania  15897.631579\n",
       "36          Wesoła       do remontu   7195.500000\n",
       "37          Wesoła   do wykończenia  11259.000000\n",
       "38          Wesoła  do zamieszkania  12924.000000\n",
       "39         Wilanów       do remontu  17378.500000\n",
       "40         Wilanów   do wykończenia  17711.333333\n",
       "41         Wilanów  do zamieszkania  20302.595420\n",
       "42            Wola       do remontu  17499.804878\n",
       "43            Wola   do wykończenia  24919.776119\n",
       "44            Wola  do zamieszkania  22123.211699\n",
       "45          Włochy       do remontu  13890.000000\n",
       "46          Włochy   do wykończenia  16220.936709\n",
       "47          Włochy  do zamieszkania  17684.864078\n",
       "48     Śródmieście       do remontu  21006.904762\n",
       "49     Śródmieście   do wykończenia  21564.888889\n",
       "50     Śródmieście  do zamieszkania  24557.887597\n",
       "51        Żoliborz       do remontu  18845.200000\n",
       "52        Żoliborz   do wykończenia  18788.684211\n",
       "53        Żoliborz  do zamieszkania  21917.158537"
      ]
     },
     "execution_count": 223,
     "metadata": {},
     "output_type": "execute_result"
    }
   ],
   "source": [
    "grouped_by_district_and_apartment_finishing"
   ]
  },
  {
   "cell_type": "code",
   "execution_count": 224,
   "metadata": {},
   "outputs": [],
   "source": [
    "def fill_missing_forma_apartment_finishing(row, grouped):\n",
    "    if pd.isna(row['Stan wykończenia']):\n",
    "        dzielnica = row['Dzielnica']\n",
    "        cena = row['Cena [zł/m²]']\n",
    "\n",
    "        filtered_group = grouped[grouped['Dzielnica'] == dzielnica]\n",
    "        \n",
    "        filtered_group['difference'] = abs(filtered_group['Cena [zł/m²]'] - cena)\n",
    "        \n",
    "        closest_forma = filtered_group.loc[filtered_group['difference'].idxmin(), 'Stan wykończenia']\n",
    "        return closest_forma\n",
    "    else:\n",
    "        return row['Stan wykończenia']"
   ]
  },
  {
   "cell_type": "code",
   "execution_count": 225,
   "metadata": {},
   "outputs": [],
   "source": [
    "df['Stan wykończenia'] = df.apply(lambda row: fill_missing_forma_apartment_finishing(row,grouped_by_district_and_apartment_finishing),axis=1)"
   ]
  },
  {
   "cell_type": "code",
   "execution_count": 226,
   "metadata": {},
   "outputs": [
    {
     "data": {
      "text/plain": [
       "0        2/3\n",
       "1       7/10\n",
       "2       1/10\n",
       "3        1/6\n",
       "4        4/5\n",
       "        ... \n",
       "4902     4/4\n",
       "4903     4/5\n",
       "4904     1/6\n",
       "4905    1/10\n",
       "4906     1/4\n",
       "Name: Piętro, Length: 4532, dtype: object"
      ]
     },
     "execution_count": 226,
     "metadata": {},
     "output_type": "execute_result"
    }
   ],
   "source": [
    "df['Piętro']"
   ]
  },
  {
   "cell_type": "code",
   "execution_count": 227,
   "metadata": {},
   "outputs": [
    {
     "data": {
      "text/plain": [
       "57"
      ]
     },
     "execution_count": 227,
     "metadata": {},
     "output_type": "execute_result"
    }
   ],
   "source": [
    "len(df[df['Piętro'].isnull()])"
   ]
  },
  {
   "cell_type": "code",
   "execution_count": 228,
   "metadata": {},
   "outputs": [],
   "source": [
    "df = df[df['Piętro'].notna()]"
   ]
  },
  {
   "cell_type": "code",
   "execution_count": 229,
   "metadata": {},
   "outputs": [],
   "source": [
    "pattern = r'^(suterena/\\d{1,2}|parter|parter/\\d{1,2}|\\d{1,2}/\\d{1,2}|\\d{1,2})$'\n",
    "\n",
    "non_matching = df[~df['Piętro'].str.match(pattern)]"
   ]
  },
  {
   "cell_type": "code",
   "execution_count": 230,
   "metadata": {},
   "outputs": [
    {
     "data": {
      "text/plain": [
       "129"
      ]
     },
     "execution_count": 230,
     "metadata": {},
     "output_type": "execute_result"
    }
   ],
   "source": [
    "len(non_matching)"
   ]
  },
  {
   "cell_type": "code",
   "execution_count": 231,
   "metadata": {},
   "outputs": [
    {
     "data": {
      "text/plain": [
       "array(['> 10/16', '> 10', '> 10/12', '> 10/22', '> 10/15', '> 10/26',\n",
       "       '> 10/11', '> 10/30', '> 10/25', '> 10/17', '> 10/13', '> 10/24',\n",
       "       '> 10/14', '> 10/20', '> 10/10', '> 10/27', '> 10/18', '> 10/23'],\n",
       "      dtype=object)"
      ]
     },
     "execution_count": 231,
     "metadata": {},
     "output_type": "execute_result"
    }
   ],
   "source": [
    "non_matching['Piętro'].unique()"
   ]
  },
  {
   "cell_type": "code",
   "execution_count": 232,
   "metadata": {},
   "outputs": [],
   "source": [
    "def convert_level(level):\n",
    "    if isinstance(level, str):\n",
    "        if 'parter' in level:\n",
    "            return 0\n",
    "        elif 'suterena' in level:\n",
    "            return -1\n",
    "        elif '/' in level:\n",
    "            return int(level.split('/')[0].replace('>', '').strip())\n",
    "        elif '>' in level:\n",
    "            return int(level.replace('>', '').strip())\n",
    "    return int(level)"
   ]
  },
  {
   "cell_type": "code",
   "execution_count": 233,
   "metadata": {},
   "outputs": [],
   "source": [
    "df['Piętro'] = df['Piętro'].apply(convert_level)"
   ]
  },
  {
   "cell_type": "code",
   "execution_count": 234,
   "metadata": {},
   "outputs": [
    {
     "name": "stdout",
     "output_type": "stream",
     "text": [
      "-1 10\n"
     ]
    }
   ],
   "source": [
    "print(df['Piętro'].min(), df['Piętro'].max())"
   ]
  },
  {
   "cell_type": "code",
   "execution_count": 235,
   "metadata": {},
   "outputs": [
    {
     "data": {
      "text/plain": [
       "4475"
      ]
     },
     "execution_count": 235,
     "metadata": {},
     "output_type": "execute_result"
    }
   ],
   "source": [
    "len(df)"
   ]
  },
  {
   "cell_type": "code",
   "execution_count": 236,
   "metadata": {},
   "outputs": [
    {
     "data": {
      "text/plain": [
       "1348"
      ]
     },
     "execution_count": 236,
     "metadata": {},
     "output_type": "execute_result"
    }
   ],
   "source": [
    "len(df[df['Balkon / ogród / taras'].isnull()])"
   ]
  },
  {
   "cell_type": "code",
   "execution_count": 237,
   "metadata": {},
   "outputs": [
    {
     "data": {
      "text/plain": [
       "array(['balkon', nan, 'balkon, taras', 'ogródek, taras',\n",
       "       'balkon, ogródek', 'balkon, ogródek, taras', 'ogródek',\n",
       "       'taras, ogródek', 'taras', 'taras, balkon',\n",
       "       'taras, balkon, ogródek'], dtype=object)"
      ]
     },
     "execution_count": 237,
     "metadata": {},
     "output_type": "execute_result"
    }
   ],
   "source": [
    "df['Balkon / ogród / taras'].unique()"
   ]
  },
  {
   "cell_type": "code",
   "execution_count": 238,
   "metadata": {},
   "outputs": [
    {
     "data": {
      "text/plain": [
       "0              balkon\n",
       "1              balkon\n",
       "2              balkon\n",
       "3                 NaN\n",
       "4              balkon\n",
       "            ...      \n",
       "4902           balkon\n",
       "4903    taras, balkon\n",
       "4904              NaN\n",
       "4905          ogródek\n",
       "4906           balkon\n",
       "Name: Balkon / ogród / taras, Length: 4475, dtype: object"
      ]
     },
     "execution_count": 238,
     "metadata": {},
     "output_type": "execute_result"
    }
   ],
   "source": [
    "df['Balkon / ogród / taras']"
   ]
  },
  {
   "cell_type": "code",
   "execution_count": 239,
   "metadata": {},
   "outputs": [],
   "source": [
    "df['Balkon'] = df['Balkon / ogród / taras'].str.contains('balkon', na=False).astype(int)\n",
    "df['Ogródek'] = df['Balkon / ogród / taras'].str.contains('ogródek', na=False).astype(int)\n",
    "df['Taras'] = df['Balkon / ogród / taras'].str.contains('taras', na=False).astype(int)"
   ]
  },
  {
   "cell_type": "code",
   "execution_count": 240,
   "metadata": {},
   "outputs": [],
   "source": [
    "df = df.drop(columns=['Balkon / ogród / taras'])"
   ]
  },
  {
   "cell_type": "code",
   "execution_count": 241,
   "metadata": {},
   "outputs": [
    {
     "data": {
      "text/html": [
       "<div>\n",
       "<style scoped>\n",
       "    .dataframe tbody tr th:only-of-type {\n",
       "        vertical-align: middle;\n",
       "    }\n",
       "\n",
       "    .dataframe tbody tr th {\n",
       "        vertical-align: top;\n",
       "    }\n",
       "\n",
       "    .dataframe thead th {\n",
       "        text-align: right;\n",
       "    }\n",
       "</style>\n",
       "<table border=\"1\" class=\"dataframe\">\n",
       "  <thead>\n",
       "    <tr style=\"text-align: right;\">\n",
       "      <th></th>\n",
       "      <th>Balkon</th>\n",
       "      <th>Ogródek</th>\n",
       "      <th>Taras</th>\n",
       "    </tr>\n",
       "  </thead>\n",
       "  <tbody>\n",
       "    <tr>\n",
       "      <th>0</th>\n",
       "      <td>1</td>\n",
       "      <td>0</td>\n",
       "      <td>0</td>\n",
       "    </tr>\n",
       "    <tr>\n",
       "      <th>1</th>\n",
       "      <td>1</td>\n",
       "      <td>0</td>\n",
       "      <td>0</td>\n",
       "    </tr>\n",
       "    <tr>\n",
       "      <th>2</th>\n",
       "      <td>1</td>\n",
       "      <td>0</td>\n",
       "      <td>0</td>\n",
       "    </tr>\n",
       "    <tr>\n",
       "      <th>3</th>\n",
       "      <td>0</td>\n",
       "      <td>0</td>\n",
       "      <td>0</td>\n",
       "    </tr>\n",
       "    <tr>\n",
       "      <th>4</th>\n",
       "      <td>1</td>\n",
       "      <td>0</td>\n",
       "      <td>0</td>\n",
       "    </tr>\n",
       "    <tr>\n",
       "      <th>...</th>\n",
       "      <td>...</td>\n",
       "      <td>...</td>\n",
       "      <td>...</td>\n",
       "    </tr>\n",
       "    <tr>\n",
       "      <th>4902</th>\n",
       "      <td>1</td>\n",
       "      <td>0</td>\n",
       "      <td>0</td>\n",
       "    </tr>\n",
       "    <tr>\n",
       "      <th>4903</th>\n",
       "      <td>1</td>\n",
       "      <td>0</td>\n",
       "      <td>1</td>\n",
       "    </tr>\n",
       "    <tr>\n",
       "      <th>4904</th>\n",
       "      <td>0</td>\n",
       "      <td>0</td>\n",
       "      <td>0</td>\n",
       "    </tr>\n",
       "    <tr>\n",
       "      <th>4905</th>\n",
       "      <td>0</td>\n",
       "      <td>1</td>\n",
       "      <td>0</td>\n",
       "    </tr>\n",
       "    <tr>\n",
       "      <th>4906</th>\n",
       "      <td>1</td>\n",
       "      <td>0</td>\n",
       "      <td>0</td>\n",
       "    </tr>\n",
       "  </tbody>\n",
       "</table>\n",
       "<p>4475 rows × 3 columns</p>\n",
       "</div>"
      ],
      "text/plain": [
       "      Balkon  Ogródek  Taras\n",
       "0          1        0      0\n",
       "1          1        0      0\n",
       "2          1        0      0\n",
       "3          0        0      0\n",
       "4          1        0      0\n",
       "...      ...      ...    ...\n",
       "4902       1        0      0\n",
       "4903       1        0      1\n",
       "4904       0        0      0\n",
       "4905       0        1      0\n",
       "4906       1        0      0\n",
       "\n",
       "[4475 rows x 3 columns]"
      ]
     },
     "execution_count": 241,
     "metadata": {},
     "output_type": "execute_result"
    }
   ],
   "source": [
    "df[['Balkon','Ogródek','Taras']]"
   ]
  },
  {
   "cell_type": "code",
   "execution_count": 242,
   "metadata": {},
   "outputs": [
    {
     "data": {
      "text/plain": [
       "Index(['Adres', 'Cena', 'Powierzchnia', 'Forma własności', 'Liczba pokoi',\n",
       "       'Stan wykończenia', 'Piętro', 'Czynsz', 'Miejsce parkingowe',\n",
       "       'Ogrzewanie', 'Certyfikat energetyczny', 'Rynek', 'Typ ogłoszeniodawcy',\n",
       "       'Dostępne od', 'Rok budowy', 'Rodzaj zabudowy', 'Okna', 'Winda',\n",
       "       'Media', 'Zabezpieczenia', 'Wyposażenie', 'Informacje dodatkowe',\n",
       "       'Materiał budynku', 'Link', 'Dzielnica', 'Cena [zł/m²]', 'Balkon',\n",
       "       'Ogródek', 'Taras'],\n",
       "      dtype='object')"
      ]
     },
     "execution_count": 242,
     "metadata": {},
     "output_type": "execute_result"
    }
   ],
   "source": [
    "df.columns"
   ]
  },
  {
   "cell_type": "code",
   "execution_count": 243,
   "metadata": {},
   "outputs": [
    {
     "data": {
      "text/plain": [
       "0         580 zł\n",
       "1            NaN\n",
       "2            NaN\n",
       "3         488 zł\n",
       "4         800 zł\n",
       "          ...   \n",
       "4902         NaN\n",
       "4903    1 243 zł\n",
       "4904      590 zł\n",
       "4905      500 zł\n",
       "4906         NaN\n",
       "Name: Czynsz, Length: 4475, dtype: object"
      ]
     },
     "execution_count": 243,
     "metadata": {},
     "output_type": "execute_result"
    }
   ],
   "source": [
    "df['Czynsz']"
   ]
  },
  {
   "cell_type": "code",
   "execution_count": 244,
   "metadata": {},
   "outputs": [
    {
     "data": {
      "text/plain": [
       "4475"
      ]
     },
     "execution_count": 244,
     "metadata": {},
     "output_type": "execute_result"
    }
   ],
   "source": [
    "len(df)"
   ]
  },
  {
   "cell_type": "code",
   "execution_count": 245,
   "metadata": {},
   "outputs": [
    {
     "data": {
      "text/plain": [
       "1464"
      ]
     },
     "execution_count": 245,
     "metadata": {},
     "output_type": "execute_result"
    }
   ],
   "source": [
    "len(df[df['Czynsz'].isna()])"
   ]
  },
  {
   "cell_type": "code",
   "execution_count": 246,
   "metadata": {},
   "outputs": [],
   "source": [
    "df['Czynsz'] = df['Czynsz'].str.replace(' zł', '').str.replace(' ', '').str.replace(',', '.').astype(float)"
   ]
  },
  {
   "cell_type": "code",
   "execution_count": 247,
   "metadata": {},
   "outputs": [
    {
     "name": "stdout",
     "output_type": "stream",
     "text": [
      "Requirement already satisfied: xgboost in c:\\users\\lukasz\\appdata\\local\\packages\\pythonsoftwarefoundation.python.3.11_qbz5n2kfra8p0\\localcache\\local-packages\\python311\\site-packages (2.1.3)\n",
      "Requirement already satisfied: numpy in c:\\users\\lukasz\\appdata\\local\\packages\\pythonsoftwarefoundation.python.3.11_qbz5n2kfra8p0\\localcache\\local-packages\\python311\\site-packages (from xgboost) (1.26.4)\n",
      "Requirement already satisfied: scipy in c:\\users\\lukasz\\appdata\\local\\packages\\pythonsoftwarefoundation.python.3.11_qbz5n2kfra8p0\\localcache\\local-packages\\python311\\site-packages (from xgboost) (1.11.4)\n"
     ]
    }
   ],
   "source": [
    "!pip install xgboost"
   ]
  },
  {
   "cell_type": "code",
   "execution_count": 248,
   "metadata": {},
   "outputs": [
    {
     "name": "stdout",
     "output_type": "stream",
     "text": [
      "MSE - Model 1 (Regresja liniowa): 86312.1347487273\n",
      "MAE - Model 1 (Regresja liniowa): 148.83698154148843\n",
      "MSE - Model 2 (Random Forest): 85650.89993809145\n",
      "MAE - Model 2 (Random Forest): 154.42153262523362\n",
      "MSE - Model 3 (XGBoost): 90182.56161738354\n",
      "MAE - Model 3 (XGBoost): 159.08835811558052\n"
     ]
    }
   ],
   "source": [
    "df_cleaned = df.dropna(subset=['Czynsz'])\n",
    "\n",
    "X = df_cleaned[['Cena', 'Powierzchnia', 'Liczba pokoi']]\n",
    "y = df_cleaned['Czynsz']\n",
    "\n",
    "from sklearn.model_selection import train_test_split\n",
    "from sklearn.linear_model import LinearRegression\n",
    "from sklearn.ensemble import RandomForestRegressor\n",
    "from sklearn.metrics import mean_squared_error, mean_absolute_error\n",
    "\n",
    "X_train, X_test, y_train, y_test = train_test_split(X, y, test_size=0.2, random_state=42)\n",
    "\n",
    "model_lr = LinearRegression()\n",
    "model_lr.fit(X_train, y_train)\n",
    "\n",
    "y_pred_lr = model_lr.predict(X_test)\n",
    "\n",
    "mse_lr = mean_squared_error(y_test, y_pred_lr)\n",
    "mae_lr = mean_absolute_error(y_test, y_pred_lr)\n",
    "print(\"MSE - Model 1 (Regresja liniowa):\", mse_lr)\n",
    "print(\"MAE - Model 1 (Regresja liniowa):\", mae_lr)\n",
    "\n",
    "model_rf = RandomForestRegressor(n_estimators=100, random_state=42)\n",
    "model_rf.fit(X_train, y_train)\n",
    "\n",
    "y_pred_rf = model_rf.predict(X_test)\n",
    "\n",
    "mse_rf = mean_squared_error(y_test, y_pred_rf)\n",
    "mae_rf = mean_absolute_error(y_test, y_pred_rf)\n",
    "print(\"MSE - Model 2 (Random Forest):\", mse_rf)\n",
    "print(\"MAE - Model 2 (Random Forest):\", mae_rf)\n",
    "\n",
    "from xgboost import XGBRegressor\n",
    "\n",
    "model_xgb = XGBRegressor(random_state=42)\n",
    "model_xgb.fit(X_train, y_train)\n",
    "\n",
    "y_pred_xgb = model_xgb.predict(X_test)\n",
    "\n",
    "mse_xgb = mean_squared_error(y_test, y_pred_xgb)\n",
    "mae_xgb = mean_absolute_error(y_test, y_pred_xgb)\n",
    "print(\"MSE - Model 3 (XGBoost):\", mse_xgb)\n",
    "print(\"MAE - Model 3 (XGBoost):\", mae_xgb)"
   ]
  },
  {
   "cell_type": "code",
   "execution_count": 249,
   "metadata": {},
   "outputs": [],
   "source": [
    "features = ['Cena', 'Powierzchnia', 'Liczba pokoi']\n",
    "\n",
    "train_data = df[df['Czynsz'].notna()]\n",
    "X_train = train_data[features]\n",
    "y_train = train_data['Czynsz']\n",
    "\n",
    "rf = RandomForestRegressor(n_estimators=100, random_state=42)\n",
    "rf.fit(X_train, y_train)\n",
    "\n",
    "test_data = df[df['Czynsz'].isnull()]\n",
    "X_test = test_data[features]\n",
    "\n",
    "y_pred = rf.predict(X_test)\n",
    "\n",
    "df.loc[df['Czynsz'].isnull(), 'Czynsz'] = y_pred"
   ]
  },
  {
   "cell_type": "code",
   "execution_count": 250,
   "metadata": {},
   "outputs": [
    {
     "name": "stdout",
     "output_type": "stream",
     "text": [
      "1.0 6000.0\n"
     ]
    }
   ],
   "source": [
    "print(df['Czynsz'].min(), df['Czynsz'].max())"
   ]
  },
  {
   "cell_type": "code",
   "execution_count": 251,
   "metadata": {},
   "outputs": [
    {
     "data": {
      "text/plain": [
       "2523       1.00\n",
       "2522       1.00\n",
       "4325       1.00\n",
       "2830       1.00\n",
       "3647       1.00\n",
       "         ...   \n",
       "3093    2077.00\n",
       "1086    2300.00\n",
       "4850    2300.00\n",
       "1421    2373.82\n",
       "2903    6000.00\n",
       "Name: Czynsz, Length: 4475, dtype: float64"
      ]
     },
     "execution_count": 251,
     "metadata": {},
     "output_type": "execute_result"
    }
   ],
   "source": [
    "df['Czynsz'].sort_values()"
   ]
  },
  {
   "cell_type": "code",
   "execution_count": 252,
   "metadata": {},
   "outputs": [
    {
     "data": {
      "text/plain": [
       "11"
      ]
     },
     "execution_count": 252,
     "metadata": {},
     "output_type": "execute_result"
    }
   ],
   "source": [
    "len(df[df['Czynsz'] == 1])"
   ]
  },
  {
   "cell_type": "code",
   "execution_count": 253,
   "metadata": {},
   "outputs": [],
   "source": [
    "df = df[df['Czynsz'] != 1]"
   ]
  },
  {
   "cell_type": "code",
   "execution_count": 254,
   "metadata": {},
   "outputs": [
    {
     "data": {
      "text/plain": [
       "4464"
      ]
     },
     "execution_count": 254,
     "metadata": {},
     "output_type": "execute_result"
    }
   ],
   "source": [
    "len(df)"
   ]
  },
  {
   "cell_type": "code",
   "execution_count": 255,
   "metadata": {},
   "outputs": [
    {
     "data": {
      "text/plain": [
       "Index(['Adres', 'Cena', 'Powierzchnia', 'Forma własności', 'Liczba pokoi',\n",
       "       'Stan wykończenia', 'Piętro', 'Czynsz', 'Miejsce parkingowe',\n",
       "       'Ogrzewanie', 'Certyfikat energetyczny', 'Rynek', 'Typ ogłoszeniodawcy',\n",
       "       'Dostępne od', 'Rok budowy', 'Rodzaj zabudowy', 'Okna', 'Winda',\n",
       "       'Media', 'Zabezpieczenia', 'Wyposażenie', 'Informacje dodatkowe',\n",
       "       'Materiał budynku', 'Link', 'Dzielnica', 'Cena [zł/m²]', 'Balkon',\n",
       "       'Ogródek', 'Taras'],\n",
       "      dtype='object')"
      ]
     },
     "execution_count": 255,
     "metadata": {},
     "output_type": "execute_result"
    }
   ],
   "source": [
    "df.columns"
   ]
  },
  {
   "cell_type": "code",
   "execution_count": 256,
   "metadata": {},
   "outputs": [
    {
     "data": {
      "text/plain": [
       "Adres                         0\n",
       "Cena                          0\n",
       "Powierzchnia                  0\n",
       "Forma własności               0\n",
       "Liczba pokoi                  0\n",
       "Stan wykończenia              0\n",
       "Piętro                        0\n",
       "Czynsz                        0\n",
       "Miejsce parkingowe         2039\n",
       "Ogrzewanie                  895\n",
       "Certyfikat energetyczny    3749\n",
       "Rynek                       157\n",
       "Typ ogłoszeniodawcy         157\n",
       "Dostępne od                3189\n",
       "Rok budowy                  494\n",
       "Rodzaj zabudowy             616\n",
       "Okna                       1531\n",
       "Winda                       157\n",
       "Media                      2218\n",
       "Zabezpieczenia             1079\n",
       "Wyposażenie                1967\n",
       "Informacje dodatkowe       1708\n",
       "Materiał budynku           1952\n",
       "Link                          0\n",
       "Dzielnica                     0\n",
       "Cena [zł/m²]                  0\n",
       "Balkon                        0\n",
       "Ogródek                       0\n",
       "Taras                         0\n",
       "dtype: int64"
      ]
     },
     "execution_count": 256,
     "metadata": {},
     "output_type": "execute_result"
    }
   ],
   "source": [
    "df.isnull().sum()"
   ]
  },
  {
   "cell_type": "code",
   "execution_count": 257,
   "metadata": {},
   "outputs": [
    {
     "data": {
      "text/plain": [
       "array(['garaż/miejsce parkingowe', nan], dtype=object)"
      ]
     },
     "execution_count": 257,
     "metadata": {},
     "output_type": "execute_result"
    }
   ],
   "source": [
    "df['Miejsce parkingowe'].unique()"
   ]
  },
  {
   "cell_type": "code",
   "execution_count": 258,
   "metadata": {},
   "outputs": [],
   "source": [
    "df['Miejsce parkingowe/Garaż'] = df['Miejsce parkingowe'].str.contains('garaż',na=False).astype(int)"
   ]
  },
  {
   "cell_type": "code",
   "execution_count": 259,
   "metadata": {},
   "outputs": [],
   "source": [
    "df = df.drop(columns = ['Miejsce parkingowe'])"
   ]
  },
  {
   "cell_type": "code",
   "execution_count": 260,
   "metadata": {},
   "outputs": [
    {
     "data": {
      "text/plain": [
       "0"
      ]
     },
     "execution_count": 260,
     "metadata": {},
     "output_type": "execute_result"
    }
   ],
   "source": [
    "len(df[df['Miejsce parkingowe/Garaż'].isnull()])"
   ]
  },
  {
   "cell_type": "code",
   "execution_count": 261,
   "metadata": {},
   "outputs": [
    {
     "data": {
      "text/plain": [
       "array(['miejskie', 'elektryczne', nan, 'gazowe', 'inne', 'kotłownia',\n",
       "       'piece kaflowe'], dtype=object)"
      ]
     },
     "execution_count": 261,
     "metadata": {},
     "output_type": "execute_result"
    }
   ],
   "source": [
    "df['Ogrzewanie'].unique()"
   ]
  },
  {
   "cell_type": "code",
   "execution_count": 262,
   "metadata": {},
   "outputs": [],
   "source": [
    "grouped_by_type_of_heating = df.groupby('Ogrzewanie')['Cena [zł/m²]'].mean()"
   ]
  },
  {
   "cell_type": "code",
   "execution_count": 263,
   "metadata": {},
   "outputs": [
    {
     "data": {
      "text/plain": [
       "Ogrzewanie\n",
       "elektryczne      14854.033333\n",
       "gazowe           15665.317204\n",
       "inne             17393.466102\n",
       "kotłownia        15929.380952\n",
       "miejskie         18716.552632\n",
       "piece kaflowe    11314.000000\n",
       "Name: Cena [zł/m²], dtype: float64"
      ]
     },
     "execution_count": 263,
     "metadata": {},
     "output_type": "execute_result"
    }
   ],
   "source": [
    "grouped_by_type_of_heating"
   ]
  },
  {
   "cell_type": "code",
   "execution_count": 264,
   "metadata": {},
   "outputs": [],
   "source": [
    "def find_closest_heating_type(price, avg_prices):\n",
    "    closest_heating = (avg_prices - price).abs().idxmin()\n",
    "    return closest_heating\n",
    "\n",
    "def fill_missing_heating(row, avg_prices):\n",
    "    if pd.isna(row['Ogrzewanie']):\n",
    "        return find_closest_heating_type(row['Cena'], avg_prices)\n",
    "    else:\n",
    "        return row['Ogrzewanie']\n"
   ]
  },
  {
   "cell_type": "code",
   "execution_count": 265,
   "metadata": {},
   "outputs": [],
   "source": [
    "df['Ogrzewanie'] = df.apply(lambda row: fill_missing_heating(row, grouped_by_type_of_heating), axis=1)"
   ]
  },
  {
   "cell_type": "code",
   "execution_count": 266,
   "metadata": {},
   "outputs": [
    {
     "data": {
      "text/plain": [
       "array(['miejskie', 'elektryczne', 'gazowe', 'inne', 'kotłownia',\n",
       "       'piece kaflowe'], dtype=object)"
      ]
     },
     "execution_count": 266,
     "metadata": {},
     "output_type": "execute_result"
    }
   ],
   "source": [
    "df['Ogrzewanie'].unique()"
   ]
  },
  {
   "cell_type": "code",
   "execution_count": 267,
   "metadata": {},
   "outputs": [
    {
     "data": {
      "text/plain": [
       "Index(['Adres', 'Cena', 'Powierzchnia', 'Forma własności', 'Liczba pokoi',\n",
       "       'Stan wykończenia', 'Piętro', 'Czynsz', 'Ogrzewanie',\n",
       "       'Certyfikat energetyczny', 'Rynek', 'Typ ogłoszeniodawcy',\n",
       "       'Dostępne od', 'Rok budowy', 'Rodzaj zabudowy', 'Okna', 'Winda',\n",
       "       'Media', 'Zabezpieczenia', 'Wyposażenie', 'Informacje dodatkowe',\n",
       "       'Materiał budynku', 'Link', 'Dzielnica', 'Cena [zł/m²]', 'Balkon',\n",
       "       'Ogródek', 'Taras', 'Miejsce parkingowe/Garaż'],\n",
       "      dtype='object')"
      ]
     },
     "execution_count": 267,
     "metadata": {},
     "output_type": "execute_result"
    }
   ],
   "source": [
    "df.columns"
   ]
  },
  {
   "cell_type": "code",
   "execution_count": 268,
   "metadata": {},
   "outputs": [],
   "source": [
    "df = df.drop(columns=['Certyfikat energetyczny'])"
   ]
  },
  {
   "cell_type": "code",
   "execution_count": 269,
   "metadata": {},
   "outputs": [
    {
     "data": {
      "text/plain": [
       "Adres                          0\n",
       "Cena                           0\n",
       "Powierzchnia                   0\n",
       "Forma własności                0\n",
       "Liczba pokoi                   0\n",
       "Stan wykończenia               0\n",
       "Piętro                         0\n",
       "Czynsz                         0\n",
       "Ogrzewanie                     0\n",
       "Rynek                        157\n",
       "Typ ogłoszeniodawcy          157\n",
       "Dostępne od                 3189\n",
       "Rok budowy                   494\n",
       "Rodzaj zabudowy              616\n",
       "Okna                        1531\n",
       "Winda                        157\n",
       "Media                       2218\n",
       "Zabezpieczenia              1079\n",
       "Wyposażenie                 1967\n",
       "Informacje dodatkowe        1708\n",
       "Materiał budynku            1952\n",
       "Link                           0\n",
       "Dzielnica                      0\n",
       "Cena [zł/m²]                   0\n",
       "Balkon                         0\n",
       "Ogródek                        0\n",
       "Taras                          0\n",
       "Miejsce parkingowe/Garaż       0\n",
       "dtype: int64"
      ]
     },
     "execution_count": 269,
     "metadata": {},
     "output_type": "execute_result"
    }
   ],
   "source": [
    "df.isnull().sum()"
   ]
  },
  {
   "cell_type": "code",
   "execution_count": 270,
   "metadata": {},
   "outputs": [],
   "source": [
    "df = df[df['Rynek'].notna()]"
   ]
  },
  {
   "cell_type": "code",
   "execution_count": 271,
   "metadata": {},
   "outputs": [
    {
     "data": {
      "text/plain": [
       "array(['prywatny', 'biuro nieruchomości', 'deweloper'], dtype=object)"
      ]
     },
     "execution_count": 271,
     "metadata": {},
     "output_type": "execute_result"
    }
   ],
   "source": [
    "df['Typ ogłoszeniodawcy'].unique()"
   ]
  },
  {
   "cell_type": "code",
   "execution_count": 272,
   "metadata": {},
   "outputs": [],
   "source": [
    "df = df[df['Typ ogłoszeniodawcy'].notna()]"
   ]
  },
  {
   "cell_type": "code",
   "execution_count": 273,
   "metadata": {},
   "outputs": [],
   "source": [
    "df.drop(columns=['Dostępne od'],inplace=True)"
   ]
  },
  {
   "cell_type": "code",
   "execution_count": 274,
   "metadata": {},
   "outputs": [],
   "source": [
    "df['Rok budowy'] = pd.to_numeric(df['Rok budowy'], errors='coerce').astype('Int64')"
   ]
  },
  {
   "cell_type": "code",
   "execution_count": 275,
   "metadata": {},
   "outputs": [
    {
     "data": {
      "text/plain": [
       "0       2011\n",
       "1       <NA>\n",
       "2       1969\n",
       "3       1958\n",
       "4       2016\n",
       "        ... \n",
       "4902    <NA>\n",
       "4903    2014\n",
       "4904    1955\n",
       "4905    1975\n",
       "4906    1959\n",
       "Name: Rok budowy, Length: 4307, dtype: Int64"
      ]
     },
     "execution_count": 275,
     "metadata": {},
     "output_type": "execute_result"
    }
   ],
   "source": [
    "df['Rok budowy']"
   ]
  },
  {
   "cell_type": "code",
   "execution_count": 276,
   "metadata": {},
   "outputs": [
    {
     "data": {
      "text/plain": [
       "337"
      ]
     },
     "execution_count": 276,
     "metadata": {},
     "output_type": "execute_result"
    }
   ],
   "source": [
    "len(df[df['Rok budowy'].isnull()])"
   ]
  },
  {
   "cell_type": "code",
   "execution_count": 277,
   "metadata": {},
   "outputs": [
    {
     "data": {
      "text/plain": [
       "4307"
      ]
     },
     "execution_count": 277,
     "metadata": {},
     "output_type": "execute_result"
    }
   ],
   "source": [
    "len(df)"
   ]
  },
  {
   "cell_type": "code",
   "execution_count": 278,
   "metadata": {},
   "outputs": [],
   "source": [
    "df = df[df['Rok budowy'].notna()]"
   ]
  },
  {
   "cell_type": "code",
   "execution_count": 279,
   "metadata": {},
   "outputs": [
    {
     "data": {
      "text/plain": [
       "array(['apartamentowiec', 'blok', 'kamienica', nan, 'dom wolnostojący',\n",
       "       'loft', 'szeregowiec', 'plomba'], dtype=object)"
      ]
     },
     "execution_count": 279,
     "metadata": {},
     "output_type": "execute_result"
    }
   ],
   "source": [
    "df['Rodzaj zabudowy'].unique()"
   ]
  },
  {
   "cell_type": "code",
   "execution_count": 280,
   "metadata": {},
   "outputs": [],
   "source": [
    "grouped_by_type_of_building = df.groupby(['Dzielnica', 'Rodzaj zabudowy'])['Cena [zł/m²]'].mean()"
   ]
  },
  {
   "cell_type": "code",
   "execution_count": 281,
   "metadata": {},
   "outputs": [
    {
     "data": {
      "text/plain": [
       "Dzielnica    Rodzaj zabudowy \n",
       "Bemowo       apartamentowiec     18015.607143\n",
       "             blok                16665.890323\n",
       "             kamienica           18288.000000\n",
       "Białołęka    apartamentowiec     15215.037037\n",
       "             blok                13894.510823\n",
       "                                     ...     \n",
       "Śródmieście  dom wolnostojący    24837.000000\n",
       "             kamienica           24469.323864\n",
       "Żoliborz     apartamentowiec     24208.030303\n",
       "             blok                18318.051724\n",
       "             kamienica           22132.130435\n",
       "Name: Cena [zł/m²], Length: 77, dtype: float64"
      ]
     },
     "execution_count": 281,
     "metadata": {},
     "output_type": "execute_result"
    }
   ],
   "source": [
    "grouped_by_type_of_building"
   ]
  },
  {
   "cell_type": "code",
   "execution_count": 282,
   "metadata": {},
   "outputs": [],
   "source": [
    "def find_closest_building_type(price, district, avg_prices):\n",
    "    district_avg_prices = avg_prices.loc[district]\n",
    "    closest_building_type = (district_avg_prices - price).abs().idxmin()  \n",
    "    return closest_building_type\n",
    "\n",
    "def fill_missing_building_type(row, avg_prices):\n",
    "    if pd.isna(row['Rodzaj zabudowy']):\n",
    "        return find_closest_building_type(row['Cena [zł/m²]'], row['Dzielnica'], avg_prices)\n",
    "    else:\n",
    "        return row['Rodzaj zabudowy']"
   ]
  },
  {
   "cell_type": "code",
   "execution_count": 283,
   "metadata": {},
   "outputs": [],
   "source": [
    "df['Rodzaj zabudowy'] = df.apply(lambda row: fill_missing_building_type(row, grouped_by_type_of_building), axis=1)"
   ]
  },
  {
   "cell_type": "code",
   "execution_count": 284,
   "metadata": {},
   "outputs": [
    {
     "data": {
      "text/plain": [
       "array(['apartamentowiec', 'blok', 'kamienica', 'plomba',\n",
       "       'dom wolnostojący', 'loft', 'szeregowiec'], dtype=object)"
      ]
     },
     "execution_count": 284,
     "metadata": {},
     "output_type": "execute_result"
    }
   ],
   "source": [
    "df['Rodzaj zabudowy'].unique()"
   ]
  },
  {
   "cell_type": "code",
   "execution_count": 285,
   "metadata": {},
   "outputs": [],
   "source": [
    "df['Winda'] = df['Winda'].replace({'tak':1, 'nie':0})"
   ]
  },
  {
   "cell_type": "code",
   "execution_count": 286,
   "metadata": {},
   "outputs": [
    {
     "data": {
      "text/plain": [
       "Adres                          0\n",
       "Cena                           0\n",
       "Powierzchnia                   0\n",
       "Forma własności                0\n",
       "Liczba pokoi                   0\n",
       "Stan wykończenia               0\n",
       "Piętro                         0\n",
       "Czynsz                         0\n",
       "Ogrzewanie                     0\n",
       "Rynek                          0\n",
       "Typ ogłoszeniodawcy            0\n",
       "Rok budowy                     0\n",
       "Rodzaj zabudowy                0\n",
       "Okna                        1254\n",
       "Winda                          0\n",
       "Media                       1885\n",
       "Zabezpieczenia               793\n",
       "Wyposażenie                 1644\n",
       "Informacje dodatkowe        1411\n",
       "Materiał budynku            1581\n",
       "Link                           0\n",
       "Dzielnica                      0\n",
       "Cena [zł/m²]                   0\n",
       "Balkon                         0\n",
       "Ogródek                        0\n",
       "Taras                          0\n",
       "Miejsce parkingowe/Garaż       0\n",
       "dtype: int64"
      ]
     },
     "execution_count": 286,
     "metadata": {},
     "output_type": "execute_result"
    }
   ],
   "source": [
    "df.isnull().sum()"
   ]
  },
  {
   "cell_type": "code",
   "execution_count": 287,
   "metadata": {},
   "outputs": [],
   "source": [
    "df.drop(columns=['Okna'],inplace=True)"
   ]
  },
  {
   "cell_type": "code",
   "execution_count": 288,
   "metadata": {},
   "outputs": [
    {
     "data": {
      "text/plain": [
       "array(['telewizja kablowa, internet, telefon', nan, 'telewizja kablowa',\n",
       "       'telewizja kablowa, internet', 'internet',\n",
       "       'telefon, internet, telewizja kablowa',\n",
       "       'internet, telewizja kablowa', 'telefon, internet', 'telefon',\n",
       "       'internet, telefon', 'telewizja kablowa, telefon',\n",
       "       'telefon, telewizja kablowa'], dtype=object)"
      ]
     },
     "execution_count": 288,
     "metadata": {},
     "output_type": "execute_result"
    }
   ],
   "source": [
    "df['Media'].unique()"
   ]
  },
  {
   "cell_type": "code",
   "execution_count": 289,
   "metadata": {},
   "outputs": [],
   "source": [
    "df = df.drop(columns=['Media'])"
   ]
  },
  {
   "cell_type": "code",
   "execution_count": 290,
   "metadata": {},
   "outputs": [
    {
     "data": {
      "text/plain": [
       "array(['teren zamknięty, domofon / wideofon, monitoring / ochrona',\n",
       "       'domofon / wideofon',\n",
       "       'drzwi / okna antywłamaniowe, domofon / wideofon, monitoring / ochrona',\n",
       "       'drzwi / okna antywłamaniowe, domofon / wideofon, teren zamknięty',\n",
       "       'drzwi / okna antywłamaniowe, teren zamknięty, domofon / wideofon, monitoring / ochrona',\n",
       "       'monitoring / ochrona, domofon / wideofon',\n",
       "       'system alarmowy, drzwi / okna antywłamaniowe, teren zamknięty, domofon / wideofon, monitoring / ochrona',\n",
       "       nan, 'domofon / wideofon, rolety antywłamaniowe',\n",
       "       'system alarmowy, monitoring / ochrona', 'monitoring / ochrona',\n",
       "       'domofon / wideofon, monitoring / ochrona',\n",
       "       'system alarmowy, teren zamknięty, domofon / wideofon, monitoring / ochrona',\n",
       "       'drzwi / okna antywłamaniowe, teren zamknięty, domofon / wideofon, monitoring / ochrona, rolety antywłamaniowe',\n",
       "       'drzwi / okna antywłamaniowe, teren zamknięty, domofon / wideofon',\n",
       "       'system alarmowy, drzwi / okna antywłamaniowe, teren zamknięty, domofon / wideofon, monitoring / ochrona, rolety antywłamaniowe',\n",
       "       'system alarmowy, drzwi / okna antywłamaniowe, teren zamknięty, domofon / wideofon',\n",
       "       'drzwi / okna antywłamaniowe, domofon / wideofon',\n",
       "       'domofon / wideofon, teren zamknięty', 'teren zamknięty',\n",
       "       'teren zamknięty, domofon / wideofon',\n",
       "       'system alarmowy, drzwi / okna antywłamaniowe, domofon / wideofon, monitoring / ochrona',\n",
       "       'system alarmowy',\n",
       "       'drzwi / okna antywłamaniowe, domofon / wideofon, rolety antywłamaniowe, teren zamknięty, monitoring / ochrona',\n",
       "       'system alarmowy, domofon / wideofon',\n",
       "       'drzwi / okna antywłamaniowe, domofon / wideofon, teren zamknięty, monitoring / ochrona',\n",
       "       'drzwi / okna antywłamaniowe, teren zamknięty, monitoring / ochrona',\n",
       "       'system alarmowy, monitoring / ochrona, domofon / wideofon',\n",
       "       'system alarmowy, drzwi / okna antywłamaniowe, domofon / wideofon, rolety antywłamaniowe',\n",
       "       'system alarmowy, domofon / wideofon, monitoring / ochrona',\n",
       "       'teren zamknięty, domofon / wideofon, monitoring / ochrona, rolety antywłamaniowe',\n",
       "       'drzwi / okna antywłamaniowe, teren zamknięty, domofon / wideofon, rolety antywłamaniowe',\n",
       "       'domofon / wideofon, teren zamknięty, monitoring / ochrona',\n",
       "       'drzwi / okna antywłamaniowe',\n",
       "       'drzwi / okna antywłamaniowe, domofon / wideofon, rolety antywłamaniowe',\n",
       "       'system alarmowy, drzwi / okna antywłamaniowe, domofon / wideofon',\n",
       "       'drzwi / okna antywłamaniowe, domofon / wideofon, monitoring / ochrona, rolety antywłamaniowe',\n",
       "       'system alarmowy, monitoring / ochrona, domofon / wideofon, teren zamknięty',\n",
       "       'teren zamknięty, monitoring / ochrona',\n",
       "       'drzwi / okna antywłamaniowe, domofon / wideofon, rolety antywłamaniowe, monitoring / ochrona',\n",
       "       'monitoring / ochrona, drzwi / okna antywłamaniowe, domofon / wideofon',\n",
       "       'monitoring / ochrona, drzwi / okna antywłamaniowe, teren zamknięty, domofon / wideofon',\n",
       "       'rolety antywłamaniowe, system alarmowy, teren zamknięty, monitoring / ochrona, drzwi / okna antywłamaniowe, domofon / wideofon',\n",
       "       'system alarmowy, domofon / wideofon, rolety antywłamaniowe, monitoring / ochrona',\n",
       "       'system alarmowy, drzwi / okna antywłamaniowe, domofon / wideofon, rolety antywłamaniowe, teren zamknięty, monitoring / ochrona',\n",
       "       'system alarmowy, drzwi / okna antywłamaniowe, domofon / wideofon, teren zamknięty, monitoring / ochrona',\n",
       "       'system alarmowy, drzwi / okna antywłamaniowe, teren zamknięty, domofon / wideofon, rolety antywłamaniowe',\n",
       "       'drzwi / okna antywłamaniowe, teren zamknięty',\n",
       "       'drzwi / okna antywłamaniowe, monitoring / ochrona',\n",
       "       'system alarmowy, teren zamknięty, domofon / wideofon',\n",
       "       'domofon / wideofon, rolety antywłamaniowe, monitoring / ochrona',\n",
       "       'domofon / wideofon, rolety antywłamaniowe, teren zamknięty',\n",
       "       'system alarmowy, domofon / wideofon, rolety antywłamaniowe, teren zamknięty, monitoring / ochrona',\n",
       "       'rolety antywłamaniowe',\n",
       "       'system alarmowy, drzwi / okna antywłamaniowe, teren zamknięty, monitoring / ochrona',\n",
       "       'system alarmowy, teren zamknięty, domofon / wideofon, monitoring / ochrona, rolety antywłamaniowe',\n",
       "       'domofon / wideofon, monitoring / ochrona, rolety antywłamaniowe',\n",
       "       'system alarmowy, teren zamknięty',\n",
       "       'drzwi / okna antywłamaniowe, rolety antywłamaniowe',\n",
       "       'system alarmowy, domofon / wideofon, teren zamknięty, monitoring / ochrona',\n",
       "       'teren zamknięty, domofon / wideofon, rolety antywłamaniowe',\n",
       "       'monitoring / ochrona, drzwi / okna antywłamaniowe, domofon / wideofon, teren zamknięty',\n",
       "       'system alarmowy, drzwi / okna antywłamaniowe, domofon / wideofon, teren zamknięty'],\n",
       "      dtype=object)"
      ]
     },
     "execution_count": 290,
     "metadata": {},
     "output_type": "execute_result"
    }
   ],
   "source": [
    "df['Zabezpieczenia'].unique()"
   ]
  },
  {
   "cell_type": "code",
   "execution_count": 292,
   "metadata": {},
   "outputs": [],
   "source": [
    "df['Domofon/Wideofon'] = (df['Zabezpieczenia'].str.contains('domofon') | df['Zabezpieczenia'].str.contains('wideofon',na=False)).astype('Int64')\n",
    "df['Ochrona'] = (df['Zabezpieczenia'].str.contains('ochrona',na=False)).astype('Int64')\n",
    "df['Teren zamkniety'] = (df['Zabezpieczenia'].str.contains('teren zamknięty',na=False)).astype('Int64')"
   ]
  },
  {
   "cell_type": "code",
   "execution_count": 293,
   "metadata": {},
   "outputs": [],
   "source": [
    "df = df.drop(columns=['Zabezpieczenia'])"
   ]
  },
  {
   "cell_type": "code",
   "execution_count": 294,
   "metadata": {},
   "outputs": [
    {
     "data": {
      "text/plain": [
       "Adres                          0\n",
       "Cena                           0\n",
       "Powierzchnia                   0\n",
       "Forma własności                0\n",
       "Liczba pokoi                   0\n",
       "Stan wykończenia               0\n",
       "Piętro                         0\n",
       "Czynsz                         0\n",
       "Ogrzewanie                     0\n",
       "Rynek                          0\n",
       "Typ ogłoszeniodawcy            0\n",
       "Rok budowy                     0\n",
       "Rodzaj zabudowy                0\n",
       "Winda                          0\n",
       "Wyposażenie                 1644\n",
       "Informacje dodatkowe        1411\n",
       "Materiał budynku            1581\n",
       "Link                           0\n",
       "Dzielnica                      0\n",
       "Cena [zł/m²]                   0\n",
       "Balkon                         0\n",
       "Ogródek                        0\n",
       "Taras                          0\n",
       "Miejsce parkingowe/Garaż       0\n",
       "Domofon/Wideofon               0\n",
       "Ochrona                        0\n",
       "Teren zamkniety                0\n",
       "dtype: int64"
      ]
     },
     "execution_count": 294,
     "metadata": {},
     "output_type": "execute_result"
    }
   ],
   "source": [
    "df.isnull().sum()"
   ]
  },
  {
   "cell_type": "code",
   "execution_count": 296,
   "metadata": {},
   "outputs": [],
   "source": [
    "df = df.drop(columns=['Wyposażenie','Informacje dodatkowe','Materiał budynku'])"
   ]
  },
  {
   "cell_type": "code",
   "execution_count": 297,
   "metadata": {},
   "outputs": [
    {
     "data": {
      "text/plain": [
       "Index(['Adres', 'Cena', 'Powierzchnia', 'Forma własności', 'Liczba pokoi',\n",
       "       'Stan wykończenia', 'Piętro', 'Czynsz', 'Ogrzewanie', 'Rynek',\n",
       "       'Typ ogłoszeniodawcy', 'Rok budowy', 'Rodzaj zabudowy', 'Winda', 'Link',\n",
       "       'Dzielnica', 'Cena [zł/m²]', 'Balkon', 'Ogródek', 'Taras',\n",
       "       'Miejsce parkingowe/Garaż', 'Domofon/Wideofon', 'Ochrona',\n",
       "       'Teren zamkniety'],\n",
       "      dtype='object')"
      ]
     },
     "execution_count": 297,
     "metadata": {},
     "output_type": "execute_result"
    }
   ],
   "source": [
    "df.columns"
   ]
  },
  {
   "cell_type": "code",
   "execution_count": 301,
   "metadata": {},
   "outputs": [],
   "source": [
    "df.to_csv(r\"C:\\Users\\Lukasz\\Desktop\\Projekty - CV\\Project - Otodom\\offers_details_2_cleaned.csv\",index=False)"
   ]
  }
 ],
 "metadata": {
  "kernelspec": {
   "display_name": "Python 3",
   "language": "python",
   "name": "python3"
  },
  "language_info": {
   "codemirror_mode": {
    "name": "ipython",
    "version": 3
   },
   "file_extension": ".py",
   "mimetype": "text/x-python",
   "name": "python",
   "nbconvert_exporter": "python",
   "pygments_lexer": "ipython3",
   "version": "3.11.9"
  }
 },
 "nbformat": 4,
 "nbformat_minor": 2
}
