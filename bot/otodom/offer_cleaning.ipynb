{
 "cells": [
  {
   "cell_type": "code",
   "execution_count": 2370,
   "metadata": {},
   "outputs": [],
   "source": [
    "import pandas as pd\n",
    "import constants as const\n",
    "import seaborn as sns\n",
    "import matplotlib.pyplot as plt"
   ]
  },
  {
   "cell_type": "code",
   "execution_count": 2371,
   "metadata": {},
   "outputs": [],
   "source": [
    "df = pd.read_csv(r\"C:\\Users\\Lukasz\\Desktop\\Project - Otodom\\offers_details_2.csv\")"
   ]
  },
  {
   "cell_type": "code",
   "execution_count": 2372,
   "metadata": {},
   "outputs": [
    {
     "data": {
      "text/html": [
       "<div>\n",
       "<style scoped>\n",
       "    .dataframe tbody tr th:only-of-type {\n",
       "        vertical-align: middle;\n",
       "    }\n",
       "\n",
       "    .dataframe tbody tr th {\n",
       "        vertical-align: top;\n",
       "    }\n",
       "\n",
       "    .dataframe thead th {\n",
       "        text-align: right;\n",
       "    }\n",
       "</style>\n",
       "<table border=\"1\" class=\"dataframe\">\n",
       "  <thead>\n",
       "    <tr style=\"text-align: right;\">\n",
       "      <th></th>\n",
       "      <th>Adres</th>\n",
       "      <th>Cena</th>\n",
       "      <th>Powierzchnia</th>\n",
       "      <th>Forma własności</th>\n",
       "      <th>Liczba pokoi</th>\n",
       "      <th>Stan wykończenia</th>\n",
       "      <th>Piętro</th>\n",
       "      <th>Balkon / ogród / taras</th>\n",
       "      <th>Czynsz</th>\n",
       "      <th>Miejsce parkingowe</th>\n",
       "      <th>...</th>\n",
       "      <th>Rok budowy</th>\n",
       "      <th>Rodzaj zabudowy</th>\n",
       "      <th>Okna</th>\n",
       "      <th>Winda</th>\n",
       "      <th>Media</th>\n",
       "      <th>Zabezpieczenia</th>\n",
       "      <th>Wyposażenie</th>\n",
       "      <th>Informacje dodatkowe</th>\n",
       "      <th>Materiał budynku</th>\n",
       "      <th>Link</th>\n",
       "    </tr>\n",
       "  </thead>\n",
       "  <tbody>\n",
       "    <tr>\n",
       "      <th>0</th>\n",
       "      <td>ul. Skarbka z Gór, Grodzisk, Białołęka, Warsza...</td>\n",
       "      <td>670 000 zł</td>\n",
       "      <td>48 m²</td>\n",
       "      <td>pełna własność</td>\n",
       "      <td>2</td>\n",
       "      <td>do zamieszkania</td>\n",
       "      <td>2/3</td>\n",
       "      <td>balkon</td>\n",
       "      <td>580 zł</td>\n",
       "      <td>garaż/miejsce parkingowe</td>\n",
       "      <td>...</td>\n",
       "      <td>2011.0</td>\n",
       "      <td>apartamentowiec</td>\n",
       "      <td>plastikowe</td>\n",
       "      <td>nie</td>\n",
       "      <td>telewizja kablowa, internet, telefon</td>\n",
       "      <td>teren zamknięty, domofon / wideofon, monitorin...</td>\n",
       "      <td>zmywarka, lodówka, meble, piekarnik, kuchenka,...</td>\n",
       "      <td>klimatyzacja, oddzielna kuchnia</td>\n",
       "      <td>beton</td>\n",
       "      <td>https://www.otodom.pl/pl/oferta/48m2-blisko-ce...</td>\n",
       "    </tr>\n",
       "    <tr>\n",
       "      <th>1</th>\n",
       "      <td>ul. Krasnobrodzka 17, Bródno-Podgrodzie, Targó...</td>\n",
       "      <td>765 000 zł</td>\n",
       "      <td>47 m²</td>\n",
       "      <td>pełna własność</td>\n",
       "      <td>2</td>\n",
       "      <td>do zamieszkania</td>\n",
       "      <td>7/10</td>\n",
       "      <td>balkon</td>\n",
       "      <td>NaN</td>\n",
       "      <td>NaN</td>\n",
       "      <td>...</td>\n",
       "      <td>NaN</td>\n",
       "      <td>blok</td>\n",
       "      <td>plastikowe</td>\n",
       "      <td>tak</td>\n",
       "      <td>NaN</td>\n",
       "      <td>NaN</td>\n",
       "      <td>zmywarka, lodówka, piekarnik, kuchenka, pralka</td>\n",
       "      <td>piwnica, oddzielna kuchnia</td>\n",
       "      <td>NaN</td>\n",
       "      <td>https://www.otodom.pl/pl/oferta/po-generalnym-...</td>\n",
       "    </tr>\n",
       "    <tr>\n",
       "      <th>2</th>\n",
       "      <td>ul. Okopowa, Nowolipki, Wola, Warszawa, mazowi...</td>\n",
       "      <td>920 000 zł</td>\n",
       "      <td>46 m²</td>\n",
       "      <td>pełna własność</td>\n",
       "      <td>3</td>\n",
       "      <td>do zamieszkania</td>\n",
       "      <td>1/10</td>\n",
       "      <td>balkon</td>\n",
       "      <td>NaN</td>\n",
       "      <td>NaN</td>\n",
       "      <td>...</td>\n",
       "      <td>1969.0</td>\n",
       "      <td>blok</td>\n",
       "      <td>plastikowe</td>\n",
       "      <td>tak</td>\n",
       "      <td>NaN</td>\n",
       "      <td>domofon / wideofon</td>\n",
       "      <td>meble, pralka, lodówka, piekarnik, zmywarka, k...</td>\n",
       "      <td>piwnica</td>\n",
       "      <td>NaN</td>\n",
       "      <td>https://www.otodom.pl/pl/oferta/5-minut-do-war...</td>\n",
       "    </tr>\n",
       "    <tr>\n",
       "      <th>3</th>\n",
       "      <td>ul. Grójecka, Stara Ochota, Ochota, Warszawa, ...</td>\n",
       "      <td>399 900 zł</td>\n",
       "      <td>18,24 m²</td>\n",
       "      <td>pełna własność</td>\n",
       "      <td>1</td>\n",
       "      <td>do zamieszkania</td>\n",
       "      <td>1/6</td>\n",
       "      <td>NaN</td>\n",
       "      <td>488 zł</td>\n",
       "      <td>NaN</td>\n",
       "      <td>...</td>\n",
       "      <td>1958.0</td>\n",
       "      <td>kamienica</td>\n",
       "      <td>plastikowe</td>\n",
       "      <td>tak</td>\n",
       "      <td>telewizja kablowa, internet, telefon</td>\n",
       "      <td>drzwi / okna antywłamaniowe, domofon / wideofo...</td>\n",
       "      <td>lodówka, meble, kuchenka</td>\n",
       "      <td>piwnica</td>\n",
       "      <td>cegła</td>\n",
       "      <td>https://www.otodom.pl/pl/oferta/ksiega-wieczys...</td>\n",
       "    </tr>\n",
       "    <tr>\n",
       "      <th>4</th>\n",
       "      <td>ul. ks. Juliana Chrościckiego, Nowe Włochy, Wł...</td>\n",
       "      <td>1 149 000 zł</td>\n",
       "      <td>72,49 m²</td>\n",
       "      <td>pełna własność</td>\n",
       "      <td>3</td>\n",
       "      <td>NaN</td>\n",
       "      <td>4/5</td>\n",
       "      <td>balkon</td>\n",
       "      <td>800 zł</td>\n",
       "      <td>garaż/miejsce parkingowe</td>\n",
       "      <td>...</td>\n",
       "      <td>2016.0</td>\n",
       "      <td>blok</td>\n",
       "      <td>NaN</td>\n",
       "      <td>nie</td>\n",
       "      <td>NaN</td>\n",
       "      <td>drzwi / okna antywłamaniowe, domofon / wideofo...</td>\n",
       "      <td>NaN</td>\n",
       "      <td>pom. użytkowe</td>\n",
       "      <td>NaN</td>\n",
       "      <td>https://www.otodom.pl/pl/oferta/nowe-3-pokoje-...</td>\n",
       "    </tr>\n",
       "  </tbody>\n",
       "</table>\n",
       "<p>5 rows × 25 columns</p>\n",
       "</div>"
      ],
      "text/plain": [
       "                                               Adres          Cena  \\\n",
       "0  ul. Skarbka z Gór, Grodzisk, Białołęka, Warsza...    670 000 zł   \n",
       "1  ul. Krasnobrodzka 17, Bródno-Podgrodzie, Targó...    765 000 zł   \n",
       "2  ul. Okopowa, Nowolipki, Wola, Warszawa, mazowi...    920 000 zł   \n",
       "3  ul. Grójecka, Stara Ochota, Ochota, Warszawa, ...    399 900 zł   \n",
       "4  ul. ks. Juliana Chrościckiego, Nowe Włochy, Wł...  1 149 000 zł   \n",
       "\n",
       "  Powierzchnia Forma własności  Liczba pokoi Stan wykończenia Piętro  \\\n",
       "0        48 m²  pełna własność             2  do zamieszkania    2/3   \n",
       "1        47 m²  pełna własność             2  do zamieszkania   7/10   \n",
       "2        46 m²  pełna własność             3  do zamieszkania   1/10   \n",
       "3     18,24 m²  pełna własność             1  do zamieszkania    1/6   \n",
       "4     72,49 m²  pełna własność             3              NaN    4/5   \n",
       "\n",
       "  Balkon / ogród / taras  Czynsz        Miejsce parkingowe  ... Rok budowy  \\\n",
       "0                 balkon  580 zł  garaż/miejsce parkingowe  ...     2011.0   \n",
       "1                 balkon     NaN                       NaN  ...        NaN   \n",
       "2                 balkon     NaN                       NaN  ...     1969.0   \n",
       "3                    NaN  488 zł                       NaN  ...     1958.0   \n",
       "4                 balkon  800 zł  garaż/miejsce parkingowe  ...     2016.0   \n",
       "\n",
       "   Rodzaj zabudowy        Okna Winda                                 Media  \\\n",
       "0  apartamentowiec  plastikowe   nie  telewizja kablowa, internet, telefon   \n",
       "1             blok  plastikowe   tak                                   NaN   \n",
       "2             blok  plastikowe   tak                                   NaN   \n",
       "3        kamienica  plastikowe   tak  telewizja kablowa, internet, telefon   \n",
       "4             blok         NaN   nie                                   NaN   \n",
       "\n",
       "                                      Zabezpieczenia  \\\n",
       "0  teren zamknięty, domofon / wideofon, monitorin...   \n",
       "1                                                NaN   \n",
       "2                                 domofon / wideofon   \n",
       "3  drzwi / okna antywłamaniowe, domofon / wideofo...   \n",
       "4  drzwi / okna antywłamaniowe, domofon / wideofo...   \n",
       "\n",
       "                                         Wyposażenie  \\\n",
       "0  zmywarka, lodówka, meble, piekarnik, kuchenka,...   \n",
       "1     zmywarka, lodówka, piekarnik, kuchenka, pralka   \n",
       "2  meble, pralka, lodówka, piekarnik, zmywarka, k...   \n",
       "3                           lodówka, meble, kuchenka   \n",
       "4                                                NaN   \n",
       "\n",
       "              Informacje dodatkowe Materiał budynku  \\\n",
       "0  klimatyzacja, oddzielna kuchnia            beton   \n",
       "1       piwnica, oddzielna kuchnia              NaN   \n",
       "2                          piwnica              NaN   \n",
       "3                          piwnica            cegła   \n",
       "4                    pom. użytkowe              NaN   \n",
       "\n",
       "                                                Link  \n",
       "0  https://www.otodom.pl/pl/oferta/48m2-blisko-ce...  \n",
       "1  https://www.otodom.pl/pl/oferta/po-generalnym-...  \n",
       "2  https://www.otodom.pl/pl/oferta/5-minut-do-war...  \n",
       "3  https://www.otodom.pl/pl/oferta/ksiega-wieczys...  \n",
       "4  https://www.otodom.pl/pl/oferta/nowe-3-pokoje-...  \n",
       "\n",
       "[5 rows x 25 columns]"
      ]
     },
     "execution_count": 2372,
     "metadata": {},
     "output_type": "execute_result"
    }
   ],
   "source": [
    "df.head()"
   ]
  },
  {
   "cell_type": "code",
   "execution_count": 2373,
   "metadata": {},
   "outputs": [
    {
     "name": "stdout",
     "output_type": "stream",
     "text": [
      "<class 'pandas.core.frame.DataFrame'>\n",
      "RangeIndex: 4907 entries, 0 to 4906\n",
      "Data columns (total 25 columns):\n",
      " #   Column                   Non-Null Count  Dtype  \n",
      "---  ------                   --------------  -----  \n",
      " 0   Adres                    4907 non-null   object \n",
      " 1   Cena                     4907 non-null   object \n",
      " 2   Powierzchnia             4907 non-null   object \n",
      " 3   Forma własności          4076 non-null   object \n",
      " 4   Liczba pokoi             4907 non-null   int64  \n",
      " 5   Stan wykończenia         4301 non-null   object \n",
      " 6   Piętro                   4849 non-null   object \n",
      " 7   Balkon / ogród / taras   3455 non-null   object \n",
      " 8   Czynsz                   3037 non-null   object \n",
      " 9   Miejsce parkingowe       2815 non-null   object \n",
      " 10  Ogrzewanie               3665 non-null   object \n",
      " 11  Certyfikat energetyczny  723 non-null    object \n",
      " 12  Rynek                    4404 non-null   object \n",
      " 13  Typ ogłoszeniodawcy      4404 non-null   object \n",
      " 14  Dostępne od              1289 non-null   object \n",
      " 15  Rok budowy               4043 non-null   float64\n",
      " 16  Rodzaj zabudowy          3918 non-null   object \n",
      " 17  Okna                     2989 non-null   object \n",
      " 18  Winda                    4404 non-null   object \n",
      " 19  Media                    2305 non-null   object \n",
      " 20  Zabezpieczenia           3453 non-null   object \n",
      " 21  Wyposażenie              2521 non-null   object \n",
      " 22  Informacje dodatkowe     2811 non-null   object \n",
      " 23  Materiał budynku         2560 non-null   object \n",
      " 24  Link                     4907 non-null   object \n",
      "dtypes: float64(1), int64(1), object(23)\n",
      "memory usage: 958.5+ KB\n"
     ]
    }
   ],
   "source": [
    "df.info()"
   ]
  },
  {
   "cell_type": "code",
   "execution_count": 2374,
   "metadata": {},
   "outputs": [
    {
     "data": {
      "text/html": [
       "<div>\n",
       "<style scoped>\n",
       "    .dataframe tbody tr th:only-of-type {\n",
       "        vertical-align: middle;\n",
       "    }\n",
       "\n",
       "    .dataframe tbody tr th {\n",
       "        vertical-align: top;\n",
       "    }\n",
       "\n",
       "    .dataframe thead th {\n",
       "        text-align: right;\n",
       "    }\n",
       "</style>\n",
       "<table border=\"1\" class=\"dataframe\">\n",
       "  <thead>\n",
       "    <tr style=\"text-align: right;\">\n",
       "      <th></th>\n",
       "      <th>Liczba pokoi</th>\n",
       "      <th>Rok budowy</th>\n",
       "    </tr>\n",
       "  </thead>\n",
       "  <tbody>\n",
       "    <tr>\n",
       "      <th>count</th>\n",
       "      <td>4907.000000</td>\n",
       "      <td>4043.000000</td>\n",
       "    </tr>\n",
       "    <tr>\n",
       "      <th>mean</th>\n",
       "      <td>2.539433</td>\n",
       "      <td>1991.371754</td>\n",
       "    </tr>\n",
       "    <tr>\n",
       "      <th>std</th>\n",
       "      <td>0.943482</td>\n",
       "      <td>53.590380</td>\n",
       "    </tr>\n",
       "    <tr>\n",
       "      <th>min</th>\n",
       "      <td>1.000000</td>\n",
       "      <td>2.000000</td>\n",
       "    </tr>\n",
       "    <tr>\n",
       "      <th>25%</th>\n",
       "      <td>2.000000</td>\n",
       "      <td>1970.000000</td>\n",
       "    </tr>\n",
       "    <tr>\n",
       "      <th>50%</th>\n",
       "      <td>2.000000</td>\n",
       "      <td>2002.000000</td>\n",
       "    </tr>\n",
       "    <tr>\n",
       "      <th>75%</th>\n",
       "      <td>3.000000</td>\n",
       "      <td>2018.000000</td>\n",
       "    </tr>\n",
       "    <tr>\n",
       "      <th>max</th>\n",
       "      <td>10.000000</td>\n",
       "      <td>2026.000000</td>\n",
       "    </tr>\n",
       "  </tbody>\n",
       "</table>\n",
       "</div>"
      ],
      "text/plain": [
       "       Liczba pokoi   Rok budowy\n",
       "count   4907.000000  4043.000000\n",
       "mean       2.539433  1991.371754\n",
       "std        0.943482    53.590380\n",
       "min        1.000000     2.000000\n",
       "25%        2.000000  1970.000000\n",
       "50%        2.000000  2002.000000\n",
       "75%        3.000000  2018.000000\n",
       "max       10.000000  2026.000000"
      ]
     },
     "execution_count": 2374,
     "metadata": {},
     "output_type": "execute_result"
    }
   ],
   "source": [
    "df.describe()"
   ]
  },
  {
   "cell_type": "code",
   "execution_count": 2375,
   "metadata": {},
   "outputs": [
    {
     "data": {
      "text/plain": [
       "Adres                         0\n",
       "Cena                          0\n",
       "Powierzchnia                  0\n",
       "Forma własności             831\n",
       "Liczba pokoi                  0\n",
       "Stan wykończenia            606\n",
       "Piętro                       58\n",
       "Balkon / ogród / taras     1452\n",
       "Czynsz                     1870\n",
       "Miejsce parkingowe         2092\n",
       "Ogrzewanie                 1242\n",
       "Certyfikat energetyczny    4184\n",
       "Rynek                       503\n",
       "Typ ogłoszeniodawcy         503\n",
       "Dostępne od                3618\n",
       "Rok budowy                  864\n",
       "Rodzaj zabudowy             989\n",
       "Okna                       1918\n",
       "Winda                       503\n",
       "Media                      2602\n",
       "Zabezpieczenia             1454\n",
       "Wyposażenie                2386\n",
       "Informacje dodatkowe       2096\n",
       "Materiał budynku           2347\n",
       "Link                          0\n",
       "dtype: int64"
      ]
     },
     "execution_count": 2375,
     "metadata": {},
     "output_type": "execute_result"
    }
   ],
   "source": [
    "df.isnull().sum()"
   ]
  },
  {
   "cell_type": "code",
   "execution_count": 2376,
   "metadata": {},
   "outputs": [
    {
     "data": {
      "text/plain": [
       "4891"
      ]
     },
     "execution_count": 2376,
     "metadata": {},
     "output_type": "execute_result"
    }
   ],
   "source": [
    "df.isnull().any(axis=1).sum()"
   ]
  },
  {
   "cell_type": "code",
   "execution_count": 2377,
   "metadata": {},
   "outputs": [
    {
     "data": {
      "text/plain": [
       "Index(['Adres', 'Cena', 'Powierzchnia', 'Forma własności', 'Liczba pokoi',\n",
       "       'Stan wykończenia', 'Piętro', 'Balkon / ogród / taras', 'Czynsz',\n",
       "       'Miejsce parkingowe', 'Ogrzewanie', 'Certyfikat energetyczny', 'Rynek',\n",
       "       'Typ ogłoszeniodawcy', 'Dostępne od', 'Rok budowy', 'Rodzaj zabudowy',\n",
       "       'Okna', 'Winda', 'Media', 'Zabezpieczenia', 'Wyposażenie',\n",
       "       'Informacje dodatkowe', 'Materiał budynku', 'Link'],\n",
       "      dtype='object')"
      ]
     },
     "execution_count": 2377,
     "metadata": {},
     "output_type": "execute_result"
    }
   ],
   "source": [
    "df.columns"
   ]
  },
  {
   "cell_type": "code",
   "execution_count": 2378,
   "metadata": {},
   "outputs": [
    {
     "data": {
      "text/plain": [
       "0       ul. Skarbka z Gór, Grodzisk, Białołęka, Warsza...\n",
       "1       ul. Krasnobrodzka 17, Bródno-Podgrodzie, Targó...\n",
       "2       ul. Okopowa, Nowolipki, Wola, Warszawa, mazowi...\n",
       "3       ul. Grójecka, Stara Ochota, Ochota, Warszawa, ...\n",
       "4       ul. ks. Juliana Chrościckiego, Nowe Włochy, Wł...\n",
       "                              ...                        \n",
       "4902    ul. Smoleńska, Targówek Mieszkaniowy, Targówek...\n",
       "4903    ul. J. R. R. Tolkiena, Służewiec, Mokotów, War...\n",
       "4904    al. Aleja Niepodległości, Stary Mokotów, Mokot...\n",
       "4905    ul. Synów Pułku, Jelonki Południowe, Bemowo, W...\n",
       "4906    ul. Astronautów, Okęcie, Włochy, Warszawa, maz...\n",
       "Name: Adres, Length: 4907, dtype: object"
      ]
     },
     "execution_count": 2378,
     "metadata": {},
     "output_type": "execute_result"
    }
   ],
   "source": [
    "df['Adres']"
   ]
  },
  {
   "cell_type": "code",
   "execution_count": 2379,
   "metadata": {},
   "outputs": [
    {
     "data": {
      "text/html": [
       "<div>\n",
       "<style scoped>\n",
       "    .dataframe tbody tr th:only-of-type {\n",
       "        vertical-align: middle;\n",
       "    }\n",
       "\n",
       "    .dataframe tbody tr th {\n",
       "        vertical-align: top;\n",
       "    }\n",
       "\n",
       "    .dataframe thead th {\n",
       "        text-align: right;\n",
       "    }\n",
       "</style>\n",
       "<table border=\"1\" class=\"dataframe\">\n",
       "  <thead>\n",
       "    <tr style=\"text-align: right;\">\n",
       "      <th></th>\n",
       "      <th>Adres</th>\n",
       "      <th>Cena</th>\n",
       "      <th>Powierzchnia</th>\n",
       "      <th>Forma własności</th>\n",
       "      <th>Liczba pokoi</th>\n",
       "      <th>Stan wykończenia</th>\n",
       "      <th>Piętro</th>\n",
       "      <th>Balkon / ogród / taras</th>\n",
       "      <th>Czynsz</th>\n",
       "      <th>Miejsce parkingowe</th>\n",
       "      <th>...</th>\n",
       "      <th>Rok budowy</th>\n",
       "      <th>Rodzaj zabudowy</th>\n",
       "      <th>Okna</th>\n",
       "      <th>Winda</th>\n",
       "      <th>Media</th>\n",
       "      <th>Zabezpieczenia</th>\n",
       "      <th>Wyposażenie</th>\n",
       "      <th>Informacje dodatkowe</th>\n",
       "      <th>Materiał budynku</th>\n",
       "      <th>Link</th>\n",
       "    </tr>\n",
       "  </thead>\n",
       "  <tbody>\n",
       "    <tr>\n",
       "      <th>8</th>\n",
       "      <td>Targówek, ul. Wierna, Osiedle Wilno, Targówek ...</td>\n",
       "      <td>825 000 zł</td>\n",
       "      <td>46,6 m²</td>\n",
       "      <td>pełna własność</td>\n",
       "      <td>2</td>\n",
       "      <td>do zamieszkania</td>\n",
       "      <td>1/3</td>\n",
       "      <td>balkon</td>\n",
       "      <td>794 zł</td>\n",
       "      <td>garaż/miejsce parkingowe</td>\n",
       "      <td>...</td>\n",
       "      <td>2022.0</td>\n",
       "      <td>blok</td>\n",
       "      <td>plastikowe</td>\n",
       "      <td>tak</td>\n",
       "      <td>telewizja kablowa, internet</td>\n",
       "      <td>drzwi / okna antywłamaniowe, teren zamknięty, ...</td>\n",
       "      <td>zmywarka, piekarnik, kuchenka</td>\n",
       "      <td>klimatyzacja</td>\n",
       "      <td>pustak</td>\n",
       "      <td>https://www.otodom.pl/pl/oferta/bezposrednio-o...</td>\n",
       "    </tr>\n",
       "    <tr>\n",
       "      <th>9</th>\n",
       "      <td>Optyków, Gocław, Praga-Południe, Warszawa, maz...</td>\n",
       "      <td>1 050 000 zł</td>\n",
       "      <td>44,69 m²</td>\n",
       "      <td>pełna własność</td>\n",
       "      <td>2</td>\n",
       "      <td>do zamieszkania</td>\n",
       "      <td>4/6</td>\n",
       "      <td>balkon, taras</td>\n",
       "      <td>550 zł</td>\n",
       "      <td>garaż/miejsce parkingowe</td>\n",
       "      <td>...</td>\n",
       "      <td>2022.0</td>\n",
       "      <td>blok</td>\n",
       "      <td>plastikowe</td>\n",
       "      <td>tak</td>\n",
       "      <td>telewizja kablowa, internet, telefon</td>\n",
       "      <td>drzwi / okna antywłamaniowe, domofon / wideofo...</td>\n",
       "      <td>zmywarka, lodówka, meble, piekarnik, kuchenka,...</td>\n",
       "      <td>klimatyzacja</td>\n",
       "      <td>cegła</td>\n",
       "      <td>https://www.otodom.pl/pl/oferta/nowe-elegancko...</td>\n",
       "    </tr>\n",
       "    <tr>\n",
       "      <th>10</th>\n",
       "      <td>al. Aleja Niepodległości, Stary Mokotów, Mokot...</td>\n",
       "      <td>839 000 zł</td>\n",
       "      <td>43 m²</td>\n",
       "      <td>NaN</td>\n",
       "      <td>2</td>\n",
       "      <td>NaN</td>\n",
       "      <td>parter/6</td>\n",
       "      <td>NaN</td>\n",
       "      <td>NaN</td>\n",
       "      <td>NaN</td>\n",
       "      <td>...</td>\n",
       "      <td>1950.0</td>\n",
       "      <td>NaN</td>\n",
       "      <td>NaN</td>\n",
       "      <td>nie</td>\n",
       "      <td>NaN</td>\n",
       "      <td>NaN</td>\n",
       "      <td>NaN</td>\n",
       "      <td>NaN</td>\n",
       "      <td>NaN</td>\n",
       "      <td>https://www.otodom.pl/pl/oferta/2pokoje-43m2-m...</td>\n",
       "    </tr>\n",
       "    <tr>\n",
       "      <th>13</th>\n",
       "      <td>al. Aleja Krakowska, Raków, Włochy, Warszawa, ...</td>\n",
       "      <td>1 389 000 zł</td>\n",
       "      <td>81 m²</td>\n",
       "      <td>pełna własność</td>\n",
       "      <td>4</td>\n",
       "      <td>do wykończenia</td>\n",
       "      <td>8/8</td>\n",
       "      <td>balkon</td>\n",
       "      <td>NaN</td>\n",
       "      <td>garaż/miejsce parkingowe</td>\n",
       "      <td>...</td>\n",
       "      <td>2024.0</td>\n",
       "      <td>blok</td>\n",
       "      <td>plastikowe</td>\n",
       "      <td>nie</td>\n",
       "      <td>telewizja kablowa, internet, telefon</td>\n",
       "      <td>drzwi / okna antywłamaniowe, teren zamknięty, ...</td>\n",
       "      <td>NaN</td>\n",
       "      <td>klimatyzacja</td>\n",
       "      <td>silikat</td>\n",
       "      <td>https://www.otodom.pl/pl/oferta/4-pok-mieszkan...</td>\n",
       "    </tr>\n",
       "    <tr>\n",
       "      <th>20</th>\n",
       "      <td>al. Aleja 3 Maja, Solec, Śródmieście, Warszawa...</td>\n",
       "      <td>2 200 000 zł</td>\n",
       "      <td>103 m²</td>\n",
       "      <td>NaN</td>\n",
       "      <td>3</td>\n",
       "      <td>do remontu</td>\n",
       "      <td>parter/5</td>\n",
       "      <td>NaN</td>\n",
       "      <td>1 000 zł</td>\n",
       "      <td>garaż/miejsce parkingowe</td>\n",
       "      <td>...</td>\n",
       "      <td>1931.0</td>\n",
       "      <td>kamienica</td>\n",
       "      <td>NaN</td>\n",
       "      <td>tak</td>\n",
       "      <td>NaN</td>\n",
       "      <td>monitoring / ochrona</td>\n",
       "      <td>NaN</td>\n",
       "      <td>piwnica</td>\n",
       "      <td>cegła</td>\n",
       "      <td>https://www.otodom.pl/pl/oferta/kamienica-proj...</td>\n",
       "    </tr>\n",
       "    <tr>\n",
       "      <th>...</th>\n",
       "      <td>...</td>\n",
       "      <td>...</td>\n",
       "      <td>...</td>\n",
       "      <td>...</td>\n",
       "      <td>...</td>\n",
       "      <td>...</td>\n",
       "      <td>...</td>\n",
       "      <td>...</td>\n",
       "      <td>...</td>\n",
       "      <td>...</td>\n",
       "      <td>...</td>\n",
       "      <td>...</td>\n",
       "      <td>...</td>\n",
       "      <td>...</td>\n",
       "      <td>...</td>\n",
       "      <td>...</td>\n",
       "      <td>...</td>\n",
       "      <td>...</td>\n",
       "      <td>...</td>\n",
       "      <td>...</td>\n",
       "      <td>...</td>\n",
       "    </tr>\n",
       "    <tr>\n",
       "      <th>4892</th>\n",
       "      <td>Nowolipki, Wola, Warszawa, mazowieckie</td>\n",
       "      <td>740 000 zł</td>\n",
       "      <td>48 m²</td>\n",
       "      <td>pełna własność</td>\n",
       "      <td>2</td>\n",
       "      <td>do remontu</td>\n",
       "      <td>parter/8</td>\n",
       "      <td>NaN</td>\n",
       "      <td>600 zł</td>\n",
       "      <td>NaN</td>\n",
       "      <td>...</td>\n",
       "      <td>1960.0</td>\n",
       "      <td>blok</td>\n",
       "      <td>NaN</td>\n",
       "      <td>tak</td>\n",
       "      <td>telewizja kablowa, internet</td>\n",
       "      <td>NaN</td>\n",
       "      <td>meble</td>\n",
       "      <td>piwnica, oddzielna kuchnia</td>\n",
       "      <td>cegła</td>\n",
       "      <td>https://www.otodom.pl/pl/oferta/dwa-pokoje-na-...</td>\n",
       "    </tr>\n",
       "    <tr>\n",
       "      <th>4895</th>\n",
       "      <td>Śródmieście Północne, Śródmieście, Warszawa, m...</td>\n",
       "      <td>910 000 zł</td>\n",
       "      <td>44 m²</td>\n",
       "      <td>pełna własność</td>\n",
       "      <td>3</td>\n",
       "      <td>do zamieszkania</td>\n",
       "      <td>1/4</td>\n",
       "      <td>balkon</td>\n",
       "      <td>900 zł</td>\n",
       "      <td>NaN</td>\n",
       "      <td>...</td>\n",
       "      <td>1958.0</td>\n",
       "      <td>blok</td>\n",
       "      <td>NaN</td>\n",
       "      <td>tak</td>\n",
       "      <td>NaN</td>\n",
       "      <td>monitoring / ochrona</td>\n",
       "      <td>NaN</td>\n",
       "      <td>piwnica</td>\n",
       "      <td>cegła</td>\n",
       "      <td>https://www.otodom.pl/pl/oferta/blisko-metra-b...</td>\n",
       "    </tr>\n",
       "    <tr>\n",
       "      <th>4897</th>\n",
       "      <td>Nowolipki, Wola, Warszawa, mazowieckie</td>\n",
       "      <td>1 500 000 zł</td>\n",
       "      <td>72 m²</td>\n",
       "      <td>pełna własność</td>\n",
       "      <td>3</td>\n",
       "      <td>do zamieszkania</td>\n",
       "      <td>6/11</td>\n",
       "      <td>NaN</td>\n",
       "      <td>650 zł</td>\n",
       "      <td>garaż/miejsce parkingowe</td>\n",
       "      <td>...</td>\n",
       "      <td>2002.0</td>\n",
       "      <td>apartamentowiec</td>\n",
       "      <td>plastikowe</td>\n",
       "      <td>tak</td>\n",
       "      <td>NaN</td>\n",
       "      <td>monitoring / ochrona, domofon / wideofon</td>\n",
       "      <td>NaN</td>\n",
       "      <td>NaN</td>\n",
       "      <td>beton</td>\n",
       "      <td>https://www.otodom.pl/pl/oferta/piekne-mieszka...</td>\n",
       "    </tr>\n",
       "    <tr>\n",
       "      <th>4898</th>\n",
       "      <td>Zygmunta Hübnera, Sady Żoliborskie, Żoliborz, ...</td>\n",
       "      <td>2 000 000 zł</td>\n",
       "      <td>66 m²</td>\n",
       "      <td>pełna własność</td>\n",
       "      <td>3</td>\n",
       "      <td>do zamieszkania</td>\n",
       "      <td>4/8</td>\n",
       "      <td>balkon</td>\n",
       "      <td>600 zł</td>\n",
       "      <td>garaż/miejsce parkingowe</td>\n",
       "      <td>...</td>\n",
       "      <td>2021.0</td>\n",
       "      <td>blok</td>\n",
       "      <td>plastikowe</td>\n",
       "      <td>tak</td>\n",
       "      <td>telewizja kablowa, internet, telefon</td>\n",
       "      <td>drzwi / okna antywłamaniowe, teren zamknięty, ...</td>\n",
       "      <td>zmywarka, lodówka, meble, piekarnik, kuchenka,...</td>\n",
       "      <td>klimatyzacja</td>\n",
       "      <td>cegła</td>\n",
       "      <td>https://www.otodom.pl/pl/oferta/mieszkanie-war...</td>\n",
       "    </tr>\n",
       "    <tr>\n",
       "      <th>4904</th>\n",
       "      <td>al. Aleja Niepodległości, Stary Mokotów, Mokot...</td>\n",
       "      <td>599 000 zł</td>\n",
       "      <td>36 m²</td>\n",
       "      <td>pełna własność</td>\n",
       "      <td>1</td>\n",
       "      <td>do zamieszkania</td>\n",
       "      <td>1/6</td>\n",
       "      <td>NaN</td>\n",
       "      <td>590 zł</td>\n",
       "      <td>garaż/miejsce parkingowe</td>\n",
       "      <td>...</td>\n",
       "      <td>1955.0</td>\n",
       "      <td>kamienica</td>\n",
       "      <td>plastikowe</td>\n",
       "      <td>tak</td>\n",
       "      <td>NaN</td>\n",
       "      <td>monitoring / ochrona</td>\n",
       "      <td>meble</td>\n",
       "      <td>piwnica</td>\n",
       "      <td>cegła</td>\n",
       "      <td>https://www.otodom.pl/pl/oferta/stary-mokotow-...</td>\n",
       "    </tr>\n",
       "  </tbody>\n",
       "</table>\n",
       "<p>1293 rows × 25 columns</p>\n",
       "</div>"
      ],
      "text/plain": [
       "                                                  Adres          Cena  \\\n",
       "8     Targówek, ul. Wierna, Osiedle Wilno, Targówek ...    825 000 zł   \n",
       "9     Optyków, Gocław, Praga-Południe, Warszawa, maz...  1 050 000 zł   \n",
       "10    al. Aleja Niepodległości, Stary Mokotów, Mokot...    839 000 zł   \n",
       "13    al. Aleja Krakowska, Raków, Włochy, Warszawa, ...  1 389 000 zł   \n",
       "20    al. Aleja 3 Maja, Solec, Śródmieście, Warszawa...  2 200 000 zł   \n",
       "...                                                 ...           ...   \n",
       "4892             Nowolipki, Wola, Warszawa, mazowieckie    740 000 zł   \n",
       "4895  Śródmieście Północne, Śródmieście, Warszawa, m...    910 000 zł   \n",
       "4897             Nowolipki, Wola, Warszawa, mazowieckie  1 500 000 zł   \n",
       "4898  Zygmunta Hübnera, Sady Żoliborskie, Żoliborz, ...  2 000 000 zł   \n",
       "4904  al. Aleja Niepodległości, Stary Mokotów, Mokot...    599 000 zł   \n",
       "\n",
       "     Powierzchnia Forma własności  Liczba pokoi Stan wykończenia    Piętro  \\\n",
       "8         46,6 m²  pełna własność             2  do zamieszkania       1/3   \n",
       "9        44,69 m²  pełna własność             2  do zamieszkania       4/6   \n",
       "10          43 m²             NaN             2              NaN  parter/6   \n",
       "13          81 m²  pełna własność             4   do wykończenia       8/8   \n",
       "20         103 m²             NaN             3       do remontu  parter/5   \n",
       "...           ...             ...           ...              ...       ...   \n",
       "4892        48 m²  pełna własność             2       do remontu  parter/8   \n",
       "4895        44 m²  pełna własność             3  do zamieszkania       1/4   \n",
       "4897        72 m²  pełna własność             3  do zamieszkania      6/11   \n",
       "4898        66 m²  pełna własność             3  do zamieszkania       4/8   \n",
       "4904        36 m²  pełna własność             1  do zamieszkania       1/6   \n",
       "\n",
       "     Balkon / ogród / taras    Czynsz        Miejsce parkingowe  ...  \\\n",
       "8                    balkon    794 zł  garaż/miejsce parkingowe  ...   \n",
       "9             balkon, taras    550 zł  garaż/miejsce parkingowe  ...   \n",
       "10                      NaN       NaN                       NaN  ...   \n",
       "13                   balkon       NaN  garaż/miejsce parkingowe  ...   \n",
       "20                      NaN  1 000 zł  garaż/miejsce parkingowe  ...   \n",
       "...                     ...       ...                       ...  ...   \n",
       "4892                    NaN    600 zł                       NaN  ...   \n",
       "4895                 balkon    900 zł                       NaN  ...   \n",
       "4897                    NaN    650 zł  garaż/miejsce parkingowe  ...   \n",
       "4898                 balkon    600 zł  garaż/miejsce parkingowe  ...   \n",
       "4904                    NaN    590 zł  garaż/miejsce parkingowe  ...   \n",
       "\n",
       "     Rok budowy  Rodzaj zabudowy        Okna Winda  \\\n",
       "8        2022.0             blok  plastikowe   tak   \n",
       "9        2022.0             blok  plastikowe   tak   \n",
       "10       1950.0              NaN         NaN   nie   \n",
       "13       2024.0             blok  plastikowe   nie   \n",
       "20       1931.0        kamienica         NaN   tak   \n",
       "...         ...              ...         ...   ...   \n",
       "4892     1960.0             blok         NaN   tak   \n",
       "4895     1958.0             blok         NaN   tak   \n",
       "4897     2002.0  apartamentowiec  plastikowe   tak   \n",
       "4898     2021.0             blok  plastikowe   tak   \n",
       "4904     1955.0        kamienica  plastikowe   tak   \n",
       "\n",
       "                                     Media  \\\n",
       "8              telewizja kablowa, internet   \n",
       "9     telewizja kablowa, internet, telefon   \n",
       "10                                     NaN   \n",
       "13    telewizja kablowa, internet, telefon   \n",
       "20                                     NaN   \n",
       "...                                    ...   \n",
       "4892           telewizja kablowa, internet   \n",
       "4895                                   NaN   \n",
       "4897                                   NaN   \n",
       "4898  telewizja kablowa, internet, telefon   \n",
       "4904                                   NaN   \n",
       "\n",
       "                                         Zabezpieczenia  \\\n",
       "8     drzwi / okna antywłamaniowe, teren zamknięty, ...   \n",
       "9     drzwi / okna antywłamaniowe, domofon / wideofo...   \n",
       "10                                                  NaN   \n",
       "13    drzwi / okna antywłamaniowe, teren zamknięty, ...   \n",
       "20                                 monitoring / ochrona   \n",
       "...                                                 ...   \n",
       "4892                                                NaN   \n",
       "4895                               monitoring / ochrona   \n",
       "4897           monitoring / ochrona, domofon / wideofon   \n",
       "4898  drzwi / okna antywłamaniowe, teren zamknięty, ...   \n",
       "4904                               monitoring / ochrona   \n",
       "\n",
       "                                            Wyposażenie  \\\n",
       "8                         zmywarka, piekarnik, kuchenka   \n",
       "9     zmywarka, lodówka, meble, piekarnik, kuchenka,...   \n",
       "10                                                  NaN   \n",
       "13                                                  NaN   \n",
       "20                                                  NaN   \n",
       "...                                                 ...   \n",
       "4892                                              meble   \n",
       "4895                                                NaN   \n",
       "4897                                                NaN   \n",
       "4898  zmywarka, lodówka, meble, piekarnik, kuchenka,...   \n",
       "4904                                              meble   \n",
       "\n",
       "            Informacje dodatkowe Materiał budynku  \\\n",
       "8                   klimatyzacja           pustak   \n",
       "9                   klimatyzacja            cegła   \n",
       "10                           NaN              NaN   \n",
       "13                  klimatyzacja          silikat   \n",
       "20                       piwnica            cegła   \n",
       "...                          ...              ...   \n",
       "4892  piwnica, oddzielna kuchnia            cegła   \n",
       "4895                     piwnica            cegła   \n",
       "4897                         NaN            beton   \n",
       "4898                klimatyzacja            cegła   \n",
       "4904                     piwnica            cegła   \n",
       "\n",
       "                                                   Link  \n",
       "8     https://www.otodom.pl/pl/oferta/bezposrednio-o...  \n",
       "9     https://www.otodom.pl/pl/oferta/nowe-elegancko...  \n",
       "10    https://www.otodom.pl/pl/oferta/2pokoje-43m2-m...  \n",
       "13    https://www.otodom.pl/pl/oferta/4-pok-mieszkan...  \n",
       "20    https://www.otodom.pl/pl/oferta/kamienica-proj...  \n",
       "...                                                 ...  \n",
       "4892  https://www.otodom.pl/pl/oferta/dwa-pokoje-na-...  \n",
       "4895  https://www.otodom.pl/pl/oferta/blisko-metra-b...  \n",
       "4897  https://www.otodom.pl/pl/oferta/piekne-mieszka...  \n",
       "4898  https://www.otodom.pl/pl/oferta/mieszkanie-war...  \n",
       "4904  https://www.otodom.pl/pl/oferta/stary-mokotow-...  \n",
       "\n",
       "[1293 rows x 25 columns]"
      ]
     },
     "execution_count": 2379,
     "metadata": {},
     "output_type": "execute_result"
    }
   ],
   "source": [
    "df[~df['Adres'].str.startswith('ul')]"
   ]
  },
  {
   "cell_type": "code",
   "execution_count": 2380,
   "metadata": {},
   "outputs": [
    {
     "data": {
      "text/plain": [
       "array([' Białołęka', ' Targówek', ' Wola', ' Ochota', ' Włochy',\n",
       "       ' Praga-Południe', ' Ursus', ' Mokotów', ' Bielany', ' Wilanów',\n",
       "       ' Śródmieście', ' Praga-Północ', ' Bemowo', ' Ursynów', ' Wawer',\n",
       "       ' Rembertów', ' Żoliborz', ' Wesoła', ' Ząbki', ' Raszyn',\n",
       "       ' Michałowice', 'Pruszków', ' Piastów', ' Lesznowola',\n",
       "       ' Stare Babice', 'Piastów', ' Piaseczno', ' Ostrzeszów'],\n",
       "      dtype=object)"
      ]
     },
     "execution_count": 2380,
     "metadata": {},
     "output_type": "execute_result"
    }
   ],
   "source": [
    "df['Adres'].str.split(',').str[-3].unique()"
   ]
  },
  {
   "cell_type": "code",
   "execution_count": 2381,
   "metadata": {},
   "outputs": [],
   "source": [
    "def get_third_last_element(address):\n",
    "    elements = address.split(',')\n",
    "    elements = [element.strip() for element in elements]\n",
    "    if len(elements) > 3:\n",
    "        return elements[-3]\n",
    "    else:\n",
    "        return None"
   ]
  },
  {
   "cell_type": "code",
   "execution_count": 2382,
   "metadata": {},
   "outputs": [],
   "source": [
    "df['Dzielnica'] = df['Adres'].apply(get_third_last_element)"
   ]
  },
  {
   "cell_type": "code",
   "execution_count": 2383,
   "metadata": {},
   "outputs": [
    {
     "data": {
      "text/plain": [
       "0       Białołęka\n",
       "1        Targówek\n",
       "2            Wola\n",
       "3          Ochota\n",
       "4          Włochy\n",
       "          ...    \n",
       "4902     Targówek\n",
       "4903      Mokotów\n",
       "4904      Mokotów\n",
       "4905       Bemowo\n",
       "4906       Włochy\n",
       "Name: Dzielnica, Length: 4907, dtype: object"
      ]
     },
     "execution_count": 2383,
     "metadata": {},
     "output_type": "execute_result"
    }
   ],
   "source": [
    "df['Dzielnica']"
   ]
  },
  {
   "cell_type": "code",
   "execution_count": 2384,
   "metadata": {},
   "outputs": [
    {
     "data": {
      "text/plain": [
       "4907"
      ]
     },
     "execution_count": 2384,
     "metadata": {},
     "output_type": "execute_result"
    }
   ],
   "source": [
    "len(df['Dzielnica'].isin(const.WARSAW_DISTRICTS))"
   ]
  },
  {
   "cell_type": "code",
   "execution_count": 2385,
   "metadata": {},
   "outputs": [],
   "source": [
    "df = df[df['Dzielnica'].isin(const.WARSAW_DISTRICTS)]"
   ]
  },
  {
   "cell_type": "code",
   "execution_count": 2386,
   "metadata": {},
   "outputs": [
    {
     "data": {
      "text/plain": [
       "array(['Zapytaj o cenę'], dtype=object)"
      ]
     },
     "execution_count": 2386,
     "metadata": {},
     "output_type": "execute_result"
    }
   ],
   "source": [
    "df.loc[~df['Cena'].str.contains('zł'),'Cena'].unique()"
   ]
  },
  {
   "cell_type": "code",
   "execution_count": 2387,
   "metadata": {},
   "outputs": [],
   "source": [
    "df = df[df['Cena'] != 'Zapytaj o cenę']"
   ]
  },
  {
   "cell_type": "code",
   "execution_count": 2388,
   "metadata": {},
   "outputs": [
    {
     "data": {
      "text/html": [
       "<div>\n",
       "<style scoped>\n",
       "    .dataframe tbody tr th:only-of-type {\n",
       "        vertical-align: middle;\n",
       "    }\n",
       "\n",
       "    .dataframe tbody tr th {\n",
       "        vertical-align: top;\n",
       "    }\n",
       "\n",
       "    .dataframe thead th {\n",
       "        text-align: right;\n",
       "    }\n",
       "</style>\n",
       "<table border=\"1\" class=\"dataframe\">\n",
       "  <thead>\n",
       "    <tr style=\"text-align: right;\">\n",
       "      <th></th>\n",
       "      <th>Adres</th>\n",
       "      <th>Cena</th>\n",
       "      <th>Powierzchnia</th>\n",
       "      <th>Forma własności</th>\n",
       "      <th>Liczba pokoi</th>\n",
       "      <th>Stan wykończenia</th>\n",
       "      <th>Piętro</th>\n",
       "      <th>Balkon / ogród / taras</th>\n",
       "      <th>Czynsz</th>\n",
       "      <th>Miejsce parkingowe</th>\n",
       "      <th>...</th>\n",
       "      <th>Rodzaj zabudowy</th>\n",
       "      <th>Okna</th>\n",
       "      <th>Winda</th>\n",
       "      <th>Media</th>\n",
       "      <th>Zabezpieczenia</th>\n",
       "      <th>Wyposażenie</th>\n",
       "      <th>Informacje dodatkowe</th>\n",
       "      <th>Materiał budynku</th>\n",
       "      <th>Link</th>\n",
       "      <th>Dzielnica</th>\n",
       "    </tr>\n",
       "  </thead>\n",
       "  <tbody>\n",
       "  </tbody>\n",
       "</table>\n",
       "<p>0 rows × 26 columns</p>\n",
       "</div>"
      ],
      "text/plain": [
       "Empty DataFrame\n",
       "Columns: [Adres, Cena, Powierzchnia, Forma własności, Liczba pokoi, Stan wykończenia, Piętro, Balkon / ogród / taras, Czynsz, Miejsce parkingowe, Ogrzewanie, Certyfikat energetyczny, Rynek, Typ ogłoszeniodawcy, Dostępne od, Rok budowy, Rodzaj zabudowy, Okna, Winda, Media, Zabezpieczenia, Wyposażenie, Informacje dodatkowe, Materiał budynku, Link, Dzielnica]\n",
       "Index: []\n",
       "\n",
       "[0 rows x 26 columns]"
      ]
     },
     "execution_count": 2388,
     "metadata": {},
     "output_type": "execute_result"
    }
   ],
   "source": [
    "df[~df['Cena'].str.contains(' zł')]"
   ]
  },
  {
   "cell_type": "code",
   "execution_count": 2389,
   "metadata": {},
   "outputs": [],
   "source": [
    "def convert_price(price):\n",
    "    return float(price.replace(' zł','').replace(' ','').replace(',','.'))"
   ]
  },
  {
   "cell_type": "code",
   "execution_count": 2390,
   "metadata": {},
   "outputs": [],
   "source": [
    "df['Cena'] = df['Cena'].apply(convert_price)"
   ]
  },
  {
   "cell_type": "code",
   "execution_count": 2391,
   "metadata": {},
   "outputs": [
    {
     "data": {
      "text/plain": [
       "0          48 m²\n",
       "1          47 m²\n",
       "2          46 m²\n",
       "3       18,24 m²\n",
       "4       72,49 m²\n",
       "          ...   \n",
       "4902      139 m²\n",
       "4903       76 m²\n",
       "4904       36 m²\n",
       "4905       30 m²\n",
       "4906     50,8 m²\n",
       "Name: Powierzchnia, Length: 4532, dtype: object"
      ]
     },
     "execution_count": 2391,
     "metadata": {},
     "output_type": "execute_result"
    }
   ],
   "source": [
    "df['Powierzchnia']"
   ]
  },
  {
   "cell_type": "code",
   "execution_count": 2392,
   "metadata": {},
   "outputs": [
    {
     "data": {
      "text/html": [
       "<div>\n",
       "<style scoped>\n",
       "    .dataframe tbody tr th:only-of-type {\n",
       "        vertical-align: middle;\n",
       "    }\n",
       "\n",
       "    .dataframe tbody tr th {\n",
       "        vertical-align: top;\n",
       "    }\n",
       "\n",
       "    .dataframe thead th {\n",
       "        text-align: right;\n",
       "    }\n",
       "</style>\n",
       "<table border=\"1\" class=\"dataframe\">\n",
       "  <thead>\n",
       "    <tr style=\"text-align: right;\">\n",
       "      <th></th>\n",
       "      <th>Adres</th>\n",
       "      <th>Cena</th>\n",
       "      <th>Powierzchnia</th>\n",
       "      <th>Forma własności</th>\n",
       "      <th>Liczba pokoi</th>\n",
       "      <th>Stan wykończenia</th>\n",
       "      <th>Piętro</th>\n",
       "      <th>Balkon / ogród / taras</th>\n",
       "      <th>Czynsz</th>\n",
       "      <th>Miejsce parkingowe</th>\n",
       "      <th>...</th>\n",
       "      <th>Rodzaj zabudowy</th>\n",
       "      <th>Okna</th>\n",
       "      <th>Winda</th>\n",
       "      <th>Media</th>\n",
       "      <th>Zabezpieczenia</th>\n",
       "      <th>Wyposażenie</th>\n",
       "      <th>Informacje dodatkowe</th>\n",
       "      <th>Materiał budynku</th>\n",
       "      <th>Link</th>\n",
       "      <th>Dzielnica</th>\n",
       "    </tr>\n",
       "  </thead>\n",
       "  <tbody>\n",
       "  </tbody>\n",
       "</table>\n",
       "<p>0 rows × 26 columns</p>\n",
       "</div>"
      ],
      "text/plain": [
       "Empty DataFrame\n",
       "Columns: [Adres, Cena, Powierzchnia, Forma własności, Liczba pokoi, Stan wykończenia, Piętro, Balkon / ogród / taras, Czynsz, Miejsce parkingowe, Ogrzewanie, Certyfikat energetyczny, Rynek, Typ ogłoszeniodawcy, Dostępne od, Rok budowy, Rodzaj zabudowy, Okna, Winda, Media, Zabezpieczenia, Wyposażenie, Informacje dodatkowe, Materiał budynku, Link, Dzielnica]\n",
       "Index: []\n",
       "\n",
       "[0 rows x 26 columns]"
      ]
     },
     "execution_count": 2392,
     "metadata": {},
     "output_type": "execute_result"
    }
   ],
   "source": [
    "df[~df['Powierzchnia'].str.contains('m')]"
   ]
  },
  {
   "cell_type": "code",
   "execution_count": 2393,
   "metadata": {},
   "outputs": [],
   "source": [
    "df['Powierzchnia'] = df['Powierzchnia'].str.replace(' m²','').str.replace(',','.').astype(float)"
   ]
  },
  {
   "cell_type": "code",
   "execution_count": 2394,
   "metadata": {},
   "outputs": [
    {
     "data": {
      "text/plain": [
       "0        48.00\n",
       "1        47.00\n",
       "2        46.00\n",
       "3        18.24\n",
       "4        72.49\n",
       "         ...  \n",
       "4902    139.00\n",
       "4903     76.00\n",
       "4904     36.00\n",
       "4905     30.00\n",
       "4906     50.80\n",
       "Name: Powierzchnia, Length: 4532, dtype: float64"
      ]
     },
     "execution_count": 2394,
     "metadata": {},
     "output_type": "execute_result"
    }
   ],
   "source": [
    "df['Powierzchnia']"
   ]
  },
  {
   "cell_type": "code",
   "execution_count": 2395,
   "metadata": {},
   "outputs": [],
   "source": [
    "df['Cena [zł/m²]'] = (df['Cena']/df['Powierzchnia']).round(0)"
   ]
  },
  {
   "cell_type": "code",
   "execution_count": 2396,
   "metadata": {},
   "outputs": [
    {
     "data": {
      "text/plain": [
       "828"
      ]
     },
     "execution_count": 2396,
     "metadata": {},
     "output_type": "execute_result"
    }
   ],
   "source": [
    "df['Forma własności'].isnull().sum()"
   ]
  },
  {
   "cell_type": "code",
   "execution_count": 2397,
   "metadata": {},
   "outputs": [],
   "source": [
    "grouped_by_distrcit_and_property_form = df.groupby(['Dzielnica','Forma własności'])['Cena [zł/m²]'].mean().reset_index()"
   ]
  },
  {
   "cell_type": "code",
   "execution_count": 2398,
   "metadata": {},
   "outputs": [
    {
     "data": {
      "text/html": [
       "<div>\n",
       "<style scoped>\n",
       "    .dataframe tbody tr th:only-of-type {\n",
       "        vertical-align: middle;\n",
       "    }\n",
       "\n",
       "    .dataframe tbody tr th {\n",
       "        vertical-align: top;\n",
       "    }\n",
       "\n",
       "    .dataframe thead th {\n",
       "        text-align: right;\n",
       "    }\n",
       "</style>\n",
       "<table border=\"1\" class=\"dataframe\">\n",
       "  <thead>\n",
       "    <tr style=\"text-align: right;\">\n",
       "      <th></th>\n",
       "      <th>Dzielnica</th>\n",
       "      <th>Forma własności</th>\n",
       "      <th>Cena [zł/m²]</th>\n",
       "    </tr>\n",
       "  </thead>\n",
       "  <tbody>\n",
       "    <tr>\n",
       "      <th>0</th>\n",
       "      <td>Bemowo</td>\n",
       "      <td>pełna własność</td>\n",
       "      <td>17675.457317</td>\n",
       "    </tr>\n",
       "    <tr>\n",
       "      <th>1</th>\n",
       "      <td>Bemowo</td>\n",
       "      <td>spółdzielcze wł. prawo do lokalu</td>\n",
       "      <td>15334.620690</td>\n",
       "    </tr>\n",
       "    <tr>\n",
       "      <th>2</th>\n",
       "      <td>Bemowo</td>\n",
       "      <td>użytkowanie wieczyste / dzierżawa</td>\n",
       "      <td>17445.000000</td>\n",
       "    </tr>\n",
       "    <tr>\n",
       "      <th>3</th>\n",
       "      <td>Białołęka</td>\n",
       "      <td>pełna własność</td>\n",
       "      <td>13937.423197</td>\n",
       "    </tr>\n",
       "    <tr>\n",
       "      <th>4</th>\n",
       "      <td>Białołęka</td>\n",
       "      <td>spółdzielcze wł. prawo do lokalu</td>\n",
       "      <td>13176.571429</td>\n",
       "    </tr>\n",
       "    <tr>\n",
       "      <th>5</th>\n",
       "      <td>Białołęka</td>\n",
       "      <td>udział</td>\n",
       "      <td>11182.000000</td>\n",
       "    </tr>\n",
       "    <tr>\n",
       "      <th>6</th>\n",
       "      <td>Białołęka</td>\n",
       "      <td>użytkowanie wieczyste / dzierżawa</td>\n",
       "      <td>14762.000000</td>\n",
       "    </tr>\n",
       "    <tr>\n",
       "      <th>7</th>\n",
       "      <td>Bielany</td>\n",
       "      <td>pełna własność</td>\n",
       "      <td>18218.401099</td>\n",
       "    </tr>\n",
       "    <tr>\n",
       "      <th>8</th>\n",
       "      <td>Bielany</td>\n",
       "      <td>spółdzielcze wł. prawo do lokalu</td>\n",
       "      <td>15516.634146</td>\n",
       "    </tr>\n",
       "    <tr>\n",
       "      <th>9</th>\n",
       "      <td>Mokotów</td>\n",
       "      <td>pełna własność</td>\n",
       "      <td>20016.573913</td>\n",
       "    </tr>\n",
       "    <tr>\n",
       "      <th>10</th>\n",
       "      <td>Mokotów</td>\n",
       "      <td>spółdzielcze wł. prawo do lokalu</td>\n",
       "      <td>17843.389831</td>\n",
       "    </tr>\n",
       "    <tr>\n",
       "      <th>11</th>\n",
       "      <td>Ochota</td>\n",
       "      <td>pełna własność</td>\n",
       "      <td>19425.856000</td>\n",
       "    </tr>\n",
       "    <tr>\n",
       "      <th>12</th>\n",
       "      <td>Ochota</td>\n",
       "      <td>spółdzielcze wł. prawo do lokalu</td>\n",
       "      <td>18548.500000</td>\n",
       "    </tr>\n",
       "    <tr>\n",
       "      <th>13</th>\n",
       "      <td>Praga-Południe</td>\n",
       "      <td>pełna własność</td>\n",
       "      <td>17708.993485</td>\n",
       "    </tr>\n",
       "    <tr>\n",
       "      <th>14</th>\n",
       "      <td>Praga-Południe</td>\n",
       "      <td>spółdzielcze wł. prawo do lokalu</td>\n",
       "      <td>15677.764706</td>\n",
       "    </tr>\n",
       "    <tr>\n",
       "      <th>15</th>\n",
       "      <td>Praga-Północ</td>\n",
       "      <td>pełna własność</td>\n",
       "      <td>18673.270492</td>\n",
       "    </tr>\n",
       "    <tr>\n",
       "      <th>16</th>\n",
       "      <td>Praga-Północ</td>\n",
       "      <td>spółdzielcze wł. prawo do lokalu</td>\n",
       "      <td>17015.428571</td>\n",
       "    </tr>\n",
       "    <tr>\n",
       "      <th>17</th>\n",
       "      <td>Rembertów</td>\n",
       "      <td>pełna własność</td>\n",
       "      <td>12842.717949</td>\n",
       "    </tr>\n",
       "    <tr>\n",
       "      <th>18</th>\n",
       "      <td>Targówek</td>\n",
       "      <td>pełna własność</td>\n",
       "      <td>15658.322835</td>\n",
       "    </tr>\n",
       "    <tr>\n",
       "      <th>19</th>\n",
       "      <td>Targówek</td>\n",
       "      <td>spółdzielcze wł. prawo do lokalu</td>\n",
       "      <td>14915.060606</td>\n",
       "    </tr>\n",
       "    <tr>\n",
       "      <th>20</th>\n",
       "      <td>Ursus</td>\n",
       "      <td>pełna własność</td>\n",
       "      <td>15348.497175</td>\n",
       "    </tr>\n",
       "    <tr>\n",
       "      <th>21</th>\n",
       "      <td>Ursus</td>\n",
       "      <td>spółdzielcze wł. prawo do lokalu</td>\n",
       "      <td>13502.714286</td>\n",
       "    </tr>\n",
       "    <tr>\n",
       "      <th>22</th>\n",
       "      <td>Ursus</td>\n",
       "      <td>udział</td>\n",
       "      <td>13141.000000</td>\n",
       "    </tr>\n",
       "    <tr>\n",
       "      <th>23</th>\n",
       "      <td>Ursynów</td>\n",
       "      <td>pełna własność</td>\n",
       "      <td>17992.021429</td>\n",
       "    </tr>\n",
       "    <tr>\n",
       "      <th>24</th>\n",
       "      <td>Ursynów</td>\n",
       "      <td>spółdzielcze wł. prawo do lokalu</td>\n",
       "      <td>16360.794872</td>\n",
       "    </tr>\n",
       "    <tr>\n",
       "      <th>25</th>\n",
       "      <td>Ursynów</td>\n",
       "      <td>użytkowanie wieczyste / dzierżawa</td>\n",
       "      <td>16582.000000</td>\n",
       "    </tr>\n",
       "    <tr>\n",
       "      <th>26</th>\n",
       "      <td>Wawer</td>\n",
       "      <td>pełna własność</td>\n",
       "      <td>14775.594595</td>\n",
       "    </tr>\n",
       "    <tr>\n",
       "      <th>27</th>\n",
       "      <td>Wawer</td>\n",
       "      <td>spółdzielcze wł. prawo do lokalu</td>\n",
       "      <td>17338.000000</td>\n",
       "    </tr>\n",
       "    <tr>\n",
       "      <th>28</th>\n",
       "      <td>Wawer</td>\n",
       "      <td>udział</td>\n",
       "      <td>10971.000000</td>\n",
       "    </tr>\n",
       "    <tr>\n",
       "      <th>29</th>\n",
       "      <td>Wawer</td>\n",
       "      <td>użytkowanie wieczyste / dzierżawa</td>\n",
       "      <td>12256.000000</td>\n",
       "    </tr>\n",
       "    <tr>\n",
       "      <th>30</th>\n",
       "      <td>Wesoła</td>\n",
       "      <td>pełna własność</td>\n",
       "      <td>12083.884615</td>\n",
       "    </tr>\n",
       "    <tr>\n",
       "      <th>31</th>\n",
       "      <td>Wesoła</td>\n",
       "      <td>udział</td>\n",
       "      <td>9167.000000</td>\n",
       "    </tr>\n",
       "    <tr>\n",
       "      <th>32</th>\n",
       "      <td>Wilanów</td>\n",
       "      <td>pełna własność</td>\n",
       "      <td>20111.510345</td>\n",
       "    </tr>\n",
       "    <tr>\n",
       "      <th>33</th>\n",
       "      <td>Wilanów</td>\n",
       "      <td>spółdzielcze wł. prawo do lokalu</td>\n",
       "      <td>13975.000000</td>\n",
       "    </tr>\n",
       "    <tr>\n",
       "      <th>34</th>\n",
       "      <td>Wola</td>\n",
       "      <td>pełna własność</td>\n",
       "      <td>22375.881481</td>\n",
       "    </tr>\n",
       "    <tr>\n",
       "      <th>35</th>\n",
       "      <td>Wola</td>\n",
       "      <td>spółdzielcze wł. prawo do lokalu</td>\n",
       "      <td>20244.781250</td>\n",
       "    </tr>\n",
       "    <tr>\n",
       "      <th>36</th>\n",
       "      <td>Wola</td>\n",
       "      <td>udział</td>\n",
       "      <td>12791.000000</td>\n",
       "    </tr>\n",
       "    <tr>\n",
       "      <th>37</th>\n",
       "      <td>Wola</td>\n",
       "      <td>użytkowanie wieczyste / dzierżawa</td>\n",
       "      <td>22333.000000</td>\n",
       "    </tr>\n",
       "    <tr>\n",
       "      <th>38</th>\n",
       "      <td>Włochy</td>\n",
       "      <td>pełna własność</td>\n",
       "      <td>16974.397590</td>\n",
       "    </tr>\n",
       "    <tr>\n",
       "      <th>39</th>\n",
       "      <td>Włochy</td>\n",
       "      <td>spółdzielcze wł. prawo do lokalu</td>\n",
       "      <td>15332.800000</td>\n",
       "    </tr>\n",
       "    <tr>\n",
       "      <th>40</th>\n",
       "      <td>Włochy</td>\n",
       "      <td>użytkowanie wieczyste / dzierżawa</td>\n",
       "      <td>13271.000000</td>\n",
       "    </tr>\n",
       "    <tr>\n",
       "      <th>41</th>\n",
       "      <td>Śródmieście</td>\n",
       "      <td>pełna własność</td>\n",
       "      <td>24345.733577</td>\n",
       "    </tr>\n",
       "    <tr>\n",
       "      <th>42</th>\n",
       "      <td>Śródmieście</td>\n",
       "      <td>spółdzielcze wł. prawo do lokalu</td>\n",
       "      <td>23052.382353</td>\n",
       "    </tr>\n",
       "    <tr>\n",
       "      <th>43</th>\n",
       "      <td>Śródmieście</td>\n",
       "      <td>użytkowanie wieczyste / dzierżawa</td>\n",
       "      <td>19018.000000</td>\n",
       "    </tr>\n",
       "    <tr>\n",
       "      <th>44</th>\n",
       "      <td>Żoliborz</td>\n",
       "      <td>pełna własność</td>\n",
       "      <td>22521.014085</td>\n",
       "    </tr>\n",
       "    <tr>\n",
       "      <th>45</th>\n",
       "      <td>Żoliborz</td>\n",
       "      <td>spółdzielcze wł. prawo do lokalu</td>\n",
       "      <td>18719.888889</td>\n",
       "    </tr>\n",
       "  </tbody>\n",
       "</table>\n",
       "</div>"
      ],
      "text/plain": [
       "         Dzielnica                    Forma własności  Cena [zł/m²]\n",
       "0           Bemowo                     pełna własność  17675.457317\n",
       "1           Bemowo   spółdzielcze wł. prawo do lokalu  15334.620690\n",
       "2           Bemowo  użytkowanie wieczyste / dzierżawa  17445.000000\n",
       "3        Białołęka                     pełna własność  13937.423197\n",
       "4        Białołęka   spółdzielcze wł. prawo do lokalu  13176.571429\n",
       "5        Białołęka                             udział  11182.000000\n",
       "6        Białołęka  użytkowanie wieczyste / dzierżawa  14762.000000\n",
       "7          Bielany                     pełna własność  18218.401099\n",
       "8          Bielany   spółdzielcze wł. prawo do lokalu  15516.634146\n",
       "9          Mokotów                     pełna własność  20016.573913\n",
       "10         Mokotów   spółdzielcze wł. prawo do lokalu  17843.389831\n",
       "11          Ochota                     pełna własność  19425.856000\n",
       "12          Ochota   spółdzielcze wł. prawo do lokalu  18548.500000\n",
       "13  Praga-Południe                     pełna własność  17708.993485\n",
       "14  Praga-Południe   spółdzielcze wł. prawo do lokalu  15677.764706\n",
       "15    Praga-Północ                     pełna własność  18673.270492\n",
       "16    Praga-Północ   spółdzielcze wł. prawo do lokalu  17015.428571\n",
       "17       Rembertów                     pełna własność  12842.717949\n",
       "18        Targówek                     pełna własność  15658.322835\n",
       "19        Targówek   spółdzielcze wł. prawo do lokalu  14915.060606\n",
       "20           Ursus                     pełna własność  15348.497175\n",
       "21           Ursus   spółdzielcze wł. prawo do lokalu  13502.714286\n",
       "22           Ursus                             udział  13141.000000\n",
       "23         Ursynów                     pełna własność  17992.021429\n",
       "24         Ursynów   spółdzielcze wł. prawo do lokalu  16360.794872\n",
       "25         Ursynów  użytkowanie wieczyste / dzierżawa  16582.000000\n",
       "26           Wawer                     pełna własność  14775.594595\n",
       "27           Wawer   spółdzielcze wł. prawo do lokalu  17338.000000\n",
       "28           Wawer                             udział  10971.000000\n",
       "29           Wawer  użytkowanie wieczyste / dzierżawa  12256.000000\n",
       "30          Wesoła                     pełna własność  12083.884615\n",
       "31          Wesoła                             udział   9167.000000\n",
       "32         Wilanów                     pełna własność  20111.510345\n",
       "33         Wilanów   spółdzielcze wł. prawo do lokalu  13975.000000\n",
       "34            Wola                     pełna własność  22375.881481\n",
       "35            Wola   spółdzielcze wł. prawo do lokalu  20244.781250\n",
       "36            Wola                             udział  12791.000000\n",
       "37            Wola  użytkowanie wieczyste / dzierżawa  22333.000000\n",
       "38          Włochy                     pełna własność  16974.397590\n",
       "39          Włochy   spółdzielcze wł. prawo do lokalu  15332.800000\n",
       "40          Włochy  użytkowanie wieczyste / dzierżawa  13271.000000\n",
       "41     Śródmieście                     pełna własność  24345.733577\n",
       "42     Śródmieście   spółdzielcze wł. prawo do lokalu  23052.382353\n",
       "43     Śródmieście  użytkowanie wieczyste / dzierżawa  19018.000000\n",
       "44        Żoliborz                     pełna własność  22521.014085\n",
       "45        Żoliborz   spółdzielcze wł. prawo do lokalu  18719.888889"
      ]
     },
     "execution_count": 2398,
     "metadata": {},
     "output_type": "execute_result"
    }
   ],
   "source": [
    "grouped_by_distrcit_and_property_form"
   ]
  },
  {
   "cell_type": "code",
   "execution_count": 2399,
   "metadata": {},
   "outputs": [],
   "source": [
    "def fill_missing_forma_property_form(row, grouped):\n",
    "    if pd.isna(row['Forma własności']):\n",
    "        dzielnica = row['Dzielnica']\n",
    "        cena = row['Cena [zł/m²]']\n",
    "\n",
    "        filtered_group = grouped[grouped['Dzielnica'] == dzielnica]\n",
    "        \n",
    "        filtered_group['difference'] = abs(filtered_group['Cena [zł/m²]'] - cena)\n",
    "        \n",
    "        closest_forma = filtered_group.loc[filtered_group['difference'].idxmin(), 'Forma własności']\n",
    "        return closest_forma\n",
    "    else:\n",
    "        return row['Forma własności']"
   ]
  },
  {
   "cell_type": "code",
   "execution_count": 2400,
   "metadata": {},
   "outputs": [],
   "source": [
    "df['Forma własności'] = df.apply(lambda row: fill_missing_forma_property_form(row,grouped_by_distrcit_and_property_form),axis=1)"
   ]
  },
  {
   "cell_type": "code",
   "execution_count": 2401,
   "metadata": {},
   "outputs": [
    {
     "data": {
      "text/plain": [
       "Adres                         0\n",
       "Cena                          0\n",
       "Powierzchnia                  0\n",
       "Forma własności               0\n",
       "Liczba pokoi                  0\n",
       "Stan wykończenia            604\n",
       "Piętro                       57\n",
       "Balkon / ogród / taras     1365\n",
       "Czynsz                     1502\n",
       "Miejsce parkingowe         2066\n",
       "Ogrzewanie                  927\n",
       "Certyfikat energetyczny    3812\n",
       "Rynek                       157\n",
       "Typ ogłoszeniodawcy         157\n",
       "Dostępne od                3249\n",
       "Rok budowy                  516\n",
       "Rodzaj zabudowy             641\n",
       "Okna                       1564\n",
       "Winda                       157\n",
       "Media                      2252\n",
       "Zabezpieczenia             1104\n",
       "Wyposażenie                2017\n",
       "Informacje dodatkowe       1739\n",
       "Materiał budynku           1989\n",
       "Link                          0\n",
       "Dzielnica                     0\n",
       "Cena [zł/m²]                  0\n",
       "dtype: int64"
      ]
     },
     "execution_count": 2401,
     "metadata": {},
     "output_type": "execute_result"
    }
   ],
   "source": [
    "df.isnull().sum()"
   ]
  },
  {
   "cell_type": "code",
   "execution_count": 2402,
   "metadata": {},
   "outputs": [
    {
     "data": {
      "text/plain": [
       "0       2\n",
       "1       2\n",
       "2       3\n",
       "3       1\n",
       "4       3\n",
       "       ..\n",
       "4902    7\n",
       "4903    3\n",
       "4904    1\n",
       "4905    2\n",
       "4906    3\n",
       "Name: Liczba pokoi, Length: 4532, dtype: int64"
      ]
     },
     "execution_count": 2402,
     "metadata": {},
     "output_type": "execute_result"
    }
   ],
   "source": [
    "df['Liczba pokoi']"
   ]
  },
  {
   "cell_type": "code",
   "execution_count": 2403,
   "metadata": {},
   "outputs": [
    {
     "data": {
      "text/plain": [
       "Adres                       object\n",
       "Cena                       float64\n",
       "Powierzchnia               float64\n",
       "Forma własności             object\n",
       "Liczba pokoi                 int64\n",
       "Stan wykończenia            object\n",
       "Piętro                      object\n",
       "Balkon / ogród / taras      object\n",
       "Czynsz                      object\n",
       "Miejsce parkingowe          object\n",
       "Ogrzewanie                  object\n",
       "Certyfikat energetyczny     object\n",
       "Rynek                       object\n",
       "Typ ogłoszeniodawcy         object\n",
       "Dostępne od                 object\n",
       "Rok budowy                 float64\n",
       "Rodzaj zabudowy             object\n",
       "Okna                        object\n",
       "Winda                       object\n",
       "Media                       object\n",
       "Zabezpieczenia              object\n",
       "Wyposażenie                 object\n",
       "Informacje dodatkowe        object\n",
       "Materiał budynku            object\n",
       "Link                        object\n",
       "Dzielnica                   object\n",
       "Cena [zł/m²]               float64\n",
       "dtype: object"
      ]
     },
     "execution_count": 2403,
     "metadata": {},
     "output_type": "execute_result"
    }
   ],
   "source": [
    "df.dtypes"
   ]
  },
  {
   "cell_type": "code",
   "execution_count": 2404,
   "metadata": {},
   "outputs": [
    {
     "data": {
      "text/plain": [
       "array(['do zamieszkania', nan, 'do wykończenia', 'do remontu'],\n",
       "      dtype=object)"
      ]
     },
     "execution_count": 2404,
     "metadata": {},
     "output_type": "execute_result"
    }
   ],
   "source": [
    "df['Stan wykończenia'].unique()"
   ]
  },
  {
   "cell_type": "code",
   "execution_count": 2405,
   "metadata": {},
   "outputs": [],
   "source": [
    "grouped_by_district_and_apartment_finishing = df.groupby(['Dzielnica','Stan wykończenia'])['Cena [zł/m²]'].mean().reset_index()"
   ]
  },
  {
   "cell_type": "code",
   "execution_count": 2406,
   "metadata": {},
   "outputs": [
    {
     "data": {
      "text/html": [
       "<div>\n",
       "<style scoped>\n",
       "    .dataframe tbody tr th:only-of-type {\n",
       "        vertical-align: middle;\n",
       "    }\n",
       "\n",
       "    .dataframe tbody tr th {\n",
       "        vertical-align: top;\n",
       "    }\n",
       "\n",
       "    .dataframe thead th {\n",
       "        text-align: right;\n",
       "    }\n",
       "</style>\n",
       "<table border=\"1\" class=\"dataframe\">\n",
       "  <thead>\n",
       "    <tr style=\"text-align: right;\">\n",
       "      <th></th>\n",
       "      <th>Dzielnica</th>\n",
       "      <th>Stan wykończenia</th>\n",
       "      <th>Cena [zł/m²]</th>\n",
       "    </tr>\n",
       "  </thead>\n",
       "  <tbody>\n",
       "    <tr>\n",
       "      <th>0</th>\n",
       "      <td>Bemowo</td>\n",
       "      <td>do remontu</td>\n",
       "      <td>14981.040000</td>\n",
       "    </tr>\n",
       "    <tr>\n",
       "      <th>1</th>\n",
       "      <td>Bemowo</td>\n",
       "      <td>do wykończenia</td>\n",
       "      <td>17132.276596</td>\n",
       "    </tr>\n",
       "    <tr>\n",
       "      <th>2</th>\n",
       "      <td>Bemowo</td>\n",
       "      <td>do zamieszkania</td>\n",
       "      <td>17366.902098</td>\n",
       "    </tr>\n",
       "    <tr>\n",
       "      <th>3</th>\n",
       "      <td>Białołęka</td>\n",
       "      <td>do remontu</td>\n",
       "      <td>12173.909091</td>\n",
       "    </tr>\n",
       "    <tr>\n",
       "      <th>4</th>\n",
       "      <td>Białołęka</td>\n",
       "      <td>do wykończenia</td>\n",
       "      <td>12446.250000</td>\n",
       "    </tr>\n",
       "    <tr>\n",
       "      <th>5</th>\n",
       "      <td>Białołęka</td>\n",
       "      <td>do zamieszkania</td>\n",
       "      <td>14563.175214</td>\n",
       "    </tr>\n",
       "    <tr>\n",
       "      <th>6</th>\n",
       "      <td>Bielany</td>\n",
       "      <td>do remontu</td>\n",
       "      <td>15502.666667</td>\n",
       "    </tr>\n",
       "    <tr>\n",
       "      <th>7</th>\n",
       "      <td>Bielany</td>\n",
       "      <td>do wykończenia</td>\n",
       "      <td>17546.737705</td>\n",
       "    </tr>\n",
       "    <tr>\n",
       "      <th>8</th>\n",
       "      <td>Bielany</td>\n",
       "      <td>do zamieszkania</td>\n",
       "      <td>17675.133758</td>\n",
       "    </tr>\n",
       "    <tr>\n",
       "      <th>9</th>\n",
       "      <td>Mokotów</td>\n",
       "      <td>do remontu</td>\n",
       "      <td>16914.250000</td>\n",
       "    </tr>\n",
       "    <tr>\n",
       "      <th>10</th>\n",
       "      <td>Mokotów</td>\n",
       "      <td>do wykończenia</td>\n",
       "      <td>19079.604651</td>\n",
       "    </tr>\n",
       "    <tr>\n",
       "      <th>11</th>\n",
       "      <td>Mokotów</td>\n",
       "      <td>do zamieszkania</td>\n",
       "      <td>20299.459530</td>\n",
       "    </tr>\n",
       "    <tr>\n",
       "      <th>12</th>\n",
       "      <td>Ochota</td>\n",
       "      <td>do remontu</td>\n",
       "      <td>17942.384615</td>\n",
       "    </tr>\n",
       "    <tr>\n",
       "      <th>13</th>\n",
       "      <td>Ochota</td>\n",
       "      <td>do wykończenia</td>\n",
       "      <td>18870.384615</td>\n",
       "    </tr>\n",
       "    <tr>\n",
       "      <th>14</th>\n",
       "      <td>Ochota</td>\n",
       "      <td>do zamieszkania</td>\n",
       "      <td>19735.855769</td>\n",
       "    </tr>\n",
       "    <tr>\n",
       "      <th>15</th>\n",
       "      <td>Praga-Południe</td>\n",
       "      <td>do remontu</td>\n",
       "      <td>14724.809524</td>\n",
       "    </tr>\n",
       "    <tr>\n",
       "      <th>16</th>\n",
       "      <td>Praga-Południe</td>\n",
       "      <td>do wykończenia</td>\n",
       "      <td>17558.720588</td>\n",
       "    </tr>\n",
       "    <tr>\n",
       "      <th>17</th>\n",
       "      <td>Praga-Południe</td>\n",
       "      <td>do zamieszkania</td>\n",
       "      <td>18019.012658</td>\n",
       "    </tr>\n",
       "    <tr>\n",
       "      <th>18</th>\n",
       "      <td>Praga-Północ</td>\n",
       "      <td>do remontu</td>\n",
       "      <td>15653.210526</td>\n",
       "    </tr>\n",
       "    <tr>\n",
       "      <th>19</th>\n",
       "      <td>Praga-Północ</td>\n",
       "      <td>do wykończenia</td>\n",
       "      <td>18136.825000</td>\n",
       "    </tr>\n",
       "    <tr>\n",
       "      <th>20</th>\n",
       "      <td>Praga-Północ</td>\n",
       "      <td>do zamieszkania</td>\n",
       "      <td>19276.621622</td>\n",
       "    </tr>\n",
       "    <tr>\n",
       "      <th>21</th>\n",
       "      <td>Rembertów</td>\n",
       "      <td>do remontu</td>\n",
       "      <td>9712.000000</td>\n",
       "    </tr>\n",
       "    <tr>\n",
       "      <th>22</th>\n",
       "      <td>Rembertów</td>\n",
       "      <td>do wykończenia</td>\n",
       "      <td>12826.407407</td>\n",
       "    </tr>\n",
       "    <tr>\n",
       "      <th>23</th>\n",
       "      <td>Rembertów</td>\n",
       "      <td>do zamieszkania</td>\n",
       "      <td>13080.125000</td>\n",
       "    </tr>\n",
       "    <tr>\n",
       "      <th>24</th>\n",
       "      <td>Targówek</td>\n",
       "      <td>do remontu</td>\n",
       "      <td>14357.375000</td>\n",
       "    </tr>\n",
       "    <tr>\n",
       "      <th>25</th>\n",
       "      <td>Targówek</td>\n",
       "      <td>do wykończenia</td>\n",
       "      <td>14485.393939</td>\n",
       "    </tr>\n",
       "    <tr>\n",
       "      <th>26</th>\n",
       "      <td>Targówek</td>\n",
       "      <td>do zamieszkania</td>\n",
       "      <td>15793.384000</td>\n",
       "    </tr>\n",
       "    <tr>\n",
       "      <th>27</th>\n",
       "      <td>Ursus</td>\n",
       "      <td>do remontu</td>\n",
       "      <td>13598.500000</td>\n",
       "    </tr>\n",
       "    <tr>\n",
       "      <th>28</th>\n",
       "      <td>Ursus</td>\n",
       "      <td>do wykończenia</td>\n",
       "      <td>14197.042254</td>\n",
       "    </tr>\n",
       "    <tr>\n",
       "      <th>29</th>\n",
       "      <td>Ursus</td>\n",
       "      <td>do zamieszkania</td>\n",
       "      <td>16008.934959</td>\n",
       "    </tr>\n",
       "    <tr>\n",
       "      <th>30</th>\n",
       "      <td>Ursynów</td>\n",
       "      <td>do remontu</td>\n",
       "      <td>14670.391304</td>\n",
       "    </tr>\n",
       "    <tr>\n",
       "      <th>31</th>\n",
       "      <td>Ursynów</td>\n",
       "      <td>do wykończenia</td>\n",
       "      <td>17665.064516</td>\n",
       "    </tr>\n",
       "    <tr>\n",
       "      <th>32</th>\n",
       "      <td>Ursynów</td>\n",
       "      <td>do zamieszkania</td>\n",
       "      <td>17884.324503</td>\n",
       "    </tr>\n",
       "    <tr>\n",
       "      <th>33</th>\n",
       "      <td>Wawer</td>\n",
       "      <td>do remontu</td>\n",
       "      <td>18391.000000</td>\n",
       "    </tr>\n",
       "    <tr>\n",
       "      <th>34</th>\n",
       "      <td>Wawer</td>\n",
       "      <td>do wykończenia</td>\n",
       "      <td>11594.666667</td>\n",
       "    </tr>\n",
       "    <tr>\n",
       "      <th>35</th>\n",
       "      <td>Wawer</td>\n",
       "      <td>do zamieszkania</td>\n",
       "      <td>15897.631579</td>\n",
       "    </tr>\n",
       "    <tr>\n",
       "      <th>36</th>\n",
       "      <td>Wesoła</td>\n",
       "      <td>do remontu</td>\n",
       "      <td>7195.500000</td>\n",
       "    </tr>\n",
       "    <tr>\n",
       "      <th>37</th>\n",
       "      <td>Wesoła</td>\n",
       "      <td>do wykończenia</td>\n",
       "      <td>11259.000000</td>\n",
       "    </tr>\n",
       "    <tr>\n",
       "      <th>38</th>\n",
       "      <td>Wesoła</td>\n",
       "      <td>do zamieszkania</td>\n",
       "      <td>12924.000000</td>\n",
       "    </tr>\n",
       "    <tr>\n",
       "      <th>39</th>\n",
       "      <td>Wilanów</td>\n",
       "      <td>do remontu</td>\n",
       "      <td>17378.500000</td>\n",
       "    </tr>\n",
       "    <tr>\n",
       "      <th>40</th>\n",
       "      <td>Wilanów</td>\n",
       "      <td>do wykończenia</td>\n",
       "      <td>17711.333333</td>\n",
       "    </tr>\n",
       "    <tr>\n",
       "      <th>41</th>\n",
       "      <td>Wilanów</td>\n",
       "      <td>do zamieszkania</td>\n",
       "      <td>20302.595420</td>\n",
       "    </tr>\n",
       "    <tr>\n",
       "      <th>42</th>\n",
       "      <td>Wola</td>\n",
       "      <td>do remontu</td>\n",
       "      <td>17499.804878</td>\n",
       "    </tr>\n",
       "    <tr>\n",
       "      <th>43</th>\n",
       "      <td>Wola</td>\n",
       "      <td>do wykończenia</td>\n",
       "      <td>24919.776119</td>\n",
       "    </tr>\n",
       "    <tr>\n",
       "      <th>44</th>\n",
       "      <td>Wola</td>\n",
       "      <td>do zamieszkania</td>\n",
       "      <td>22123.211699</td>\n",
       "    </tr>\n",
       "    <tr>\n",
       "      <th>45</th>\n",
       "      <td>Włochy</td>\n",
       "      <td>do remontu</td>\n",
       "      <td>13890.000000</td>\n",
       "    </tr>\n",
       "    <tr>\n",
       "      <th>46</th>\n",
       "      <td>Włochy</td>\n",
       "      <td>do wykończenia</td>\n",
       "      <td>16220.936709</td>\n",
       "    </tr>\n",
       "    <tr>\n",
       "      <th>47</th>\n",
       "      <td>Włochy</td>\n",
       "      <td>do zamieszkania</td>\n",
       "      <td>17684.864078</td>\n",
       "    </tr>\n",
       "    <tr>\n",
       "      <th>48</th>\n",
       "      <td>Śródmieście</td>\n",
       "      <td>do remontu</td>\n",
       "      <td>21006.904762</td>\n",
       "    </tr>\n",
       "    <tr>\n",
       "      <th>49</th>\n",
       "      <td>Śródmieście</td>\n",
       "      <td>do wykończenia</td>\n",
       "      <td>21564.888889</td>\n",
       "    </tr>\n",
       "    <tr>\n",
       "      <th>50</th>\n",
       "      <td>Śródmieście</td>\n",
       "      <td>do zamieszkania</td>\n",
       "      <td>24557.887597</td>\n",
       "    </tr>\n",
       "    <tr>\n",
       "      <th>51</th>\n",
       "      <td>Żoliborz</td>\n",
       "      <td>do remontu</td>\n",
       "      <td>18845.200000</td>\n",
       "    </tr>\n",
       "    <tr>\n",
       "      <th>52</th>\n",
       "      <td>Żoliborz</td>\n",
       "      <td>do wykończenia</td>\n",
       "      <td>18788.684211</td>\n",
       "    </tr>\n",
       "    <tr>\n",
       "      <th>53</th>\n",
       "      <td>Żoliborz</td>\n",
       "      <td>do zamieszkania</td>\n",
       "      <td>21917.158537</td>\n",
       "    </tr>\n",
       "  </tbody>\n",
       "</table>\n",
       "</div>"
      ],
      "text/plain": [
       "         Dzielnica Stan wykończenia  Cena [zł/m²]\n",
       "0           Bemowo       do remontu  14981.040000\n",
       "1           Bemowo   do wykończenia  17132.276596\n",
       "2           Bemowo  do zamieszkania  17366.902098\n",
       "3        Białołęka       do remontu  12173.909091\n",
       "4        Białołęka   do wykończenia  12446.250000\n",
       "5        Białołęka  do zamieszkania  14563.175214\n",
       "6          Bielany       do remontu  15502.666667\n",
       "7          Bielany   do wykończenia  17546.737705\n",
       "8          Bielany  do zamieszkania  17675.133758\n",
       "9          Mokotów       do remontu  16914.250000\n",
       "10         Mokotów   do wykończenia  19079.604651\n",
       "11         Mokotów  do zamieszkania  20299.459530\n",
       "12          Ochota       do remontu  17942.384615\n",
       "13          Ochota   do wykończenia  18870.384615\n",
       "14          Ochota  do zamieszkania  19735.855769\n",
       "15  Praga-Południe       do remontu  14724.809524\n",
       "16  Praga-Południe   do wykończenia  17558.720588\n",
       "17  Praga-Południe  do zamieszkania  18019.012658\n",
       "18    Praga-Północ       do remontu  15653.210526\n",
       "19    Praga-Północ   do wykończenia  18136.825000\n",
       "20    Praga-Północ  do zamieszkania  19276.621622\n",
       "21       Rembertów       do remontu   9712.000000\n",
       "22       Rembertów   do wykończenia  12826.407407\n",
       "23       Rembertów  do zamieszkania  13080.125000\n",
       "24        Targówek       do remontu  14357.375000\n",
       "25        Targówek   do wykończenia  14485.393939\n",
       "26        Targówek  do zamieszkania  15793.384000\n",
       "27           Ursus       do remontu  13598.500000\n",
       "28           Ursus   do wykończenia  14197.042254\n",
       "29           Ursus  do zamieszkania  16008.934959\n",
       "30         Ursynów       do remontu  14670.391304\n",
       "31         Ursynów   do wykończenia  17665.064516\n",
       "32         Ursynów  do zamieszkania  17884.324503\n",
       "33           Wawer       do remontu  18391.000000\n",
       "34           Wawer   do wykończenia  11594.666667\n",
       "35           Wawer  do zamieszkania  15897.631579\n",
       "36          Wesoła       do remontu   7195.500000\n",
       "37          Wesoła   do wykończenia  11259.000000\n",
       "38          Wesoła  do zamieszkania  12924.000000\n",
       "39         Wilanów       do remontu  17378.500000\n",
       "40         Wilanów   do wykończenia  17711.333333\n",
       "41         Wilanów  do zamieszkania  20302.595420\n",
       "42            Wola       do remontu  17499.804878\n",
       "43            Wola   do wykończenia  24919.776119\n",
       "44            Wola  do zamieszkania  22123.211699\n",
       "45          Włochy       do remontu  13890.000000\n",
       "46          Włochy   do wykończenia  16220.936709\n",
       "47          Włochy  do zamieszkania  17684.864078\n",
       "48     Śródmieście       do remontu  21006.904762\n",
       "49     Śródmieście   do wykończenia  21564.888889\n",
       "50     Śródmieście  do zamieszkania  24557.887597\n",
       "51        Żoliborz       do remontu  18845.200000\n",
       "52        Żoliborz   do wykończenia  18788.684211\n",
       "53        Żoliborz  do zamieszkania  21917.158537"
      ]
     },
     "execution_count": 2406,
     "metadata": {},
     "output_type": "execute_result"
    }
   ],
   "source": [
    "grouped_by_district_and_apartment_finishing"
   ]
  },
  {
   "cell_type": "code",
   "execution_count": 2407,
   "metadata": {},
   "outputs": [],
   "source": [
    "def fill_missing_forma_apartment_finishing(row, grouped):\n",
    "    if pd.isna(row['Stan wykończenia']):\n",
    "        dzielnica = row['Dzielnica']\n",
    "        cena = row['Cena [zł/m²]']\n",
    "\n",
    "        filtered_group = grouped[grouped['Dzielnica'] == dzielnica]\n",
    "        \n",
    "        filtered_group['difference'] = abs(filtered_group['Cena [zł/m²]'] - cena)\n",
    "        \n",
    "        closest_forma = filtered_group.loc[filtered_group['difference'].idxmin(), 'Stan wykończenia']\n",
    "        return closest_forma\n",
    "    else:\n",
    "        return row['Stan wykończenia']"
   ]
  },
  {
   "cell_type": "code",
   "execution_count": 2408,
   "metadata": {},
   "outputs": [],
   "source": [
    "df['Stan wykończenia'] = df.apply(lambda row: fill_missing_forma_apartment_finishing(row,grouped_by_district_and_apartment_finishing),axis=1)"
   ]
  },
  {
   "cell_type": "code",
   "execution_count": 2409,
   "metadata": {},
   "outputs": [
    {
     "data": {
      "text/plain": [
       "0        2/3\n",
       "1       7/10\n",
       "2       1/10\n",
       "3        1/6\n",
       "4        4/5\n",
       "        ... \n",
       "4902     4/4\n",
       "4903     4/5\n",
       "4904     1/6\n",
       "4905    1/10\n",
       "4906     1/4\n",
       "Name: Piętro, Length: 4532, dtype: object"
      ]
     },
     "execution_count": 2409,
     "metadata": {},
     "output_type": "execute_result"
    }
   ],
   "source": [
    "df['Piętro']"
   ]
  },
  {
   "cell_type": "code",
   "execution_count": 2410,
   "metadata": {},
   "outputs": [],
   "source": [
    "df = df[df['Piętro'].notna()]"
   ]
  },
  {
   "cell_type": "code",
   "execution_count": 2411,
   "metadata": {},
   "outputs": [],
   "source": [
    "pattern = r'^\\d{1,2}/\\d{1,2}$'\n",
    "non_matching = df[~df['Piętro'].str.match(pattern)]"
   ]
  },
  {
   "cell_type": "code",
   "execution_count": 2412,
   "metadata": {},
   "outputs": [
    {
     "data": {
      "text/plain": [
       "array(['parter/3', 'parter/6', '> 10/16', 'parter/4', 'parter/5',\n",
       "       'parter/7', 'parter/10', 'parter/2', '> 10', 'parter/8', '5', '6',\n",
       "       '1', '2', '9', '> 10/12', '3', 'parter/1', '> 10/22', '> 10/15',\n",
       "       'parter', 'parter/15', '> 10/26', '7', 'parter/11', '> 10/11',\n",
       "       'parter/9', '> 10/30', '8', '> 10/25', '> 10/17', '> 10/13',\n",
       "       '> 10/24', 'suterena/2', '> 10/14', '> 10/20', 'parter/14',\n",
       "       'suterena/3', '> 10/10', '4', '10', 'parter/16', '> 10/27',\n",
       "       'parter/19', '> 10/18', 'parter/12', '> 10/23'], dtype=object)"
      ]
     },
     "execution_count": 2412,
     "metadata": {},
     "output_type": "execute_result"
    }
   ],
   "source": [
    "non_matching['Piętro'].unique()"
   ]
  },
  {
   "cell_type": "code",
   "execution_count": 2413,
   "metadata": {},
   "outputs": [],
   "source": [
    "df = df[df['Piętro'].notna()]"
   ]
  },
  {
   "cell_type": "code",
   "execution_count": 2414,
   "metadata": {},
   "outputs": [],
   "source": [
    "def convert_level(level):\n",
    "    if isinstance(level, str):\n",
    "        if 'parter' in level:\n",
    "            return 0\n",
    "        elif 'suterena' in level:\n",
    "            return -1\n",
    "        elif '/' in level:\n",
    "            return int(level.split('/')[0].replace('>', '').strip())\n",
    "        elif '>' in level:\n",
    "            return int(level.replace('>', '').strip())\n",
    "    return int(level)"
   ]
  },
  {
   "cell_type": "code",
   "execution_count": 2415,
   "metadata": {},
   "outputs": [],
   "source": [
    "df['Piętro'] = df['Piętro'].apply(convert_level)"
   ]
  },
  {
   "cell_type": "code",
   "execution_count": 2416,
   "metadata": {},
   "outputs": [
    {
     "data": {
      "text/plain": [
       "0       2\n",
       "1       7\n",
       "2       1\n",
       "3       1\n",
       "4       4\n",
       "       ..\n",
       "4902    4\n",
       "4903    4\n",
       "4904    1\n",
       "4905    1\n",
       "4906    1\n",
       "Name: Piętro, Length: 4475, dtype: int64"
      ]
     },
     "execution_count": 2416,
     "metadata": {},
     "output_type": "execute_result"
    }
   ],
   "source": [
    "df['Piętro']"
   ]
  },
  {
   "cell_type": "code",
   "execution_count": 2417,
   "metadata": {},
   "outputs": [
    {
     "data": {
      "text/plain": [
       "4475"
      ]
     },
     "execution_count": 2417,
     "metadata": {},
     "output_type": "execute_result"
    }
   ],
   "source": [
    "len(df)"
   ]
  },
  {
   "cell_type": "code",
   "execution_count": 2418,
   "metadata": {},
   "outputs": [
    {
     "data": {
      "text/plain": [
       "1348"
      ]
     },
     "execution_count": 2418,
     "metadata": {},
     "output_type": "execute_result"
    }
   ],
   "source": [
    "len(df[df['Balkon / ogród / taras'].isnull()])"
   ]
  },
  {
   "cell_type": "code",
   "execution_count": 2419,
   "metadata": {},
   "outputs": [
    {
     "data": {
      "text/plain": [
       "array(['balkon', nan, 'balkon, taras', 'ogródek, taras',\n",
       "       'balkon, ogródek', 'balkon, ogródek, taras', 'ogródek',\n",
       "       'taras, ogródek', 'taras', 'taras, balkon',\n",
       "       'taras, balkon, ogródek'], dtype=object)"
      ]
     },
     "execution_count": 2419,
     "metadata": {},
     "output_type": "execute_result"
    }
   ],
   "source": [
    "df['Balkon / ogród / taras'].unique()"
   ]
  },
  {
   "cell_type": "code",
   "execution_count": 2420,
   "metadata": {},
   "outputs": [
    {
     "data": {
      "text/plain": [
       "0              balkon\n",
       "1              balkon\n",
       "2              balkon\n",
       "3                 NaN\n",
       "4              balkon\n",
       "            ...      \n",
       "4902           balkon\n",
       "4903    taras, balkon\n",
       "4904              NaN\n",
       "4905          ogródek\n",
       "4906           balkon\n",
       "Name: Balkon / ogród / taras, Length: 4475, dtype: object"
      ]
     },
     "execution_count": 2420,
     "metadata": {},
     "output_type": "execute_result"
    }
   ],
   "source": [
    "df['Balkon / ogród / taras']"
   ]
  },
  {
   "cell_type": "code",
   "execution_count": 2421,
   "metadata": {},
   "outputs": [],
   "source": [
    "import numpy as np\n",
    "\n",
    "df['Balkon'] = df['Balkon / ogród / taras'].str.contains('balkon', na=False).astype(int)\n",
    "df['Ogródek'] = df['Balkon / ogród / taras'].str.contains('ogródek', na=False).astype(int)\n",
    "df['Taras'] = df['Balkon / ogród / taras'].str.contains('taras', na=False).astype(int)"
   ]
  },
  {
   "cell_type": "code",
   "execution_count": 2422,
   "metadata": {},
   "outputs": [
    {
     "data": {
      "text/html": [
       "<div>\n",
       "<style scoped>\n",
       "    .dataframe tbody tr th:only-of-type {\n",
       "        vertical-align: middle;\n",
       "    }\n",
       "\n",
       "    .dataframe tbody tr th {\n",
       "        vertical-align: top;\n",
       "    }\n",
       "\n",
       "    .dataframe thead th {\n",
       "        text-align: right;\n",
       "    }\n",
       "</style>\n",
       "<table border=\"1\" class=\"dataframe\">\n",
       "  <thead>\n",
       "    <tr style=\"text-align: right;\">\n",
       "      <th></th>\n",
       "      <th>Balkon</th>\n",
       "      <th>Ogródek</th>\n",
       "      <th>Taras</th>\n",
       "    </tr>\n",
       "  </thead>\n",
       "  <tbody>\n",
       "    <tr>\n",
       "      <th>0</th>\n",
       "      <td>1</td>\n",
       "      <td>0</td>\n",
       "      <td>0</td>\n",
       "    </tr>\n",
       "    <tr>\n",
       "      <th>1</th>\n",
       "      <td>1</td>\n",
       "      <td>0</td>\n",
       "      <td>0</td>\n",
       "    </tr>\n",
       "    <tr>\n",
       "      <th>2</th>\n",
       "      <td>1</td>\n",
       "      <td>0</td>\n",
       "      <td>0</td>\n",
       "    </tr>\n",
       "    <tr>\n",
       "      <th>3</th>\n",
       "      <td>0</td>\n",
       "      <td>0</td>\n",
       "      <td>0</td>\n",
       "    </tr>\n",
       "    <tr>\n",
       "      <th>4</th>\n",
       "      <td>1</td>\n",
       "      <td>0</td>\n",
       "      <td>0</td>\n",
       "    </tr>\n",
       "    <tr>\n",
       "      <th>...</th>\n",
       "      <td>...</td>\n",
       "      <td>...</td>\n",
       "      <td>...</td>\n",
       "    </tr>\n",
       "    <tr>\n",
       "      <th>4902</th>\n",
       "      <td>1</td>\n",
       "      <td>0</td>\n",
       "      <td>0</td>\n",
       "    </tr>\n",
       "    <tr>\n",
       "      <th>4903</th>\n",
       "      <td>1</td>\n",
       "      <td>0</td>\n",
       "      <td>1</td>\n",
       "    </tr>\n",
       "    <tr>\n",
       "      <th>4904</th>\n",
       "      <td>0</td>\n",
       "      <td>0</td>\n",
       "      <td>0</td>\n",
       "    </tr>\n",
       "    <tr>\n",
       "      <th>4905</th>\n",
       "      <td>0</td>\n",
       "      <td>1</td>\n",
       "      <td>0</td>\n",
       "    </tr>\n",
       "    <tr>\n",
       "      <th>4906</th>\n",
       "      <td>1</td>\n",
       "      <td>0</td>\n",
       "      <td>0</td>\n",
       "    </tr>\n",
       "  </tbody>\n",
       "</table>\n",
       "<p>4475 rows × 3 columns</p>\n",
       "</div>"
      ],
      "text/plain": [
       "      Balkon  Ogródek  Taras\n",
       "0          1        0      0\n",
       "1          1        0      0\n",
       "2          1        0      0\n",
       "3          0        0      0\n",
       "4          1        0      0\n",
       "...      ...      ...    ...\n",
       "4902       1        0      0\n",
       "4903       1        0      1\n",
       "4904       0        0      0\n",
       "4905       0        1      0\n",
       "4906       1        0      0\n",
       "\n",
       "[4475 rows x 3 columns]"
      ]
     },
     "execution_count": 2422,
     "metadata": {},
     "output_type": "execute_result"
    }
   ],
   "source": [
    "df[['Balkon','Ogródek','Taras']]"
   ]
  },
  {
   "cell_type": "code",
   "execution_count": 2423,
   "metadata": {},
   "outputs": [
    {
     "data": {
      "text/plain": [
       "Index(['Adres', 'Cena', 'Powierzchnia', 'Forma własności', 'Liczba pokoi',\n",
       "       'Stan wykończenia', 'Piętro', 'Balkon / ogród / taras', 'Czynsz',\n",
       "       'Miejsce parkingowe', 'Ogrzewanie', 'Certyfikat energetyczny', 'Rynek',\n",
       "       'Typ ogłoszeniodawcy', 'Dostępne od', 'Rok budowy', 'Rodzaj zabudowy',\n",
       "       'Okna', 'Winda', 'Media', 'Zabezpieczenia', 'Wyposażenie',\n",
       "       'Informacje dodatkowe', 'Materiał budynku', 'Link', 'Dzielnica',\n",
       "       'Cena [zł/m²]', 'Balkon', 'Ogródek', 'Taras'],\n",
       "      dtype='object')"
      ]
     },
     "execution_count": 2423,
     "metadata": {},
     "output_type": "execute_result"
    }
   ],
   "source": [
    "df.columns"
   ]
  },
  {
   "cell_type": "code",
   "execution_count": 2424,
   "metadata": {},
   "outputs": [
    {
     "data": {
      "text/plain": [
       "0         580 zł\n",
       "1            NaN\n",
       "2            NaN\n",
       "3         488 zł\n",
       "4         800 zł\n",
       "          ...   \n",
       "4902         NaN\n",
       "4903    1 243 zł\n",
       "4904      590 zł\n",
       "4905      500 zł\n",
       "4906         NaN\n",
       "Name: Czynsz, Length: 4475, dtype: object"
      ]
     },
     "execution_count": 2424,
     "metadata": {},
     "output_type": "execute_result"
    }
   ],
   "source": [
    "df['Czynsz']"
   ]
  },
  {
   "cell_type": "code",
   "execution_count": 2425,
   "metadata": {},
   "outputs": [],
   "source": [
    "df['Czynsz'] = df['Czynsz'].str.replace(' zł', '').str.replace(' ', '').str.replace(',', '.').astype(float)"
   ]
  },
  {
   "cell_type": "code",
   "execution_count": 2426,
   "metadata": {},
   "outputs": [
    {
     "data": {
      "text/plain": [
       "1464"
      ]
     },
     "execution_count": 2426,
     "metadata": {},
     "output_type": "execute_result"
    }
   ],
   "source": [
    "len(df[df['Czynsz'].isnull()])"
   ]
  },
  {
   "cell_type": "code",
   "execution_count": 2427,
   "metadata": {},
   "outputs": [
    {
     "data": {
      "text/plain": [
       "Index(['Adres', 'Cena', 'Powierzchnia', 'Forma własności', 'Liczba pokoi',\n",
       "       'Stan wykończenia', 'Piętro', 'Balkon / ogród / taras', 'Czynsz',\n",
       "       'Miejsce parkingowe', 'Ogrzewanie', 'Certyfikat energetyczny', 'Rynek',\n",
       "       'Typ ogłoszeniodawcy', 'Dostępne od', 'Rok budowy', 'Rodzaj zabudowy',\n",
       "       'Okna', 'Winda', 'Media', 'Zabezpieczenia', 'Wyposażenie',\n",
       "       'Informacje dodatkowe', 'Materiał budynku', 'Link', 'Dzielnica',\n",
       "       'Cena [zł/m²]', 'Balkon', 'Ogródek', 'Taras'],\n",
       "      dtype='object')"
      ]
     },
     "execution_count": 2427,
     "metadata": {},
     "output_type": "execute_result"
    }
   ],
   "source": [
    "df.columns"
   ]
  },
  {
   "cell_type": "code",
   "execution_count": 2428,
   "metadata": {},
   "outputs": [
    {
     "data": {
      "image/png": "[encoded data removed]",
      "text/plain": [
       "<Figure size 1000x800 with 2 Axes>"
      ]
     },
     "metadata": {},
     "output_type": "display_data"
    }
   ],
   "source": [
    "corr_matrix = df[['Czynsz','Cena [zł/m²]','Powierzchnia','Liczba pokoi']].corr()\n",
    "\n",
    "plt.figure(figsize=(10, 8))\n",
    "sns.heatmap(corr_matrix, annot=True, cmap='coolwarm', center=0)\n",
    "plt.title('Mapa korelacji')\n",
    "plt.show()"
   ]
  },
  {
   "cell_type": "code",
   "execution_count": 2432,
   "metadata": {},
   "outputs": [],
   "source": [
    "df = df[df['Czynsz'].notna()] "
   ]
  },
  {
   "cell_type": "code",
   "execution_count": 2433,
   "metadata": {},
   "outputs": [
    {
     "data": {
      "text/plain": [
       "Adres                         0\n",
       "Cena                          0\n",
       "Powierzchnia                  0\n",
       "Forma własności               0\n",
       "Liczba pokoi                  0\n",
       "Stan wykończenia              0\n",
       "Piętro                        0\n",
       "Balkon / ogród / taras      896\n",
       "Czynsz                        0\n",
       "Miejsce parkingowe         1475\n",
       "Ogrzewanie                  366\n",
       "Certyfikat energetyczny    2412\n",
       "Rynek                         0\n",
       "Typ ogłoszeniodawcy           0\n",
       "Dostępne od                2020\n",
       "Rok budowy                  174\n",
       "Rodzaj zabudowy             218\n",
       "Okna                        830\n",
       "Winda                         0\n",
       "Media                      1307\n",
       "Zabezpieczenia              526\n",
       "Wyposażenie                 995\n",
       "Informacje dodatkowe        935\n",
       "Materiał budynku           1052\n",
       "Link                          0\n",
       "Dzielnica                     0\n",
       "Cena [zł/m²]                  0\n",
       "Balkon                        0\n",
       "Ogródek                       0\n",
       "Taras                         0\n",
       "dtype: int64"
      ]
     },
     "execution_count": 2433,
     "metadata": {},
     "output_type": "execute_result"
    }
   ],
   "source": [
    "df.isnull().sum()"
   ]
  },
  {
   "cell_type": "code",
   "execution_count": 2434,
   "metadata": {},
   "outputs": [
    {
     "data": {
      "text/plain": [
       "0       garaż/miejsce parkingowe\n",
       "3                            NaN\n",
       "4       garaż/miejsce parkingowe\n",
       "5                            NaN\n",
       "7       garaż/miejsce parkingowe\n",
       "                  ...           \n",
       "4899    garaż/miejsce parkingowe\n",
       "4901                         NaN\n",
       "4903    garaż/miejsce parkingowe\n",
       "4904    garaż/miejsce parkingowe\n",
       "4905    garaż/miejsce parkingowe\n",
       "Name: Miejsce parkingowe, Length: 3011, dtype: object"
      ]
     },
     "execution_count": 2434,
     "metadata": {},
     "output_type": "execute_result"
    }
   ],
   "source": [
    "df['Miejsce parkingowe']"
   ]
  },
  {
   "cell_type": "code",
   "execution_count": 2435,
   "metadata": {},
   "outputs": [
    {
     "data": {
      "text/plain": [
       "array(['garaż/miejsce parkingowe', nan], dtype=object)"
      ]
     },
     "execution_count": 2435,
     "metadata": {},
     "output_type": "execute_result"
    }
   ],
   "source": [
    "df['Miejsce parkingowe'].unique()"
   ]
  },
  {
   "cell_type": "code",
   "execution_count": 2436,
   "metadata": {},
   "outputs": [],
   "source": [
    "df['Miejsce parkingowe/Garaż'] = df['Miejsce parkingowe'].str.contains('garaż',na=False).astype(int)"
   ]
  },
  {
   "cell_type": "code",
   "execution_count": 2437,
   "metadata": {},
   "outputs": [
    {
     "data": {
      "text/plain": [
       "array(['miejskie', 'elektryczne', 'gazowe', nan, 'kotłownia', 'inne'],\n",
       "      dtype=object)"
      ]
     },
     "execution_count": 2437,
     "metadata": {},
     "output_type": "execute_result"
    }
   ],
   "source": [
    "df['Ogrzewanie'].unique()"
   ]
  },
  {
   "cell_type": "code",
   "execution_count": 2438,
   "metadata": {},
   "outputs": [],
   "source": [
    "grouped_by_type_of_heating = df.groupby('Ogrzewanie')['Cena [zł/m²]'].mean()"
   ]
  },
  {
   "cell_type": "code",
   "execution_count": 2439,
   "metadata": {},
   "outputs": [],
   "source": [
    "def find_closest_heating_type(price, avg_prices):\n",
    "    closest_heating = (avg_prices - price).abs().idxmin()\n",
    "    return closest_heating\n",
    "\n",
    "def fill_missing_heating(row, avg_prices):\n",
    "    if pd.isna(row['Ogrzewanie']):\n",
    "        return find_closest_heating_type(row['Cena'], avg_prices)\n",
    "    else:\n",
    "        return row['Ogrzewanie']\n"
   ]
  },
  {
   "cell_type": "code",
   "execution_count": 2440,
   "metadata": {},
   "outputs": [],
   "source": [
    "df['Ogrzewanie'] = df.apply(lambda row: fill_missing_heating(row, grouped_by_type_of_heating), axis=1)"
   ]
  },
  {
   "cell_type": "code",
   "execution_count": 2441,
   "metadata": {},
   "outputs": [
    {
     "data": {
      "text/plain": [
       "array(['miejskie', 'elektryczne', 'gazowe', 'kotłownia', 'inne'],\n",
       "      dtype=object)"
      ]
     },
     "execution_count": 2441,
     "metadata": {},
     "output_type": "execute_result"
    }
   ],
   "source": [
    "df['Ogrzewanie'].unique()"
   ]
  },
  {
   "cell_type": "code",
   "execution_count": 2442,
   "metadata": {},
   "outputs": [
    {
     "data": {
      "text/plain": [
       "Index(['Adres', 'Cena', 'Powierzchnia', 'Forma własności', 'Liczba pokoi',\n",
       "       'Stan wykończenia', 'Piętro', 'Balkon / ogród / taras', 'Czynsz',\n",
       "       'Miejsce parkingowe', 'Ogrzewanie', 'Certyfikat energetyczny', 'Rynek',\n",
       "       'Typ ogłoszeniodawcy', 'Dostępne od', 'Rok budowy', 'Rodzaj zabudowy',\n",
       "       'Okna', 'Winda', 'Media', 'Zabezpieczenia', 'Wyposażenie',\n",
       "       'Informacje dodatkowe', 'Materiał budynku', 'Link', 'Dzielnica',\n",
       "       'Cena [zł/m²]', 'Balkon', 'Ogródek', 'Taras',\n",
       "       'Miejsce parkingowe/Garaż'],\n",
       "      dtype='object')"
      ]
     },
     "execution_count": 2442,
     "metadata": {},
     "output_type": "execute_result"
    }
   ],
   "source": [
    "df.columns"
   ]
  },
  {
   "cell_type": "code",
   "execution_count": 2443,
   "metadata": {},
   "outputs": [],
   "source": [
    "df = df.drop(columns=['Certyfikat energetyczny'])"
   ]
  },
  {
   "cell_type": "code",
   "execution_count": 2444,
   "metadata": {},
   "outputs": [
    {
     "data": {
      "text/plain": [
       "Adres                          0\n",
       "Cena                           0\n",
       "Powierzchnia                   0\n",
       "Forma własności                0\n",
       "Liczba pokoi                   0\n",
       "Stan wykończenia               0\n",
       "Piętro                         0\n",
       "Balkon / ogród / taras       896\n",
       "Czynsz                         0\n",
       "Miejsce parkingowe          1475\n",
       "Ogrzewanie                     0\n",
       "Rynek                          0\n",
       "Typ ogłoszeniodawcy            0\n",
       "Dostępne od                 2020\n",
       "Rok budowy                   174\n",
       "Rodzaj zabudowy              218\n",
       "Okna                         830\n",
       "Winda                          0\n",
       "Media                       1307\n",
       "Zabezpieczenia               526\n",
       "Wyposażenie                  995\n",
       "Informacje dodatkowe         935\n",
       "Materiał budynku            1052\n",
       "Link                           0\n",
       "Dzielnica                      0\n",
       "Cena [zł/m²]                   0\n",
       "Balkon                         0\n",
       "Ogródek                        0\n",
       "Taras                          0\n",
       "Miejsce parkingowe/Garaż       0\n",
       "dtype: int64"
      ]
     },
     "execution_count": 2444,
     "metadata": {},
     "output_type": "execute_result"
    }
   ],
   "source": [
    "df.isnull().sum()"
   ]
  },
  {
   "cell_type": "code",
   "execution_count": 2445,
   "metadata": {},
   "outputs": [],
   "source": [
    "df = df[~df['Rynek'].isnull()]"
   ]
  },
  {
   "cell_type": "code",
   "execution_count": 2446,
   "metadata": {},
   "outputs": [
    {
     "data": {
      "text/plain": [
       "array(['prywatny', 'biuro nieruchomości', 'deweloper'], dtype=object)"
      ]
     },
     "execution_count": 2446,
     "metadata": {},
     "output_type": "execute_result"
    }
   ],
   "source": [
    "df['Typ ogłoszeniodawcy'].unique()"
   ]
  },
  {
   "cell_type": "code",
   "execution_count": 2447,
   "metadata": {},
   "outputs": [],
   "source": [
    "df = df[df['Typ ogłoszeniodawcy'].notna()]"
   ]
  },
  {
   "cell_type": "code",
   "execution_count": 2448,
   "metadata": {},
   "outputs": [],
   "source": [
    "df.drop(columns=['Dostępne od'],inplace=True)"
   ]
  },
  {
   "cell_type": "code",
   "execution_count": 2449,
   "metadata": {},
   "outputs": [],
   "source": [
    "df['Rok budowy'] = pd.to_numeric(df['Rok budowy'], errors='coerce').astype('Int64')"
   ]
  },
  {
   "cell_type": "code",
   "execution_count": 2450,
   "metadata": {},
   "outputs": [
    {
     "data": {
      "text/plain": [
       "0       2011\n",
       "3       1958\n",
       "4       2016\n",
       "5       1937\n",
       "7       2010\n",
       "        ... \n",
       "4899    1999\n",
       "4901    1936\n",
       "4903    2014\n",
       "4904    1955\n",
       "4905    1975\n",
       "Name: Rok budowy, Length: 3011, dtype: Int64"
      ]
     },
     "execution_count": 2450,
     "metadata": {},
     "output_type": "execute_result"
    }
   ],
   "source": [
    "df['Rok budowy']"
   ]
  },
  {
   "cell_type": "code",
   "execution_count": 2451,
   "metadata": {},
   "outputs": [
    {
     "data": {
      "text/plain": [
       "174"
      ]
     },
     "execution_count": 2451,
     "metadata": {},
     "output_type": "execute_result"
    }
   ],
   "source": [
    "len(df[df['Rok budowy'].isnull()])"
   ]
  },
  {
   "cell_type": "code",
   "execution_count": 2452,
   "metadata": {},
   "outputs": [
    {
     "data": {
      "text/plain": [
       "3011"
      ]
     },
     "execution_count": 2452,
     "metadata": {},
     "output_type": "execute_result"
    }
   ],
   "source": [
    "len(df)"
   ]
  },
  {
   "cell_type": "code",
   "execution_count": 2453,
   "metadata": {},
   "outputs": [],
   "source": [
    "df = df[df['Rok budowy'].notna()]"
   ]
  },
  {
   "cell_type": "code",
   "execution_count": 2454,
   "metadata": {},
   "outputs": [
    {
     "data": {
      "text/plain": [
       "array(['apartamentowiec', 'kamienica', 'blok', nan, 'szeregowiec',\n",
       "       'plomba', 'dom wolnostojący'], dtype=object)"
      ]
     },
     "execution_count": 2454,
     "metadata": {},
     "output_type": "execute_result"
    }
   ],
   "source": [
    "df['Rodzaj zabudowy'].unique()"
   ]
  },
  {
   "cell_type": "code",
   "execution_count": 2455,
   "metadata": {},
   "outputs": [],
   "source": [
    "grouped_by_type_of_building = df.groupby('Rodzaj zabudowy')['Cena [zł/m²]'].mean()"
   ]
  },
  {
   "cell_type": "code",
   "execution_count": 2456,
   "metadata": {},
   "outputs": [
    {
     "data": {
      "text/plain": [
       "Rodzaj zabudowy\n",
       "apartamentowiec     20748.869494\n",
       "blok                17158.591022\n",
       "dom wolnostojący    14149.428571\n",
       "kamienica           20844.617647\n",
       "plomba              19124.750000\n",
       "szeregowiec         13495.200000\n",
       "Name: Cena [zł/m²], dtype: float64"
      ]
     },
     "execution_count": 2456,
     "metadata": {},
     "output_type": "execute_result"
    }
   ],
   "source": [
    "grouped_by_type_of_building"
   ]
  },
  {
   "cell_type": "code",
   "execution_count": 2457,
   "metadata": {},
   "outputs": [],
   "source": [
    "def find_closest_building_type(price, avg_prices):\n",
    "    closest_building_type = (avg_prices - price).abs().idxmin()\n",
    "    return closest_building_type\n",
    "\n",
    "def fill_missing_building_type(row, avg_prices):\n",
    "    if pd.isna(row['Rodzaj zabudowy']):\n",
    "        return find_closest_building_type(row['Cena [zł/m²]'], avg_prices)\n",
    "    else:\n",
    "        return row['Rodzaj zabudowy']"
   ]
  },
  {
   "cell_type": "code",
   "execution_count": 2458,
   "metadata": {},
   "outputs": [],
   "source": [
    "df['Rodzaj zabudowy'] = df.apply(lambda row: fill_missing_building_type(row, grouped_by_type_of_building), axis=1)"
   ]
  },
  {
   "cell_type": "code",
   "execution_count": 2459,
   "metadata": {},
   "outputs": [],
   "source": [
    "df['Winda'] = df['Winda'].replace({'tak':1, 'nie':0})"
   ]
  },
  {
   "cell_type": "code",
   "execution_count": 2460,
   "metadata": {},
   "outputs": [
    {
     "data": {
      "text/plain": [
       "Adres                          0\n",
       "Cena                           0\n",
       "Powierzchnia                   0\n",
       "Forma własności                0\n",
       "Liczba pokoi                   0\n",
       "Stan wykończenia               0\n",
       "Piętro                         0\n",
       "Balkon / ogród / taras       827\n",
       "Czynsz                         0\n",
       "Miejsce parkingowe          1366\n",
       "Ogrzewanie                     0\n",
       "Rynek                          0\n",
       "Typ ogłoszeniodawcy            0\n",
       "Rok budowy                     0\n",
       "Rodzaj zabudowy                0\n",
       "Okna                         783\n",
       "Winda                          0\n",
       "Media                       1223\n",
       "Zabezpieczenia               471\n",
       "Wyposażenie                  933\n",
       "Informacje dodatkowe         884\n",
       "Materiał budynku             957\n",
       "Link                           0\n",
       "Dzielnica                      0\n",
       "Cena [zł/m²]                   0\n",
       "Balkon                         0\n",
       "Ogródek                        0\n",
       "Taras                          0\n",
       "Miejsce parkingowe/Garaż       0\n",
       "dtype: int64"
      ]
     },
     "execution_count": 2460,
     "metadata": {},
     "output_type": "execute_result"
    }
   ],
   "source": [
    "df.isnull().sum()"
   ]
  },
  {
   "cell_type": "code",
   "execution_count": 2461,
   "metadata": {},
   "outputs": [
    {
     "data": {
      "text/plain": [
       "array(['plastikowe', nan, 'drewniane', 'aluminiowe'], dtype=object)"
      ]
     },
     "execution_count": 2461,
     "metadata": {},
     "output_type": "execute_result"
    }
   ],
   "source": [
    "df['Okna'].unique()"
   ]
  },
  {
   "cell_type": "code",
   "execution_count": 2462,
   "metadata": {},
   "outputs": [],
   "source": [
    "df.drop(columns=['Okna'],inplace=True)"
   ]
  },
  {
   "cell_type": "code",
   "execution_count": 2463,
   "metadata": {},
   "outputs": [
    {
     "data": {
      "text/plain": [
       "array(['telewizja kablowa, internet, telefon', nan, 'telewizja kablowa',\n",
       "       'telewizja kablowa, internet', 'internet',\n",
       "       'telefon, internet, telewizja kablowa',\n",
       "       'internet, telewizja kablowa', 'telefon, internet', 'telefon',\n",
       "       'internet, telefon', 'telewizja kablowa, telefon',\n",
       "       'telefon, telewizja kablowa'], dtype=object)"
      ]
     },
     "execution_count": 2463,
     "metadata": {},
     "output_type": "execute_result"
    }
   ],
   "source": [
    "df['Media'].unique()"
   ]
  },
  {
   "cell_type": "code",
   "execution_count": 2464,
   "metadata": {},
   "outputs": [],
   "source": [
    "df = df.drop(columns=['Media'])"
   ]
  },
  {
   "cell_type": "code",
   "execution_count": 2465,
   "metadata": {},
   "outputs": [
    {
     "data": {
      "text/plain": [
       "array(['teren zamknięty, domofon / wideofon, monitoring / ochrona',\n",
       "       'drzwi / okna antywłamaniowe, domofon / wideofon, monitoring / ochrona',\n",
       "       'drzwi / okna antywłamaniowe, domofon / wideofon, teren zamknięty',\n",
       "       'drzwi / okna antywłamaniowe, teren zamknięty, domofon / wideofon, monitoring / ochrona',\n",
       "       'system alarmowy, drzwi / okna antywłamaniowe, teren zamknięty, domofon / wideofon, monitoring / ochrona',\n",
       "       'domofon / wideofon, rolety antywłamaniowe', 'domofon / wideofon',\n",
       "       'system alarmowy, monitoring / ochrona', nan,\n",
       "       'monitoring / ochrona', 'domofon / wideofon, monitoring / ochrona',\n",
       "       'system alarmowy, teren zamknięty, domofon / wideofon, monitoring / ochrona',\n",
       "       'drzwi / okna antywłamaniowe, teren zamknięty, domofon / wideofon, monitoring / ochrona, rolety antywłamaniowe',\n",
       "       'drzwi / okna antywłamaniowe, teren zamknięty, domofon / wideofon',\n",
       "       'system alarmowy, drzwi / okna antywłamaniowe, teren zamknięty, domofon / wideofon, monitoring / ochrona, rolety antywłamaniowe',\n",
       "       'drzwi / okna antywłamaniowe, domofon / wideofon',\n",
       "       'domofon / wideofon, teren zamknięty',\n",
       "       'teren zamknięty, domofon / wideofon',\n",
       "       'drzwi / okna antywłamaniowe, domofon / wideofon, rolety antywłamaniowe, teren zamknięty, monitoring / ochrona',\n",
       "       'monitoring / ochrona, domofon / wideofon',\n",
       "       'drzwi / okna antywłamaniowe, domofon / wideofon, teren zamknięty, monitoring / ochrona',\n",
       "       'system alarmowy, drzwi / okna antywłamaniowe, domofon / wideofon, monitoring / ochrona',\n",
       "       'drzwi / okna antywłamaniowe, teren zamknięty, monitoring / ochrona',\n",
       "       'system alarmowy, monitoring / ochrona, domofon / wideofon',\n",
       "       'system alarmowy, drzwi / okna antywłamaniowe, domofon / wideofon, rolety antywłamaniowe',\n",
       "       'system alarmowy',\n",
       "       'system alarmowy, domofon / wideofon, monitoring / ochrona',\n",
       "       'teren zamknięty, domofon / wideofon, monitoring / ochrona, rolety antywłamaniowe',\n",
       "       'drzwi / okna antywłamaniowe, teren zamknięty, domofon / wideofon, rolety antywłamaniowe',\n",
       "       'domofon / wideofon, teren zamknięty, monitoring / ochrona',\n",
       "       'drzwi / okna antywłamaniowe',\n",
       "       'system alarmowy, drzwi / okna antywłamaniowe, domofon / wideofon',\n",
       "       'drzwi / okna antywłamaniowe, domofon / wideofon, rolety antywłamaniowe',\n",
       "       'drzwi / okna antywłamaniowe, domofon / wideofon, monitoring / ochrona, rolety antywłamaniowe',\n",
       "       'system alarmowy, monitoring / ochrona, domofon / wideofon, teren zamknięty',\n",
       "       'teren zamknięty', 'teren zamknięty, monitoring / ochrona',\n",
       "       'system alarmowy, domofon / wideofon',\n",
       "       'drzwi / okna antywłamaniowe, domofon / wideofon, rolety antywłamaniowe, monitoring / ochrona',\n",
       "       'monitoring / ochrona, drzwi / okna antywłamaniowe, teren zamknięty, domofon / wideofon',\n",
       "       'rolety antywłamaniowe, system alarmowy, teren zamknięty, monitoring / ochrona, drzwi / okna antywłamaniowe, domofon / wideofon',\n",
       "       'system alarmowy, drzwi / okna antywłamaniowe, domofon / wideofon, rolety antywłamaniowe, teren zamknięty, monitoring / ochrona',\n",
       "       'system alarmowy, drzwi / okna antywłamaniowe, teren zamknięty, domofon / wideofon, rolety antywłamaniowe',\n",
       "       'drzwi / okna antywłamaniowe, teren zamknięty',\n",
       "       'drzwi / okna antywłamaniowe, monitoring / ochrona',\n",
       "       'system alarmowy, teren zamknięty, domofon / wideofon',\n",
       "       'system alarmowy, drzwi / okna antywłamaniowe, teren zamknięty, domofon / wideofon',\n",
       "       'domofon / wideofon, rolety antywłamaniowe, monitoring / ochrona',\n",
       "       'monitoring / ochrona, drzwi / okna antywłamaniowe, domofon / wideofon',\n",
       "       'domofon / wideofon, rolety antywłamaniowe, teren zamknięty',\n",
       "       'system alarmowy, drzwi / okna antywłamaniowe, domofon / wideofon, teren zamknięty, monitoring / ochrona',\n",
       "       'system alarmowy, drzwi / okna antywłamaniowe, teren zamknięty, monitoring / ochrona',\n",
       "       'system alarmowy, teren zamknięty, domofon / wideofon, monitoring / ochrona, rolety antywłamaniowe',\n",
       "       'domofon / wideofon, monitoring / ochrona, rolety antywłamaniowe',\n",
       "       'drzwi / okna antywłamaniowe, rolety antywłamaniowe',\n",
       "       'system alarmowy, domofon / wideofon, teren zamknięty, monitoring / ochrona',\n",
       "       'teren zamknięty, domofon / wideofon, rolety antywłamaniowe',\n",
       "       'system alarmowy, teren zamknięty'], dtype=object)"
      ]
     },
     "execution_count": 2465,
     "metadata": {},
     "output_type": "execute_result"
    }
   ],
   "source": [
    "df['Zabezpieczenia'].unique()"
   ]
  },
  {
   "cell_type": "code",
   "execution_count": 2466,
   "metadata": {},
   "outputs": [],
   "source": [
    "df['Domofon/Wideofon'] = (df['Zabezpieczenia'].str.contains('domofon') | df['Zabezpieczenia'].str.contains('domofon')).astype('Int64')"
   ]
  },
  {
   "cell_type": "code",
   "execution_count": 2467,
   "metadata": {},
   "outputs": [
    {
     "data": {
      "text/plain": [
       "<IntegerArray>\n",
       "[1, 0]\n",
       "Length: 2, dtype: Int64"
      ]
     },
     "execution_count": 2467,
     "metadata": {},
     "output_type": "execute_result"
    }
   ],
   "source": [
    "df['Domofon/Wideofon'].unique()"
   ]
  },
  {
   "cell_type": "code",
   "execution_count": 2468,
   "metadata": {},
   "outputs": [],
   "source": [
    "df['Teren zamknięty'] = df['Zabezpieczenia'].apply(lambda x: 1 if isinstance(x, str) and 'teren zamknięty' in x else 0).replace({True:1,False:0})"
   ]
  },
  {
   "cell_type": "code",
   "execution_count": 2469,
   "metadata": {},
   "outputs": [
    {
     "data": {
      "text/plain": [
       "array([1, 0], dtype=int64)"
      ]
     },
     "execution_count": 2469,
     "metadata": {},
     "output_type": "execute_result"
    }
   ],
   "source": [
    "df['Teren zamknięty'].unique()"
   ]
  },
  {
   "cell_type": "code",
   "execution_count": 2470,
   "metadata": {},
   "outputs": [],
   "source": [
    "df['Monitoring/Ochrona'] = (df['Zabezpieczenia'].str.contains('monitoring') | df['Zabezpieczenia'].str.contains('ochrona')).astype('Int64')"
   ]
  },
  {
   "cell_type": "code",
   "execution_count": 2471,
   "metadata": {},
   "outputs": [
    {
     "data": {
      "text/plain": [
       "<IntegerArray>\n",
       "[1, 0]\n",
       "Length: 2, dtype: Int64"
      ]
     },
     "execution_count": 2471,
     "metadata": {},
     "output_type": "execute_result"
    }
   ],
   "source": [
    "df['Monitoring/Ochrona'].unique()"
   ]
  },
  {
   "cell_type": "code",
   "execution_count": 2472,
   "metadata": {},
   "outputs": [
    {
     "data": {
      "text/plain": [
       "array(['zmywarka, lodówka, meble, piekarnik, kuchenka, telewizor, pralka',\n",
       "       'lodówka, meble, kuchenka', nan, 'pralka',\n",
       "       'zmywarka, piekarnik, kuchenka',\n",
       "       'zmywarka, lodówka, meble, piekarnik, kuchenka, pralka',\n",
       "       'zmywarka, lodówka, piekarnik, kuchenka, pralka', 'meble',\n",
       "       'zmywarka, lodówka, piekarnik, kuchenka',\n",
       "       'zmywarka, lodówka, meble, kuchenka',\n",
       "       'lodówka, meble, piekarnik, kuchenka, pralka',\n",
       "       'zmywarka, meble, piekarnik, kuchenka',\n",
       "       'zmywarka, lodówka, meble, kuchenka, pralka',\n",
       "       'meble, piekarnik, lodówka, pralka',\n",
       "       'zmywarka, lodówka, meble, piekarnik, kuchenka',\n",
       "       'zmywarka, lodówka, meble, piekarnik, kuchenka, telewizor',\n",
       "       'piekarnik, lodówka, pralka, zmywarka',\n",
       "       'meble, piekarnik, lodówka, kuchenka, pralka',\n",
       "       'zmywarka, lodówka, piekarnik, kuchenka, telewizor, pralka',\n",
       "       'meble, piekarnik, lodówka, pralka, telewizor, zmywarka',\n",
       "       'zmywarka, lodówka, piekarnik, telewizor, pralka',\n",
       "       'lodówka, meble, piekarnik, kuchenka, telewizor, pralka',\n",
       "       'lodówka, piekarnik, kuchenka',\n",
       "       'lodówka, piekarnik, kuchenka, pralka',\n",
       "       'piekarnik, lodówka, pralka, telewizor, zmywarka',\n",
       "       'meble, lodówka, piekarnik, zmywarka, kuchenka',\n",
       "       'zmywarka, lodówka', 'lodówka, piekarnik, pralka',\n",
       "       'meble, lodówka, piekarnik, zmywarka', 'meble, pralka',\n",
       "       'lodówka, meble, kuchenka, telewizor, pralka',\n",
       "       'piekarnik, lodówka, pralka',\n",
       "       'zmywarka, meble, piekarnik, kuchenka, pralka',\n",
       "       'lodówka, piekarnik, kuchenka, telewizor, pralka',\n",
       "       'meble, lodówka, piekarnik, kuchenka', 'meble, kuchenka, pralka',\n",
       "       'meble, piekarnik, lodówka, pralka, telewizor',\n",
       "       'lodówka, meble, telewizor, pralka',\n",
       "       'lodówka, meble, piekarnik, pralka', 'meble, piekarnik',\n",
       "       'zmywarka, lodówka, meble, piekarnik, telewizor, pralka',\n",
       "       'zmywarka, lodówka, meble, kuchenka, telewizor, pralka',\n",
       "       'meble, lodówka, zmywarka', 'meble, kuchenka',\n",
       "       'zmywarka, piekarnik, telewizor', 'zmywarka, piekarnik',\n",
       "       'lodówka, meble', 'zmywarka, meble',\n",
       "       'meble, lodówka, zmywarka, kuchenka', 'zmywarka, meble, kuchenka',\n",
       "       'meble, lodówka', 'lodówka, meble, piekarnik, kuchenka',\n",
       "       'zmywarka, lodówka, meble, kuchenka, telewizor',\n",
       "       'meble, piekarnik, lodówka, zmywarka',\n",
       "       'zmywarka, lodówka, piekarnik, kuchenka, telewizor',\n",
       "       'meble, piekarnik, kuchenka',\n",
       "       'zmywarka, lodówka, meble, piekarnik, pralka',\n",
       "       'piekarnik, kuchenka', 'lodówka, meble, kuchenka, pralka',\n",
       "       'meble, piekarnik, kuchenka, pralka', 'meble, lodówka, kuchenka',\n",
       "       'lodówka, piekarnik, zmywarka, kuchenka',\n",
       "       'lodówka, meble, piekarnik, telewizor, pralka',\n",
       "       'piekarnik, kuchenka, pralka', 'meble, lodówka, piekarnik',\n",
       "       'meble, telewizor, pralka', 'kuchenka, lodówka',\n",
       "       'lodówka, piekarnik, zmywarka',\n",
       "       'meble, piekarnik, kuchenka, telewizor, pralka', 'lodówka',\n",
       "       'lodówka, pralka', 'zmywarka, lodówka, kuchenka',\n",
       "       'meble, piekarnik, lodówka, pralka, zmywarka', 'zmywarka, pralka',\n",
       "       'lodówka, kuchenka', 'piekarnik, lodówka, zmywarka',\n",
       "       'lodówka, kuchenka, pralka', 'zmywarka, lodówka, meble, piekarnik',\n",
       "       'lodówka, meble, kuchenka, telewizor', 'lodówka, piekarnik',\n",
       "       'piekarnik', 'zmywarka, meble, piekarnik, pralka',\n",
       "       'zmywarka, meble, piekarnik', 'zmywarka, lodówka, piekarnik',\n",
       "       'meble, piekarnik, pralka', 'zmywarka',\n",
       "       'zmywarka, meble, piekarnik, telewizor',\n",
       "       'zmywarka, piekarnik, pralka', 'meble, lodówka, pralka, telewizor',\n",
       "       'lodówka, meble, telewizor', 'meble, lodówka, pralka, zmywarka',\n",
       "       'kuchenka', 'zmywarka, lodówka, kuchenka, pralka',\n",
       "       'meble, piekarnik, lodówka', 'piekarnik, zmywarka',\n",
       "       'lodówka, kuchenka, telewizor, pralka', 'lodówka, meble, pralka',\n",
       "       'piekarnik, pralka',\n",
       "       'zmywarka, meble, piekarnik, kuchenka, telewizor, pralka',\n",
       "       'zmywarka, lodówka, piekarnik, pralka', 'kuchenka, pralka',\n",
       "       'piekarnik, lodówka, pralka, telewizor',\n",
       "       'lodówka, meble, piekarnik', 'telewizor',\n",
       "       'zmywarka, meble, piekarnik, kuchenka, telewizor',\n",
       "       'lodówka, meble, piekarnik, kuchenka, telewizor',\n",
       "       'lodówka, zmywarka, kuchenka',\n",
       "       'meble, pralka, lodówka, piekarnik, kuchenka',\n",
       "       'meble, pralka, lodówka, piekarnik, zmywarka, kuchenka',\n",
       "       'meble, pralka, lodówka, zmywarka, kuchenka',\n",
       "       'meble, pralka, lodówka, kuchenka', 'meble, telewizor',\n",
       "       'meble, piekarnik, pralka, zmywarka', 'meble, piekarnik, zmywarka',\n",
       "       'meble, kuchenka, telewizor', 'zmywarka, lodówka, pralka',\n",
       "       'zmywarka, telewizor, piekarnik, meble, lodówka, kuchenka, pralka',\n",
       "       'kuchenka, meble, lodówka, piekarnik',\n",
       "       'meble, piekarnik, zmywarka, kuchenka', 'lodówka, zmywarka',\n",
       "       'piekarnik, zmywarka, kuchenka'], dtype=object)"
      ]
     },
     "execution_count": 2472,
     "metadata": {},
     "output_type": "execute_result"
    }
   ],
   "source": [
    "df['Wyposażenie'].unique()"
   ]
  },
  {
   "cell_type": "code",
   "execution_count": 2473,
   "metadata": {},
   "outputs": [],
   "source": [
    "def get_unique_values(df,column):\n",
    "    unique_values = set()\n",
    "    df[column].dropna().apply(lambda x: unique_values.update(x.split(', ')))\n",
    "    return unique_values\n",
    "\n",
    "unique_values = get_unique_values(df,'Wyposażenie')"
   ]
  },
  {
   "cell_type": "code",
   "execution_count": 2474,
   "metadata": {},
   "outputs": [
    {
     "data": {
      "text/plain": [
       "{'kuchenka',\n",
       " 'lodówka',\n",
       " 'meble',\n",
       " 'piekarnik',\n",
       " 'pralka',\n",
       " 'telewizor',\n",
       " 'zmywarka'}"
      ]
     },
     "execution_count": 2474,
     "metadata": {},
     "output_type": "execute_result"
    }
   ],
   "source": [
    "unique_values"
   ]
  },
  {
   "cell_type": "code",
   "execution_count": 2475,
   "metadata": {},
   "outputs": [],
   "source": [
    "for item in unique_values:\n",
    "    capitalized_item = item.capitalize()\n",
    "    df[item] = df['Wyposażenie'].str.contains(item, na=False).astype(int)"
   ]
  },
  {
   "cell_type": "code",
   "execution_count": 2476,
   "metadata": {},
   "outputs": [
    {
     "data": {
      "text/plain": [
       "array(['klimatyzacja, oddzielna kuchnia', 'piwnica', 'pom. użytkowe',\n",
       "       'piwnica, oddzielna kuchnia', 'klimatyzacja',\n",
       "       'piwnica, oddzielna kuchnia, pom. użytkowe', 'oddzielna kuchnia',\n",
       "       'piwnica, pom. użytkowe', 'oddzielna kuchnia, pom. użytkowe',\n",
       "       'klimatyzacja, pom. użytkowe', nan, 'piwnica, dwupoziomowe',\n",
       "       'klimatyzacja, oddzielna kuchnia, pom. użytkowe',\n",
       "       'klimatyzacja, piwnica',\n",
       "       'klimatyzacja, dwupoziomowe, pom. użytkowe',\n",
       "       'klimatyzacja, dwupoziomowe',\n",
       "       'klimatyzacja, piwnica, oddzielna kuchnia',\n",
       "       'oddzielna kuchnia, dwupoziomowe',\n",
       "       'piwnica, dwupoziomowe, pom. użytkowe',\n",
       "       'klimatyzacja, piwnica, pom. użytkowe', 'dwupoziomowe',\n",
       "       'pom. użytkowe, klimatyzacja, piwnica, dwupoziomowe',\n",
       "       'piwnica, oddzielna kuchnia, dwupoziomowe',\n",
       "       'piwnica, oddzielna kuchnia, dwupoziomowe, pom. użytkowe',\n",
       "       'dwupoziomowe, pom. użytkowe',\n",
       "       'klimatyzacja, piwnica, dwupoziomowe',\n",
       "       'klimatyzacja, oddzielna kuchnia, dwupoziomowe',\n",
       "       'klimatyzacja, piwnica, oddzielna kuchnia, pom. użytkowe',\n",
       "       'pom. użytkowe, piwnica', 'dwupoziomowe, oddzielna kuchnia'],\n",
       "      dtype=object)"
      ]
     },
     "execution_count": 2476,
     "metadata": {},
     "output_type": "execute_result"
    }
   ],
   "source": [
    "df['Informacje dodatkowe'].unique()"
   ]
  },
  {
   "cell_type": "code",
   "execution_count": 2477,
   "metadata": {},
   "outputs": [],
   "source": [
    "df['Klimatyzacja'] = df['Informacje dodatkowe'].str.contains('klimatyzacja',na=False).astype(int)"
   ]
  },
  {
   "cell_type": "code",
   "execution_count": 2478,
   "metadata": {},
   "outputs": [],
   "source": [
    "df.drop(columns=['Materiał budynku','Balkon / ogród / taras','Miejsce parkingowe','Zabezpieczenia','Wyposażenie','Informacje dodatkowe','Link'],inplace=True)"
   ]
  },
  {
   "cell_type": "code",
   "execution_count": 2479,
   "metadata": {},
   "outputs": [],
   "source": [
    "df.to_csv(\"C:/Users/Lukasz/Desktop/Project - Otodom/offers_details_2_cleaned.csv\",index=False)"
   ]
  }
 ],
 "metadata": {
  "kernelspec": {
   "display_name": "Python 3",
   "language": "python",
   "name": "python3"
  },
  "language_info": {
   "codemirror_mode": {
    "name": "ipython",
    "version": 3
   },
   "file_extension": ".py",
   "mimetype": "text/x-python",
   "name": "python",
   "nbconvert_exporter": "python",
   "pygments_lexer": "ipython3",
   "version": "3.11.9"
  }
 },
 "nbformat": 4,
 "nbformat_minor": 2
}
